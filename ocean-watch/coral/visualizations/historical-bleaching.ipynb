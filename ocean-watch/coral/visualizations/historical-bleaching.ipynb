{
 "cells": [
  {
   "cell_type": "markdown",
   "metadata": {},
   "source": [
    "# Historical Coral Bleaching\n",
    "Percentage of total reef area situated in waters where various types of coral bleaching conditions occurred between 1985 and 2008.\n",
    "\n",
    "_Author: Peter Kerins_  \n",
    "_Created: 29 Apr 2021_  \n",
    "_Environment: jupyterlab_  "
   ]
  },
  {
   "cell_type": "markdown",
   "metadata": {},
   "source": [
    "## Style\n",
    "For the moment, no chart, but that may change, so this notebook is being created to organize the relevant resources and serve as a placeholder."
   ]
  },
  {
   "cell_type": "markdown",
   "metadata": {},
   "source": [
    "### Data\n",
    "[ocn.calcs.002 Historical Heat Stress Event Areas by MEOW](https://resourcewatch.carto.com/u/wri-rw/dataset/ocn_calcs_002_reef_hse_area_by_meow)\n",
    "\n",
    "Calculations based on:  \n",
    "- [bio.004.rw2 Coral Reef Locations](https://resourcewatch.carto.com/u/wri-rw/tables/bio_004a_coral_reef_locations_edit/)  \n",
    "- [ocn.008.rw0 Historical Coral Bleaching Stress Frequency](https://code.earthengine.google.com/?asset=projects/resource-watch-gee/ocn_008_historical_coral_bleaching_stress_frequency)\n",
    "\n",
    "[Google Earth Engine calculation script](https://code.earthengine.google.com/ca2820a35198fa3137d5dc203989c2b0)"
   ]
  },
  {
   "cell_type": "markdown",
   "metadata": {},
   "source": [
    "## Preparation"
   ]
  },
  {
   "cell_type": "code",
   "execution_count": 1,
   "metadata": {
    "jupyter": {
     "source_hidden": true
    },
    "tags": []
   },
   "outputs": [],
   "source": [
    "import json\n",
    "from vega import Vega\n",
    "from IPython.display import display"
   ]
  },
  {
   "cell_type": "code",
   "execution_count": 2,
   "metadata": {
    "jupyter": {
     "source_hidden": true
    },
    "tags": []
   },
   "outputs": [],
   "source": [
    "def Vega(spec):\n",
    "    bundle = {}\n",
    "    bundle['application/vnd.vega.v5+json'] = spec\n",
    "    display(bundle, raw=True)"
   ]
  },
  {
   "cell_type": "code",
   "execution_count": 3,
   "metadata": {
    "jupyter": {
     "source_hidden": true
    },
    "tags": []
   },
   "outputs": [],
   "source": [
    "widget_width = 400\n",
    "widget_height = 300"
   ]
  },
  {
   "cell_type": "markdown",
   "metadata": {},
   "source": [
    "# ~Specifications~\n",
    "No charts right now"
   ]
  },
  {
   "cell_type": "markdown",
   "metadata": {},
   "source": [
    "## Global"
   ]
  },
  {
   "cell_type": "markdown",
   "metadata": {},
   "source": [
    "### SQL"
   ]
  },
  {
   "cell_type": "markdown",
   "metadata": {},
   "source": [
    "```sql\n",
    "SELECT gcrmn_reg, \n",
    "  SUM(areagt0) AS gt0_sum, SUM(areage4) AS ge4_sum, SUM(areage8) AS ge8_sum, SUM(areaall) AS total_sum,\n",
    "  SUM(areagt0)/SUM(areaall) AS gt0_fraction,\n",
    "  SUM(areage4)/SUM(areaall) AS ge4_fraction,\n",
    "  SUM(areage8)/SUM(areaall) AS ge8_fraction\n",
    "FROM ocn_calcs_002_reef_hse_area_by_meow\n",
    "GROUP BY gcrmn_reg\n",
    "ORDER BY gcrmn_reg ASC\n",
    "```"
   ]
  },
  {
   "cell_type": "markdown",
   "metadata": {},
   "source": [
    "[Results (JSON)](https://wri-rw.carto.com/api/v2/sql?q=SELECT%20gcrmn_reg,%20SUM(areagt0)%20AS%20gt0_sum,%20SUM(areage4)%20AS%20ge4_sum,%20SUM(areage8)%20AS%20ge8_sum,%20SUM(areaall)%20AS%20total_sum,%20SUM(areagt0)/SUM(areaall)%20AS%20gt0_fraction,%20SUM(areage4)/SUM(areaall)%20AS%20ge4_fraction,%20SUM(areage8)/SUM(areaall)%20AS%20ge8_fraction%20FROM%20ocn_calcs_002_reef_hse_area_by_meow%20GROUP%20BY%20gcrmn_reg%20ORDER%20BY%20gcrmn_reg%20ASC)"
   ]
  },
  {
   "cell_type": "code",
   "execution_count": 1,
   "metadata": {},
   "outputs": [],
   "source": [
    "# spec=json.loads(\"\"\"\n",
    "\n",
    "# \"\"\")\n",
    "# vegaview=dict(spec)\n",
    "# Vega(vegaview)"
   ]
  },
  {
   "cell_type": "markdown",
   "metadata": {},
   "source": [
    "## ~Regional~"
   ]
  },
  {
   "cell_type": "markdown",
   "metadata": {},
   "source": [
    "### SQL\n",
    "For example, `gcrmn_reg = 'South Asia'`"
   ]
  },
  {
   "cell_type": "markdown",
   "metadata": {},
   "source": [
    "```sql\n",
    "SELECT gcrmn_reg, \n",
    "  SUM(areagt0) AS gt0_sum, SUM(areage4) AS ge4_sum, SUM(areage8) AS ge8_sum, SUM(areaall) AS total_sum,\n",
    "  SUM(areagt0)/SUM(areaall) AS gt0_fraction,\n",
    "  SUM(areage4)/SUM(areaall) AS ge4_fraction,\n",
    "  SUM(areage8)/SUM(areaall) AS ge8_fraction\n",
    "FROM ocn_calcs_002_reef_hse_area_by_meow\n",
    "WHERE gcrmn_reg = 'South Asia'\n",
    "GROUP BY gcrmn_reg\n",
    "ORDER BY gcrmn_reg ASC\n",
    "```"
   ]
  },
  {
   "cell_type": "markdown",
   "metadata": {},
   "source": [
    "### ~Specification~"
   ]
  },
  {
   "cell_type": "code",
   "execution_count": 2,
   "metadata": {
    "tags": []
   },
   "outputs": [],
   "source": [
    "# spec=json.loads(\"\"\"\n",
    "\n",
    "# \"\"\")\n",
    "# vega_view=dict(spec)\n",
    "# vega_view['width']=widget_width\n",
    "# vega_view['height']=widget_height\n",
    "# Vega(vega_view)"
   ]
  }
 ],
 "metadata": {
  "kernelspec": {
   "display_name": "rw",
   "language": "python",
   "name": "rw"
  },
  "language_info": {
   "codemirror_mode": {
    "name": "ipython",
    "version": 3
   },
   "file_extension": ".py",
   "mimetype": "text/x-python",
   "name": "python",
   "nbconvert_exporter": "python",
   "pygments_lexer": "ipython3",
   "version": "3.7.10"
  }
 },
 "nbformat": 4,
 "nbformat_minor": 4
}
