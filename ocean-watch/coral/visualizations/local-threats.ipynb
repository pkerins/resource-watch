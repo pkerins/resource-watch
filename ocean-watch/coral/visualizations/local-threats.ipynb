{
 "cells": [
  {
   "cell_type": "markdown",
   "metadata": {},
   "source": [
    "# Local Threats\n",
    "Percentage of total reef area where threats from various sources are low, medium, high, or very high.\n",
    "\n",
    "_Author: Peter Kerins_  \n",
    "_Created: 6 May 2021_  \n",
    "_Environment: jupyterlab_  "
   ]
  },
  {
   "cell_type": "markdown",
   "metadata": {},
   "source": [
    "## Style\n",
    "- Vega chart\n",
    "- Vertical bar chart\n",
    "- Value is fraction at each threat level\n",
    "- Single stacked, normalized bar per category"
   ]
  },
  {
   "cell_type": "markdown",
   "metadata": {},
   "source": [
    "### Data\n",
    "[ocn.calcs.007 Coral Reef Local Threats](https://resourcewatch.carto.com/u/wri-rw/dataset/ocn_calcs_007_local_threats)  \n",
    "\n",
    "Figures from [Reefs at Risk Revisited](https://www.wri.org/research/reefs-risk-revisited)  "
   ]
  },
  {
   "cell_type": "markdown",
   "metadata": {},
   "source": [
    "## Preparation"
   ]
  },
  {
   "cell_type": "code",
   "execution_count": 1,
   "metadata": {
    "tags": []
   },
   "outputs": [],
   "source": [
    "import json\n",
    "from vega import Vega\n",
    "from IPython.display import display"
   ]
  },
  {
   "cell_type": "code",
   "execution_count": 2,
   "metadata": {
    "tags": []
   },
   "outputs": [],
   "source": [
    "def Vega(spec):\n",
    "    bundle = {}\n",
    "    bundle['application/vnd.vega.v5+json'] = spec\n",
    "    display(bundle, raw=True)"
   ]
  },
  {
   "cell_type": "code",
   "execution_count": 3,
   "metadata": {
    "tags": []
   },
   "outputs": [],
   "source": [
    "widget_width = 400\n",
    "widget_height = 300"
   ]
  },
  {
   "cell_type": "markdown",
   "metadata": {},
   "source": [
    "# Specifications"
   ]
  },
  {
   "cell_type": "markdown",
   "metadata": {},
   "source": [
    "## ~Global~\n",
    "Global version of \"local threats\" probably does not make sense.  "
   ]
  },
  {
   "cell_type": "markdown",
   "metadata": {},
   "source": [
    "## Regional"
   ]
  },
  {
   "cell_type": "markdown",
   "metadata": {},
   "source": [
    "### SQL\n",
    "Note that regional filtering happens within widget via transform"
   ]
  },
  {
   "cell_type": "markdown",
   "metadata": {},
   "source": [
    "```sql\n",
    "SELECT * FROM ocn_calcs_007_local_threats\n",
    "```"
   ]
  },
  {
   "cell_type": "markdown",
   "metadata": {},
   "source": [
    "### Specification"
   ]
  },
  {
   "cell_type": "code",
   "execution_count": 6,
   "metadata": {
    "tags": []
   },
   "outputs": [
    {
     "data": {
      "application/vnd.vega.v5+json": {
       "$schema": "https://vega.github.io/schema/vega/v5.json",
       "autosize": {
        "contains": "padding",
        "resize": true,
        "type": "pad"
       },
       "axes": [
        {
         "format": "%",
         "orient": "left",
         "scale": "yscale",
         "title": "Percentage of coral reefs"
        },
        {
         "encode": {
          "labels": {
           "hover": {
            "fill": {
             "value": "firebrick"
            }
           },
           "interactive": true,
           "update": {
            "align": {
             "value": "center"
            },
            "angle": {
             "value": 0
            },
            "baseline": {
             "value": "middle"
            },
            "dx": {
             "value": 0
            },
            "dy": {
             "value": 5
            },
            "fill": {
             "value": "black"
            },
            "fontSize": {
             "value": 10
            },
            "lineBreak": {
             "value": " "
            },
            "text": {
             "signal": "datum.value"
            }
           }
          }
         },
         "labelPadding": 4,
         "orient": "bottom",
         "scale": "xscale",
         "tickSize": 0,
         "zindex": 1
        }
       ],
       "data": [
        {
         "format": {
          "property": "rows",
          "type": "json"
         },
         "name": "table",
         "transform": [
          {
           "expr": "datum.gcrmn_reg == region_name",
           "type": "filter"
          },
          {
           "as": "fraction_low",
           "expr": "datum.area_low/datum.area_total",
           "type": "formula"
          },
          {
           "as": "fraction_medium",
           "expr": "datum.area_medium/datum.area_total",
           "type": "formula"
          },
          {
           "as": "fraction_high",
           "expr": "datum.area_high/datum.area_total",
           "type": "formula"
          },
          {
           "as": "fraction_veryhigh",
           "expr": "datum.area_veryhigh/datum.area_total",
           "type": "formula"
          },
          {
           "as": "sum_low-medium",
           "expr": "datum.fraction_low+datum.fraction_medium",
           "type": "formula"
          },
          {
           "as": "sum_low-medium-high",
           "expr": "datum.fraction_low+datum.fraction_medium+datum.fraction_high",
           "type": "formula"
          },
          {
           "as": "sum_veryhigh-high",
           "expr": "datum.fraction_veryhigh+datum.fraction_high",
           "type": "formula"
          },
          {
           "as": "sum_veryhigh-high-medium",
           "expr": "datum.fraction_veryhigh+datum.fraction_high+datum.fraction_medium",
           "type": "formula"
          }
         ],
         "url": {
          "signal": "url_param"
         }
        }
       ],
       "description": "Fraction of coral reef area under various magnitudes of local threat, separated by type of threat ",
       "height": 300,
       "legends": [
        {
         "fill": "color",
         "orient": "right",
         "title": [
          "Threat level"
         ]
        }
       ],
       "marks": [
        {
         "encode": {
          "enter": {
           "fill": {
            "scale": "color",
            "value": "Very High"
           },
           "tooltip": {
            "signal": "{title:datum.threat, 'Threat level':'Very High', 'Percentage of reef area':format(datum.fraction_veryhigh,'.1%')}"
           },
           "width": {
            "band": 1,
            "scale": "xscale"
           },
           "x": {
            "field": "threat",
            "scale": "xscale"
           },
           "y": {
            "scale": "yscale",
            "value": "0"
           },
           "y2": {
            "field": "fraction_veryhigh",
            "scale": "yscale"
           }
          },
          "hover": {
           "fillOpacity": {
            "value": 0.5
           }
          },
          "update": {
           "fillOpacity": {
            "value": 1
           }
          }
         },
         "from": {
          "data": "table"
         },
         "name": "bars_veryhigh",
         "type": "rect"
        },
        {
         "encode": {
          "enter": {
           "fill": {
            "scale": "color",
            "value": "High"
           },
           "tooltip": {
            "signal": "{title:datum.threat, 'Threat level':'High', 'Percentage of reef area':format(datum.fraction_high,'.1%')}"
           },
           "width": {
            "band": 1,
            "scale": "xscale"
           },
           "x": {
            "field": "threat",
            "scale": "xscale"
           },
           "y": {
            "field": "fraction_veryhigh",
            "scale": "yscale"
           },
           "y2": {
            "field": "sum_veryhigh-high",
            "scale": "yscale"
           }
          },
          "hover": {
           "fillOpacity": {
            "value": 0.5
           }
          },
          "update": {
           "fillOpacity": {
            "value": 1
           }
          }
         },
         "from": {
          "data": "table"
         },
         "name": "bars_high",
         "type": "rect"
        },
        {
         "encode": {
          "enter": {
           "fill": {
            "scale": "color",
            "value": "Medium"
           },
           "tooltip": {
            "signal": "{title:datum.threat, 'Threat level':'Medium', 'Percentage of reef area':format(datum.fraction_medium,'.1%')}"
           },
           "width": {
            "band": 1,
            "scale": "xscale"
           },
           "x": {
            "field": "threat",
            "scale": "xscale"
           },
           "y": {
            "field": "sum_veryhigh-high",
            "scale": "yscale"
           },
           "y2": {
            "field": "sum_veryhigh-high-medium",
            "scale": "yscale"
           }
          },
          "hover": {
           "fillOpacity": {
            "value": 0.5
           }
          },
          "update": {
           "fillOpacity": {
            "value": 1
           }
          }
         },
         "from": {
          "data": "table"
         },
         "name": "bars_medium",
         "type": "rect"
        },
        {
         "encode": {
          "enter": {
           "fill": {
            "scale": "color",
            "value": "Low"
           },
           "tooltip": {
            "signal": "{title:datum.threat, 'Threat level':'Low', 'Percentage of reef area':format(datum.fraction_low,'.1%')}"
           },
           "width": {
            "band": 1,
            "scale": "xscale"
           },
           "x": {
            "field": "threat",
            "scale": "xscale"
           },
           "y": {
            "field": "sum_veryhigh-high-medium",
            "scale": "yscale"
           },
           "y2": {
            "scale": "yscale",
            "value": 1
           }
          },
          "hover": {
           "fillOpacity": {
            "value": 0.5
           }
          },
          "update": {
           "fillOpacity": {
            "value": 1
           }
          }
         },
         "from": {
          "data": "table"
         },
         "name": "bars_low",
         "type": "rect"
        }
       ],
       "padding": {
        "bottom": 5,
        "left": 0,
        "right": 0,
        "top": 0
       },
       "scales": [
        {
         "domain": {
          "data": "table",
          "field": "threat"
         },
         "name": "xscale",
         "padding": 0.2,
         "range": "width",
         "type": "band"
        },
        {
         "domain": [
          0,
          1
         ],
         "name": "yscale",
         "nice": true,
         "range": "height",
         "round": true,
         "type": "linear",
         "zero": true
        },
        {
         "domain": [
          "Low",
          "Medium",
          "High",
          "Very High"
         ],
         "name": "color",
         "range": [
          "#999DFB",
          "#FFC000",
          "#FF250B",
          "#953735"
         ],
         "type": "ordinal"
        }
       ],
       "signals": [
        {
         "name": "hover",
         "on": [
          {
           "events": "@cell:mouseover",
           "update": "datum"
          },
          {
           "events": "@cell:mouseout",
           "update": "null"
          }
         ],
         "value": null
        },
        {
         "bind": {
          "input": "select",
          "name": "GCRMN Region ",
          "options": [
           "Australia",
           "Brazil",
           "Caribbean",
           "East Asia",
           "ETP",
           "Pacific",
           "PERSGA",
           "ROPME",
           "South Asia",
           "WIO"
          ]
         },
         "description": "Name of GCRMN region",
         "name": "region_name",
         "value": "Caribbean"
        },
        {
         "description": "Unchanging URL for pulling data",
         "name": "url_param",
         "update": "'https://wri-rw.carto.com/api/v2/sql?q=SELECT * FROM ocn_calcs_007_local_threats'"
        }
       ],
       "title": {
        "text": {
         "signal": "'Local Threats to Coral Reefs in '+region_name"
        }
       },
       "width": 400
      },
      "image/png": "[encoded data removed]"
     },
     "metadata": {},
     "output_type": "display_data"
    }
   ],
   "source": [
    "spec=json.loads(\"\"\"\n",
    "{\n",
    "  \"$schema\": \"https://vega.github.io/schema/vega/v5.json\",\n",
    "  \"description\": \"Fraction of coral reef area under various magnitudes of local threat, separated by type of threat \",\n",
    "  \"width\": 300,\n",
    "  \"height\": 250,\n",
    "  \"padding\": {\n",
    "    \"left\": 0, \n",
    "    \"top\": 0, \n",
    "    \"right\": 0, \n",
    "    \"bottom\": 5\n",
    "  },\n",
    "  \"autosize\": {\"type\": \"pad\", \"resize\": true, \"contains\": \"padding\"},\n",
    "  \"signals\": [\n",
    "    {\n",
    "      \"name\": \"hover\",\n",
    "      \"value\": null,\n",
    "      \"on\": [\n",
    "        {\"events\": \"@cell:mouseover\", \"update\": \"datum\"},\n",
    "        {\"events\": \"@cell:mouseout\", \"update\": \"null\"}\n",
    "      ]\n",
    "    },\n",
    "    {\n",
    "      \"name\": \"region_name\",\n",
    "      \"description\": \"Name of GCRMN region\",\n",
    "      \"bind\": {\n",
    "        \"input\": \"select\",\n",
    "        \"options\": [\n",
    "          \"Australia\",\n",
    "          \"Brazil\",\n",
    "          \"Caribbean\",\n",
    "          \"East Asia\",\n",
    "          \"ETP\",\n",
    "          \"Pacific\",\n",
    "          \"PERSGA\",\n",
    "          \"ROPME\",\n",
    "          \"South Asia\",\n",
    "          \"WIO\"\n",
    "        ],\n",
    "        \"name\": \"GCRMN Region \"\n",
    "      },\n",
    "      \"value\": \"Caribbean\"\n",
    "    },\n",
    "    {\n",
    "      \"name\": \"url_param\",\n",
    "      \"description\": \"Unchanging URL for pulling data\",\n",
    "      \"update\": \"'https://wri-rw.carto.com/api/v2/sql?q=SELECT * FROM ocn_calcs_007_local_threats'\"\n",
    "    }\n",
    "  ],\n",
    "  \"data\": [\n",
    "    {\n",
    "      \"name\": \"table\",\n",
    "      \"url\": {\n",
    "        \"signal\": \"url_param\"\n",
    "      },\n",
    "      \"format\": {\"type\": \"json\", \"property\": \"rows\"},\n",
    "      \"transform\": [\n",
    "        {\n",
    "          \"type\": \"filter\", \n",
    "          \"expr\": \"datum.gcrmn_reg == region_name\"\n",
    "        },\n",
    "        {\n",
    "          \"type\": \"formula\",\n",
    "          \"expr\": \"datum.area_low/datum.area_total\",\n",
    "          \"as\": \"fraction_low\"\n",
    "        },\n",
    "        {\n",
    "          \"type\": \"formula\",\n",
    "          \"expr\": \"datum.area_medium/datum.area_total\",\n",
    "          \"as\": \"fraction_medium\"\n",
    "        },\n",
    "        {\n",
    "          \"type\": \"formula\",\n",
    "          \"expr\": \"datum.area_high/datum.area_total\",\n",
    "          \"as\": \"fraction_high\"\n",
    "        },\n",
    "        {\n",
    "          \"type\": \"formula\",\n",
    "          \"expr\": \"datum.area_veryhigh/datum.area_total\",\n",
    "          \"as\": \"fraction_veryhigh\"\n",
    "        },\n",
    "        {\n",
    "          \"type\": \"formula\",\n",
    "          \"expr\": \"datum.fraction_low+datum.fraction_medium\",\n",
    "          \"as\": \"sum_low-medium\"\n",
    "        },\n",
    "        {\n",
    "          \"type\": \"formula\",\n",
    "          \"expr\": \"datum.fraction_low+datum.fraction_medium+datum.fraction_high\",\n",
    "          \"as\": \"sum_low-medium-high\"\n",
    "        },\n",
    "        {\n",
    "          \"type\": \"formula\",\n",
    "          \"expr\": \"datum.fraction_veryhigh+datum.fraction_high\",\n",
    "          \"as\": \"sum_veryhigh-high\"\n",
    "        },\n",
    "        {\n",
    "          \"type\": \"formula\",\n",
    "          \"expr\": \"datum.fraction_veryhigh+datum.fraction_high+datum.fraction_medium\",\n",
    "          \"as\": \"sum_veryhigh-high-medium\"\n",
    "        }\n",
    "      ]\n",
    "    }\n",
    "  ],\n",
    "  \"title\": {\n",
    "    \"text\": \n",
    "      {\"signal\": \"'Local Threats to Coral Reefs in '+region_name\"}\n",
    "  },\n",
    "  \"scales\": [\n",
    "    {\n",
    "      \"name\": \"xscale\",\n",
    "      \"type\": \"band\",\n",
    "      \"domain\": {\"data\": \"table\", \"field\": \"threat\"},\n",
    "      \"range\": \"width\",\n",
    "      \"padding\": 0.2\n",
    "    },\n",
    "    {\n",
    "      \"name\": \"yscale\",\n",
    "      \"type\": \"linear\",\n",
    "      \"domain\": [0,1],\n",
    "      \"range\": \"height\",\n",
    "      \"round\": true,\n",
    "      \"zero\": true,\n",
    "      \"nice\": true\n",
    "    },\n",
    "    {\n",
    "      \"name\": \"color\",\n",
    "      \"type\": \"ordinal\",\n",
    "      \"domain\": [\n",
    "        \"Low\",\n",
    "        \"Medium\",\n",
    "        \"High\",\n",
    "        \"Very High\"\n",
    "      ],\n",
    "      \"range\": [\n",
    "        \"#999DFB\",\n",
    "        \"#FFC000\",\n",
    "        \"#FF250B\",\n",
    "        \"#953735\"\n",
    "      ]\n",
    "    }\n",
    "  ],\n",
    "  \"axes\": [\n",
    "    {\n",
    "      \"orient\": \"left\",\n",
    "      \"scale\": \"yscale\",\n",
    "      \"title\": \"Percentage of coral reefs\",\n",
    "      \"format\": \"%\"\n",
    "    },\n",
    "    {\n",
    "      \"orient\": \"bottom\",\n",
    "      \"scale\": \"xscale\",\n",
    "      \"tickSize\": 0,\n",
    "      \"labelPadding\": 4,\n",
    "      \"zindex\": 1,\n",
    "      \"encode\": {\n",
    "        \"labels\": {\n",
    "          \"interactive\": true,\n",
    "          \"update\": {\n",
    "            \"text\": {\"signal\": \"datum.value\"},\n",
    "            \"fill\": {\"value\": \"black\"},\n",
    "            \"angle\": {\"value\": 0},\n",
    "            \"fontSize\": {\"value\": 10},\n",
    "            \"align\": {\"value\": \"center\"},\n",
    "            \"baseline\": {\"value\": \"middle\"},\n",
    "            \"dy\": {\"value\": 5},\n",
    "            \"dx\": {\"value\": 0},\n",
    "            \"lineBreak\": {\"value\": \" \"}\n",
    "          },\n",
    "          \"hover\": {\"fill\": {\"value\": \"firebrick\"}}\n",
    "        }\n",
    "      }\n",
    "    }\n",
    "  ],\n",
    "  \"marks\": [\n",
    "    {\n",
    "      \"name\": \"bars_veryhigh\",\n",
    "      \"from\": {\"data\": \"table\"},\n",
    "      \"type\": \"rect\",\n",
    "      \"encode\": {\n",
    "        \"enter\": {\n",
    "          \"x\": {\"scale\": \"xscale\", \"field\": \"threat\"},\n",
    "          \"width\": {\"scale\": \"xscale\", \"band\": 1},\n",
    "          \"y\": {\"scale\": \"yscale\", \"value\": \"0\"},\n",
    "          \"y2\": {\"scale\": \"yscale\", \"field\": \"fraction_veryhigh\"},\n",
    "          \"fill\": {\"scale\": \"color\", \"value\": \"Very High\"},\n",
    "          \"tooltip\": {\n",
    "            \"signal\": \"{title:datum.threat, 'Threat level':'Very High', 'Percentage of reef area':format(datum.fraction_veryhigh,'.1%')}\"\n",
    "          }\n",
    "        },\n",
    "        \"hover\": {\"fillOpacity\": {\"value\": 0.5}},\n",
    "        \"update\": {\"fillOpacity\": {\"value\": 1}}\n",
    "      }\n",
    "    },\n",
    "    {\n",
    "      \"name\": \"bars_high\",\n",
    "      \"from\": {\"data\": \"table\"},\n",
    "      \"type\": \"rect\",\n",
    "      \"encode\": {\n",
    "        \"enter\": {\n",
    "          \"x\": {\"scale\": \"xscale\", \"field\": \"threat\"},\n",
    "          \"width\": {\"scale\": \"xscale\", \"band\": 1},\n",
    "          \"y\": {\"scale\": \"yscale\", \"field\": \"fraction_veryhigh\"},\n",
    "          \"y2\": {\"scale\": \"yscale\", \"field\": \"sum_veryhigh-high\"},\n",
    "          \"fill\": {\"scale\": \"color\", \"value\": \"High\"},\n",
    "          \"tooltip\": {\n",
    "            \"signal\": \"{title:datum.threat, 'Threat level':'High', 'Percentage of reef area':format(datum.fraction_high,'.1%')}\"\n",
    "          }\n",
    "        },\n",
    "        \"hover\": {\"fillOpacity\": {\"value\": 0.5}},\n",
    "        \"update\": {\"fillOpacity\": {\"value\": 1}}\n",
    "      }\n",
    "    },\n",
    "    {\n",
    "      \"name\": \"bars_medium\",\n",
    "      \"from\": {\"data\": \"table\"},\n",
    "      \"type\": \"rect\",\n",
    "      \"encode\": {\n",
    "        \"enter\": {\n",
    "          \"x\": {\"scale\": \"xscale\", \"field\": \"threat\"},\n",
    "          \"width\": {\"scale\": \"xscale\", \"band\": 1},\n",
    "          \"y\": {\"scale\": \"yscale\", \"field\": \"sum_veryhigh-high\"},\n",
    "          \"y2\": {\"scale\": \"yscale\", \"field\": \"sum_veryhigh-high-medium\"},\n",
    "          \"fill\": {\"scale\": \"color\", \"value\": \"Medium\"},\n",
    "          \"tooltip\": {\n",
    "            \"signal\": \"{title:datum.threat, 'Threat level':'Medium', 'Percentage of reef area':format(datum.fraction_medium,'.1%')}\"\n",
    "          }\n",
    "        },\n",
    "        \"hover\": {\"fillOpacity\": {\"value\": 0.5}},\n",
    "        \"update\": {\"fillOpacity\": {\"value\": 1}}\n",
    "      }\n",
    "    },\n",
    "    {\n",
    "      \"name\": \"bars_low\",\n",
    "      \"from\": {\"data\": \"table\"},\n",
    "      \"type\": \"rect\",\n",
    "      \"encode\": {\n",
    "        \"enter\": {\n",
    "          \"x\": {\"scale\": \"xscale\", \"field\": \"threat\"},\n",
    "          \"width\": {\"scale\": \"xscale\", \"band\": 1},\n",
    "          \"y\": {\"scale\": \"yscale\", \"field\": \"sum_veryhigh-high-medium\"},\n",
    "          \"y2\": {\"scale\": \"yscale\", \"value\": 1.0},\n",
    "          \"fill\": {\"scale\": \"color\", \"value\": \"Low\"},\n",
    "          \"tooltip\": {\n",
    "            \"signal\": \"{title:datum.threat, 'Threat level':'Low', 'Percentage of reef area':format(datum.fraction_low,'.1%')}\"\n",
    "          }\n",
    "        },\n",
    "        \"hover\": {\"fillOpacity\": {\"value\": 0.5}},\n",
    "        \"update\": {\"fillOpacity\": {\"value\": 1}}\n",
    "      }\n",
    "    }\n",
    "  ],\n",
    "  \"legends\": [\n",
    "    {\n",
    "      \"title\": [\n",
    "        \"Threat level\"\n",
    "      ],\n",
    "      \"fill\": \"color\",\n",
    "      \"orient\": \"right\"\n",
    "    }\n",
    "  ]\n",
    "}\n",
    "\"\"\")\n",
    "vega_view=dict(spec)\n",
    "vega_view['width']=widget_width\n",
    "vega_view['height']=widget_height\n",
    "Vega(vega_view)"
   ]
  }
 ],
 "metadata": {
  "kernelspec": {
   "display_name": "rw",
   "language": "python",
   "name": "rw"
  },
  "language_info": {
   "codemirror_mode": {
    "name": "ipython",
    "version": 3
   },
   "file_extension": ".py",
   "mimetype": "text/x-python",
   "name": "python",
   "nbconvert_exporter": "python",
   "pygments_lexer": "ipython3",
   "version": "3.7.10"
  }
 },
 "nbformat": 4,
 "nbformat_minor": 4
}
