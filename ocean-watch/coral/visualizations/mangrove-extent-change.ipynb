{
 "cells": [
  {
   "cell_type": "markdown",
   "metadata": {},
   "source": [
    "# Mangrove Extent Change\n",
    "Change in extent of mangrove forests from 1996 to 2016. Gained, lost, and maintained (stable) area are displayed separately. Disaggregated by GCRMN region or by country/territory.\n",
    "\n",
    "_Author: Peter Kerins_  \n",
    "_Created: 18 May 2021_  \n",
    "_Environment: jupyterlab_  "
   ]
  },
  {
   "cell_type": "markdown",
   "metadata": {},
   "source": [
    "## Style\n",
    "- Vega chart\n",
    "- Vertical bar chart\n",
    "- Value is mangrove area of each type (gain, loss, stable)\n",
    "- Single stacked bar"
   ]
  },
  {
   "cell_type": "markdown",
   "metadata": {},
   "source": [
    "## Data\n",
    "GCRMN Region data: [ocn.calcs.009a Mangrove Extent Change by GCRMN Region](https://resourcewatch.carto.com/u/wri-rw/dataset/ocn_calcs_009a_mangrove_extent_change_gcrmn)  \n",
    "~Country/Territory data: [ocn.calcs.009a Mangrove Extent Change by GCRMN Region](https://resourcewatch.carto.com/u/wri-rw/dataset/ocn_calcs_009b_mangrove_extent_change_gcrmn)~  \n",
    "\n",
    "- [Global Mangrove Watch (1996 - 2016)](https://data.unep-wcmc.org/datasets/45) from WCMC ([for.005a.rw2 Mangrove Forests](https://resourcewatch.carto.com/u/wri-rw/dataset/for_005a_mangrove_edit))  "
   ]
  },
  {
   "cell_type": "markdown",
   "metadata": {},
   "source": [
    "## Preparation"
   ]
  },
  {
   "cell_type": "code",
   "execution_count": 1,
   "metadata": {
    "jupyter": {
     "source_hidden": true
    },
    "tags": []
   },
   "outputs": [],
   "source": [
    "import json\n",
    "from vega import Vega\n",
    "from IPython.display import display"
   ]
  },
  {
   "cell_type": "code",
   "execution_count": 2,
   "metadata": {
    "jupyter": {
     "source_hidden": true
    },
    "tags": []
   },
   "outputs": [],
   "source": [
    "def Vega(spec):\n",
    "    bundle = {}\n",
    "    bundle['application/vnd.vega.v5+json'] = spec\n",
    "    display(bundle, raw=True)"
   ]
  },
  {
   "cell_type": "code",
   "execution_count": 3,
   "metadata": {
    "jupyter": {
     "source_hidden": true
    },
    "tags": []
   },
   "outputs": [],
   "source": [
    "widget_width = 400\n",
    "widget_height = 300"
   ]
  },
  {
   "cell_type": "markdown",
   "metadata": {},
   "source": [
    "---"
   ]
  },
  {
   "cell_type": "markdown",
   "metadata": {},
   "source": [
    "# GCRMN Regions"
   ]
  },
  {
   "cell_type": "markdown",
   "metadata": {},
   "source": [
    "## Global\n",
    "Global figures include mangroves located outside of GCRMN regions (`gcrmn_reg=='None'`)"
   ]
  },
  {
   "cell_type": "markdown",
   "metadata": {},
   "source": [
    "### Queries\n",
    "Main data\n",
    "```sql\n",
    "WITH prepped_data AS (\n",
    "  SELECT 'World' AS gcrmn_reg, SUM(mang_polys) AS mang_polys, SUM(extent1996) AS extent1996, SUM(extent2016) AS extent2016, SUM(gain2016) AS gain2016, SUM(loss2016) AS loss2016, SUM(extent2016)-SUM(gain2016) AS stable2016, SUM(loss2016)*-1 AS range_min, SUM(extent2016) AS range_max\n",
    "  FROM ocn_calcs_009a_mangrove_extent_change_gcrmn )\n",
    "  \n",
    "SELECT 'Gain' AS area_type, gain2016 AS area_value, stable2016 AS y0, extent2016 AS y2, gain2016/extent1996 AS area_fraction\n",
    "FROM prepped_data\n",
    "UNION ALL\n",
    "SELECT 'Stable' AS area_type, stable2016 AS area_value, 0.0 AS y0, stable2016 AS y2, stable2016/extent1996 AS area_fraction\n",
    "FROM prepped_data\n",
    "UNION ALL\n",
    "SELECT 'Loss' AS area_type, loss2016 AS area_value, loss2016*-1 AS y0, 0.0 AS y2, loss2016/extent1996 AS area_fraction\n",
    "FROM prepped_data\n",
    "```\n",
    "\n",
    "Net change data\n",
    "```sql\n",
    "SELECT SUM(extent2016)-SUM(extent1996) AS absolute_change, (SUM(extent2016)-SUM(extent1996))/SUM(extent1996) AS fraction_change  \n",
    "FROM ocn_calcs_009a_mangrove_extent_change_gcrmn\n",
    "```"
   ]
  },
  {
   "cell_type": "markdown",
   "metadata": {},
   "source": [
    "### Specification"
   ]
  },
  {
   "cell_type": "code",
   "execution_count": 6,
   "metadata": {},
   "outputs": [
    {
     "data": {
      "application/vnd.vega.v5+json": {
       "autosize": {
        "contains": "padding",
        "resize": true,
        "type": "pad"
       },
       "axes": [
        {
         "encode": {
          "grid": {
           "enter": {
            "stroke": {
             "signal": "(datum.value==0 ? '#888888' : '#eeeeee')"
            }
           }
          }
         },
         "grid": true,
         "labelOverlap": "greedy",
         "labelSeparation": 20,
         "orient": "left",
         "scale": "yscale",
         "title": "Area (sq. km)"
        }
       ],
       "data": [
        {
         "format": {
          "property": "rows",
          "type": "json"
         },
         "name": "table",
         "transform": [
          {
           "as": "suffix",
           "expr": "if(datum.area_type=='Unprotected','(Outside of MPA)', if(datum.area_type=='Protected','(Other MPA)', '(No-Take Area)'))",
           "type": "formula"
          }
         ],
         "url": "https://wri-rw.carto.com/api/v2/sql?q=WITH prepped_data AS (SELECT 'World' AS gcrmn_reg, SUM(mang_polys) AS mang_polys, SUM(extent1996) AS extent1996, SUM(extent2016) AS extent2016, SUM(gain2016) AS gain2016, SUM(loss2016) AS loss2016, SUM(extent2016)-SUM(gain2016) AS stable2016, SUM(loss2016)*-1 AS range_min, SUM(extent2016) AS range_max FROM ocn_calcs_009a_mangrove_extent_change_gcrmn ) SELECT 'Gain' AS area_type, gain2016 AS area_value, stable2016 AS y0, extent2016 AS y2, gain2016/extent1996 AS area_fraction FROM prepped_data UNION ALL SELECT 'Stable' AS area_type, stable2016 AS area_value, 0.0 AS y0, stable2016 AS y2, stable2016/extent1996 AS area_fraction FROM prepped_data UNION ALL SELECT 'Loss' AS area_type, loss2016 AS area_value, loss2016*-1 AS y0, 0.0 AS y2, loss2016/extent1996 AS area_fraction FROM prepped_data"
        }
       ],
       "description": "Mangrove forest gained, lost, or stable between 1996 and 2006 globally",
       "height": 300,
       "legends": [
        {
         "direction": "vertical",
         "encode": {
          "labels": {
           "hover": {
            "fill": {
             "value": "#aaaaaa"
            }
           },
           "interactive": true,
           "update": {
            "dy": {
             "value": 1
            },
            "fill": {
             "value": "#000000"
            },
            "fontSize": {
             "value": "11"
            }
           }
          }
         },
         "fill": "color",
         "labelBaseline": "middle",
         "orient": "right",
         "title": [
          "Mangrove",
          "extent"
         ]
        }
       ],
       "marks": [
        {
         "encode": {
          "enter": {
           "tooltip": {
            "signal": "{title:datum.area_type,'Area':format(datum.area_value,',d')+' sq. km', 'Relative to 1996 extent':format(datum.area_fraction,'.1%')}"
           },
           "width": {
            "signal": "2*width/6"
           },
           "xc": {
            "signal": "width/2"
           },
           "y": {
            "field": "y0",
            "scale": "yscale"
           },
           "y2": {
            "field": "y2",
            "scale": "yscale"
           }
          },
          "hover": {
           "fill": {
            "value": "#aaaaaa"
           }
          },
          "update": {
           "fill": {
            "field": "area_type",
            "scale": "color"
           },
           "fillOpacity": {
            "value": 1
           }
          }
         },
         "from": {
          "data": "table"
         },
         "type": "rect"
        },
        {
         "data": [
          {
           "format": {
            "property": "rows",
            "type": "json"
           },
           "name": "net_data",
           "url": "https://wri-rw.carto.com/api/v2/sql?q=SELECT SUM(extent2016)-SUM(extent1996) AS absolute_change, (SUM(extent2016)-SUM(extent1996))/SUM(extent1996) AS fraction_change FROM ocn_calcs_009a_mangrove_extent_change_gcrmn"
          }
         ],
         "encode": {
          "enter": {
           "clip": {
            "value": false
           },
           "cornerRadius": {
            "value": 0
           },
           "fill": {
            "value": null
           },
           "height": {
            "value": 100
           },
           "opacity": {
            "value": 0
           },
           "stroke": {
            "value": "black"
           },
           "strokeForeground": {
            "value": false
           },
           "strokeWidth": {
            "value": 1
           },
           "width": {
            "value": 100
           },
           "x": {
            "signal": "width*2/3"
           },
           "yc": {
            "signal": "height/2"
           }
          }
         },
         "marks": [
          {
           "encode": {
            "enter": {
             "fillOpacity": {
              "value": 1
             },
             "shape": {
              "value": "arrow"
             },
             "size": {
              "signal": "2000"
             },
             "stroke": {
              "value": "black"
             },
             "strokeOpacity": {
              "value": 1
             },
             "strokeWidth": {
              "value": 1.5
             },
             "x": {
              "field": {
               "group": "width"
              },
              "mult": 0.19
             },
             "y": {
              "field": {
               "group": "height"
              },
              "mult": 0.43
             }
            },
            "hover": {
             "opacity": {
              "value": 0.5
             }
            },
            "update": {
             "angle": {
              "signal": "(datum.absolute_change < 0 ? 180 : 0)"
             },
             "fill": {
              "signal": "(datum.absolute_change < 0 ? '#FC8D62' : '#2F5Bb2')"
             },
             "opacity": {
              "value": 1
             }
            }
           },
           "from": {
            "data": "net_data"
           },
           "type": "symbol"
          },
          {
           "encode": {
            "enter": {
             "baseline": "middle",
             "fontSize": {
              "value": 11
             },
             "fontStyle": {
              "value": "normal"
             },
             "fontWeight": {
              "value": "normal"
             },
             "text": {
              "value": "Net Change:"
             },
             "xc": {
              "field": {
               "group": "width"
              },
              "mult": 0.35
             },
             "yc": {
              "field": {
               "group": "height"
              },
              "mult": 0.3
             }
            }
           },
           "from": {
            "data": "net_data"
           },
           "name": "net-label",
           "type": "text"
          },
          {
           "encode": {
            "enter": {
             "baseline": "middle",
             "fontSize": {
              "value": 20
             },
             "fontStyle": {
              "value": "normal"
             },
             "fontWeight": {
              "value": "bold"
             },
             "text": [
              {
               "signal": "format(datum.fraction_change,'.1%')"
              }
             ],
             "tooltip": {
              "signal": "{'Area':format(datum.absolute_change,',d')+' sq. km'}"
             },
             "x": {
              "field": {
               "group": "width"
              },
              "mult": 0.37
             },
             "yc": {
              "field": {
               "group": "height"
              },
              "mult": 0.55
             }
            }
           },
           "from": {
            "data": "net_data"
           },
           "name": "net-value",
           "type": "text"
          }
         ],
         "name": "net_group",
         "type": "group"
        }
       ],
       "padding": {
        "bottom": 5,
        "left": 2,
        "right": 0,
        "top": 0
       },
       "scales": [
        {
         "domain": {
          "data": "table",
          "field": "gcrmn_reg"
         },
         "name": "xscale",
         "padding": 0,
         "range": "width",
         "type": "band"
        },
        {
         "domain": {
          "data": "table",
          "fields": [
           "y0",
           "y2"
          ]
         },
         "name": "yscale",
         "nice": true,
         "range": "height",
         "round": true,
         "type": "linear",
         "zero": true
        },
        {
         "domain": {
          "data": "table",
          "field": "area_type"
         },
         "name": "color",
         "range": [
          "#2F5Bb2",
          "#368C2B",
          "#FC8D62"
         ],
         "type": "ordinal"
        }
       ],
       "schema": "https://vega.github.io/schema/vega/v5.json",
       "signals": [],
       "title": {
        "text": {
         "signal": "'Global Mangrove Gain & Loss, 1996–2016'"
        }
       },
       "width": 300
      },
      "image/png": "[encoded data removed]"
     },
     "metadata": {},
     "output_type": "display_data"
    }
   ],
   "source": [
    "spec=json.loads(\"\"\"\n",
    "{\n",
    "  \"schema\": \"https://vega.github.io/schema/vega/v5.json\",\n",
    "  \"description\": \"Mangrove forest gained, lost, or stable between 1996 and 2006 globally\",\n",
    "  \"width\": 300,\n",
    "  \"height\": 300,\n",
    "  \"padding\": {\n",
    "    \"left\": 2, \n",
    "    \"top\": 0, \n",
    "    \"right\": 0, \n",
    "    \"bottom\": 5\n",
    "  },\n",
    "  \"autosize\": {\n",
    "    \"type\": \"pad\",\n",
    "    \"resize\": true,\n",
    "    \"contains\": \"padding\"\n",
    "  },\n",
    "  \"signals\": [\n",
    "  ],\n",
    "  \"data\": [\n",
    "    {\n",
    "      \"name\": \"table\",\n",
    "      \"url\": \"https://wri-rw.carto.com/api/v2/sql?q=WITH prepped_data AS (SELECT 'World' AS gcrmn_reg, SUM(mang_polys) AS mang_polys, SUM(extent1996) AS extent1996, SUM(extent2016) AS extent2016, SUM(gain2016) AS gain2016, SUM(loss2016) AS loss2016, SUM(extent2016)-SUM(gain2016) AS stable2016, SUM(loss2016)*-1 AS range_min, SUM(extent2016) AS range_max FROM ocn_calcs_009a_mangrove_extent_change_gcrmn ) SELECT 'Gain' AS area_type, gain2016 AS area_value, stable2016 AS y0, extent2016 AS y2, gain2016/extent1996 AS area_fraction FROM prepped_data UNION ALL SELECT 'Stable' AS area_type, stable2016 AS area_value, 0.0 AS y0, stable2016 AS y2, stable2016/extent1996 AS area_fraction FROM prepped_data UNION ALL SELECT 'Loss' AS area_type, loss2016 AS area_value, loss2016*-1 AS y0, 0.0 AS y2, loss2016/extent1996 AS area_fraction FROM prepped_data\",\n",
    "      \"format\": {\n",
    "        \"type\": \"json\",\n",
    "        \"property\": \"rows\"\n",
    "      },\n",
    "      \"transform\": [\n",
    "        {\n",
    "          \"type\": \"formula\",\n",
    "          \"expr\": \"if(datum.area_type=='Unprotected','(Outside of MPA)', if(datum.area_type=='Protected','(Other MPA)', '(No-Take Area)'))\",\n",
    "          \"as\": \"suffix\"\n",
    "        }\n",
    "      ]\n",
    "    }\n",
    "  ],\n",
    "  \"title\": {\n",
    "    \"text\": \n",
    "      {\"signal\": \"'Global Mangrove Gain & Loss, 1996–2016'\"}\n",
    "  },\n",
    "  \"scales\": [\n",
    "    {\n",
    "      \"name\": \"xscale\",\n",
    "      \"type\": \"band\",\n",
    "      \"domain\": {\n",
    "        \"data\": \"table\",\n",
    "        \"field\": \"gcrmn_reg\"\n",
    "      },\n",
    "      \"range\": \"width\",\n",
    "      \"padding\": 0\n",
    "    },\n",
    "    {\n",
    "      \"name\": \"yscale\",\n",
    "      \"type\": \"linear\",\n",
    "      \"domain\": {\n",
    "        \"data\": \"table\",\n",
    "        \"fields\": [\n",
    "            \"y0\",\n",
    "            \"y2\"\n",
    "        ]\n",
    "      },\n",
    "      \"range\": \"height\",\n",
    "      \"round\": true,\n",
    "      \"zero\": true,\n",
    "      \"nice\": true\n",
    "    },\n",
    "    {\n",
    "      \"name\": \"color\",\n",
    "      \"type\": \"ordinal\",\n",
    "      \"domain\": {\n",
    "        \"data\": \"table\",\n",
    "        \"field\": \"area_type\"\n",
    "      },\n",
    "      \"range\": [\n",
    "        \"#2F5Bb2\",\n",
    "        \"#368C2B\",\n",
    "        \"#FC8D62\"\n",
    "      ]\n",
    "    }\n",
    "  ],\n",
    "  \"axes\": [\n",
    "    {\n",
    "      \"orient\": \"left\",\n",
    "      \"scale\": \"yscale\",\n",
    "      \"title\": \"Area (sq. km)\",\n",
    "      \"labelOverlap\": \"greedy\",\n",
    "      \"labelSeparation\": 20,\n",
    "      \"grid\": true,\n",
    "      \"encode\": {\n",
    "        \"grid\": {\n",
    "          \"enter\": {\n",
    "            \"stroke\": {\n",
    "              \"signal\": \"(datum.value==0 ? '#888888' : '#eeeeee')\"\n",
    "            }\n",
    "          }\n",
    "        }\n",
    "      }\n",
    "    }\n",
    "  ],\n",
    "  \"marks\": [\n",
    "    {\n",
    "      \"type\": \"rect\",\n",
    "      \"from\": {\n",
    "        \"data\": \"table\"\n",
    "      },\n",
    "      \"encode\": {\n",
    "        \"enter\": {\n",
    "          \"xc\": {\n",
    "            \"signal\": \"width/2\"\n",
    "          },\n",
    "          \"width\": {\n",
    "            \"signal\": \"2*width/6\"\n",
    "          },\n",
    "          \"y\": {\n",
    "            \"scale\": \"yscale\",\n",
    "            \"field\": \"y0\"\n",
    "          },\n",
    "          \"y2\": {\n",
    "            \"scale\": \"yscale\",\n",
    "            \"field\": \"y2\"\n",
    "          },\n",
    "          \"tooltip\": {\n",
    "            \"signal\": \"{title:datum.area_type,'Area':format(datum.area_value,',d')+' sq. km', 'Relative to 1996 extent':format(datum.area_fraction,'.1%')}\"\n",
    "          }\n",
    "        },\n",
    "        \"update\": {\n",
    "          \"fillOpacity\": {\n",
    "            \"value\": 1\n",
    "          },\n",
    "          \"fill\": {\n",
    "            \"scale\": \"color\",\n",
    "            \"field\": \"area_type\"\n",
    "          }\n",
    "        },\n",
    "        \"hover\": {\n",
    "          \"fill\": {\n",
    "            \"value\": \"#aaaaaa\"\n",
    "          }\n",
    "        }\n",
    "      }\n",
    "    },\n",
    "    {\n",
    "      \"type\": \"group\",\n",
    "      \"name\": \"net_group\",\n",
    "      \"data\": [ \n",
    "        {\n",
    "          \"name\": \"net_data\",\n",
    "          \"url\": \"https://wri-rw.carto.com/api/v2/sql?q=SELECT SUM(extent2016)-SUM(extent1996) AS absolute_change, (SUM(extent2016)-SUM(extent1996))/SUM(extent1996) AS fraction_change FROM ocn_calcs_009a_mangrove_extent_change_gcrmn\",\n",
    "          \"format\": {\n",
    "            \"type\": \"json\",\n",
    "            \"property\": \"rows\"\n",
    "          }\n",
    "        }\n",
    "      ],\n",
    "      \"encode\": {\n",
    "        \"enter\": {\n",
    "          \"x\": {\"signal\": \"width*2/3\"},\n",
    "          \"yc\": {\"signal\": \"height/2\"},\n",
    "          \"width\": {\"value\": 100},\n",
    "          \"height\": {\"value\": 100},\n",
    "          \"clip\": {\"value\": false},\n",
    "          \"opacity\": {\"value\": 0},\n",
    "          \"cornerRadius\": {\"value\": 0},\n",
    "          \"strokeWidth\": {\"value\": 1},\n",
    "          \"strokeForeground\": {\"value\": false},\n",
    "          \"fill\": {\"value\": null},\n",
    "          \"stroke\": {\"value\": \"black\"}\n",
    "        }\n",
    "      },\n",
    "      \"marks\": [\n",
    "        {\n",
    "          \"type\": \"symbol\",\n",
    "          \"from\": {\"data\": \"net_data\"},\n",
    "          \"encode\": {\n",
    "            \"enter\": {\n",
    "              \"stroke\": {\"value\": \"black\"},\n",
    "              \"x\": {\"field\": {\"group\": \"width\"}, \"mult\": 0.19},\n",
    "              \"y\": {\"field\": {\"group\": \"height\"}, \"mult\": 0.43},\n",
    "              \"size\": {\"signal\": \"2000\"},\n",
    "              \"shape\": {\"value\": \"arrow\"},\n",
    "              \"strokeWidth\": {\"value\": 1.5},\n",
    "              \"fillOpacity\": {\"value\": 1.0},\n",
    "              \"strokeOpacity\": {\"value\": 1.0}\n",
    "            },\n",
    "            \"update\": {\n",
    "              \"fill\": {\"signal\": \"(datum.absolute_change < 0 ? '#FC8D62' : '#2F5Bb2')\"},\n",
    "              \"angle\": {\"signal\": \"(datum.absolute_change < 0 ? 180 : 0)\"},\n",
    "              \"opacity\": {\"value\": 1}\n",
    "            },\n",
    "            \"hover\": {\n",
    "              \"opacity\": {\"value\": 0.5}\n",
    "            }\n",
    "          }\n",
    "        },\n",
    "        {\n",
    "          \"type\": \"text\",\n",
    "          \"name\": \"net-label\",\n",
    "          \"from\": {\"data\": \"net_data\"},\n",
    "          \"encode\": {\n",
    "            \"enter\": {\n",
    "              \"fontSize\": {\"value\": 11},\n",
    "              \"fontWeight\": {\"value\": \"normal\"},\n",
    "              \"fontStyle\": {\"value\": \"normal\"},\n",
    "              \"baseline\": \"middle\",\n",
    "              \"text\": {\n",
    "                \"value\": \"Net Change:\"\n",
    "              },\n",
    "              \"xc\": {\"field\": {\"group\": \"width\"}, \"mult\": 0.35},\n",
    "              \"yc\": {\"field\": {\"group\": \"height\"}, \"mult\": 0.3}\n",
    "            }\n",
    "          }\n",
    "        },\n",
    "        {\n",
    "          \"type\": \"text\",\n",
    "          \"name\": \"net-value\",\n",
    "          \"from\": {\"data\": \"net_data\"},\n",
    "          \"encode\": {\n",
    "            \"enter\": {\n",
    "              \"fontSize\": {\"value\": 20},\n",
    "              \"fontStyle\": {\"value\": \"normal\"},\n",
    "              \"fontWeight\": {\"value\": \"bold\"},\n",
    "              \"baseline\": \"middle\",\n",
    "              \"text\": [{\"signal\": \"format(datum.fraction_change,'.1%')\"}],\n",
    "              \"x\": {\"field\": {\"group\": \"width\"}, \"mult\": 0.37},\n",
    "              \"yc\": {\"field\": {\"group\": \"height\"}, \"mult\": 0.55},\n",
    "              \"tooltip\": {\n",
    "                \"signal\": \"{'Area':format(datum.absolute_change,',d')+' sq. km'}\"\n",
    "              }\n",
    "            }\n",
    "          }\n",
    "        }\n",
    "      ]\n",
    "    }\n",
    "  ],\n",
    "  \"legends\": [\n",
    "    {\n",
    "      \"fill\": \"color\",\n",
    "      \"direction\": \"vertical\",\n",
    "      \"orient\": \"right\",\n",
    "      \"labelBaseline\": \"middle\",\n",
    "      \"title\": [\n",
    "        \"Mangrove\",\n",
    "        \"extent\"  \n",
    "      ],\n",
    "      \"encode\": {\n",
    "        \"labels\": {\n",
    "          \"interactive\": true,\n",
    "          \"update\": {\n",
    "            \"fill\": {\n",
    "              \"value\": \"#000000\"\n",
    "            },\n",
    "            \"fontSize\": {\n",
    "              \"value\": \"11\"\n",
    "            },\n",
    "            \"dy\": {\n",
    "              \"value\": 1\n",
    "            }\n",
    "          },\n",
    "          \"hover\": {\n",
    "            \"fill\": {\n",
    "              \"value\": \"#aaaaaa\"\n",
    "            }\n",
    "          }\n",
    "        }\n",
    "      }\n",
    "    }\n",
    "  ]\n",
    "}\n",
    "\"\"\")\n",
    "vegaview=dict(spec)\n",
    "Vega(vegaview)"
   ]
  },
  {
   "cell_type": "markdown",
   "metadata": {},
   "source": [
    "### RW API\n",
    "Parent dataset [for.005b.rw0 Mangrove Extent Change](https://resourcewatch.org/data/explore/for005brw0-Mangrove-Extent-Change) ([Admin](https://resourcewatch.org/admin/data/datasets/f31dece0-9256-428a-84de-3a59f5c06bb7/edit))    \n",
    "[API ID](https://api.resourcewatch.org/v1/dataset/f31dece0-9256-428a-84de-3a59f5c06bb7/) `f31dece0-9256-428a-84de-3a59f5c06bb7`  \n",
    "[Widgets](https://api.resourcewatch.org/v1/dataset/f31dece0-9256-428a-84de-3a59f5c06bb7/widget?page[size]=100)"
   ]
  },
  {
   "cell_type": "markdown",
   "metadata": {},
   "source": [
    "Lightly modified version of widget passed to API via [widget script](https://github.com/resource-watch/data-team-tools/blob/master/advanced_widget_writer/advanced_chart_widget_create.py). Key variables to modify in script, besides specification itself:"
   ]
  },
  {
   "cell_type": "code",
   "execution_count": 21,
   "metadata": {},
   "outputs": [],
   "source": [
    "dataset_id = 'f31dece0-9256-428a-84de-3a59f5c06bb7'\n",
    "name = 'Global Mangrove Gain & Loss, 1996–2016'\n",
    "description = 'Mangrove forest gained, lost, or stable between 1996 and 2006 globally'"
   ]
  },
  {
   "cell_type": "markdown",
   "metadata": {},
   "source": [
    "- [Global](https://api.resourcewatch.org/v1/widget/cbb1b7af-172e-4ee8-8743-af07d53fa48e?env=production)  `cbb1b7af-172e-4ee8-8743-af07d53fa48e`  "
   ]
  },
  {
   "cell_type": "markdown",
   "metadata": {},
   "source": [
    "## Regional"
   ]
  },
  {
   "cell_type": "markdown",
   "metadata": {},
   "source": [
    "### Queries\n",
    "Note that regional filtering happens within widget via transform  \n",
    "\n",
    "Main data  \n",
    "```sql\n",
    "WITH prepped_data AS (\n",
    "  SELECT gcrmn_reg, mang_polys, extent1996, extent2016, gain2016, loss2016, extent2016-gain2016 AS stable2016, loss2016*-1 AS range_min, extent2016 AS range_max\n",
    "  FROM ocn_calcs_009a_mangrove_extent_change_gcrmn )\n",
    "  \n",
    "SELECT gcrmn_reg, 'Gain' AS area_type, gain2016 AS area_value, stable2016 AS y0, extent2016 AS y2, gain2016/extent1996 AS area_fraction\n",
    "FROM prepped_data\n",
    "UNION ALL\n",
    "SELECT gcrmn_reg, 'Stable' AS area_type, stable2016 AS area_value, 0.0 AS y0, stable2016 AS y2, stable2016/extent1996 AS area_fraction\n",
    "FROM prepped_data\n",
    "UNION ALL\n",
    "SELECT gcrmn_reg, 'Loss' AS area_type, loss2016 AS area_value, loss2016*-1 AS y0, 0.0 AS y2, loss2016/extent1996 AS area_fraction\n",
    "FROM prepped_data\n",
    "```\n",
    "\n",
    "Net change data\n",
    "```sql\n",
    "SELECT gcrmn_reg, extent2016-extent1996 AS net_change, (extent2016-extent1996)/extent1996 AS fraction_change\n",
    "FROM ocn_calcs_009a_mangrove_extent_change_gcrmn\n",
    "```"
   ]
  },
  {
   "cell_type": "markdown",
   "metadata": {},
   "source": [
    "### Specification"
   ]
  },
  {
   "cell_type": "code",
   "execution_count": 8,
   "metadata": {
    "tags": []
   },
   "outputs": [
    {
     "data": {
      "application/vnd.vega.v5+json": {
       "autosize": {
        "contains": "padding",
        "resize": true,
        "type": "pad"
       },
       "axes": [
        {
         "encode": {
          "grid": {
           "enter": {
            "stroke": {
             "signal": "(datum.value==0 ? '#888888' : '#eeeeee')"
            }
           }
          }
         },
         "grid": true,
         "labelOverlap": "greedy",
         "labelSeparation": 20,
         "orient": "left",
         "scale": "yscale",
         "title": "Area (sq. km)"
        }
       ],
       "data": [
        {
         "format": {
          "property": "rows",
          "type": "json"
         },
         "name": "table",
         "transform": [
          {
           "expr": "datum.gcrmn_reg == region_name",
           "type": "filter"
          }
         ],
         "url": "https://wri-rw.carto.com/api/v2/sql?q=WITH prepped_data AS (SELECT gcrmn_reg, mang_polys, extent1996, extent2016, gain2016, loss2016, extent2016-gain2016 AS stable2016, loss2016*-1 AS range_min, extent2016 AS range_max FROM ocn_calcs_009a_mangrove_extent_change_gcrmn ) SELECT gcrmn_reg, 'Gain' AS area_type, gain2016 AS area_value, stable2016 AS y0, extent2016 AS y2, gain2016/extent1996 AS area_fraction FROM prepped_data UNION ALL SELECT gcrmn_reg, 'Stable' AS area_type, stable2016 AS area_value, 0.0 AS y0, stable2016 AS y2, stable2016/extent1996 AS area_fraction FROM prepped_data UNION ALL SELECT gcrmn_reg, 'Loss' AS area_type, loss2016 AS area_value, loss2016*-1 AS y0, 0.0 AS y2, loss2016/extent1996 AS area_fraction FROM prepped_data"
        }
       ],
       "description": "Mangrove forest gained, lost, or stable between 1996 and 2006 by GCRMN region",
       "height": 300,
       "legends": [
        {
         "direction": "vertical",
         "encode": {
          "labels": {
           "hover": {
            "fill": {
             "value": "#aaaaaa"
            }
           },
           "interactive": true,
           "update": {
            "dy": {
             "value": 1
            },
            "fill": {
             "value": "#000000"
            },
            "fontSize": {
             "value": "11"
            }
           }
          }
         },
         "fill": "color",
         "labelBaseline": "middle",
         "orient": "right",
         "title": [
          "Mangrove",
          "extent"
         ]
        }
       ],
       "marks": [
        {
         "encode": {
          "enter": {
           "tooltip": {
            "signal": "{title:datum.area_type,'Area':format(datum.area_value,',d')+' sq. km', 'Relative to 1996 extent':format(datum.area_fraction,'.1%')}"
           },
           "width": {
            "signal": "2*width/6"
           },
           "xc": {
            "signal": "width/2"
           },
           "y": {
            "field": "y0",
            "scale": "yscale"
           },
           "y2": {
            "field": "y2",
            "scale": "yscale"
           }
          },
          "hover": {
           "fill": {
            "value": "#aaaaaa"
           }
          },
          "update": {
           "fill": {
            "field": "area_type",
            "scale": "color"
           },
           "fillOpacity": {
            "value": 1
           }
          }
         },
         "from": {
          "data": "table"
         },
         "type": "rect"
        },
        {
         "data": [
          {
           "format": {
            "property": "rows",
            "type": "json"
           },
           "name": "net_data",
           "transform": [
            {
             "expr": "datum.gcrmn_reg == region_name",
             "type": "filter"
            }
           ],
           "url": "https://wri-rw.carto.com/api/v2/sql?q=SELECT gcrmn_reg, extent2016-extent1996 AS absolute_change, (extent2016-extent1996)/extent1996 AS fraction_change FROM ocn_calcs_009a_mangrove_extent_change_gcrmn"
          }
         ],
         "encode": {
          "enter": {
           "clip": {
            "value": false
           },
           "cornerRadius": {
            "value": 0
           },
           "fill": {
            "value": null
           },
           "height": {
            "value": 100
           },
           "opacity": {
            "value": 0
           },
           "stroke": {
            "value": "black"
           },
           "strokeForeground": {
            "value": false
           },
           "strokeWidth": {
            "value": 1
           },
           "width": {
            "value": 100
           },
           "x": {
            "signal": "width*2/3"
           },
           "yc": {
            "signal": "height/2"
           }
          }
         },
         "marks": [
          {
           "encode": {
            "enter": {
             "fillOpacity": {
              "value": 1
             },
             "shape": {
              "value": "arrow"
             },
             "size": {
              "signal": "2000"
             },
             "stroke": {
              "value": "black"
             },
             "strokeOpacity": {
              "value": 1
             },
             "strokeWidth": {
              "value": 1.5
             },
             "x": {
              "field": {
               "group": "width"
              },
              "mult": 0.19
             },
             "y": {
              "field": {
               "group": "height"
              },
              "mult": 0.43
             }
            },
            "hover": {
             "opacity": {
              "value": 0.5
             }
            },
            "update": {
             "angle": {
              "signal": "(datum.absolute_change < 0 ? 180 : 0)"
             },
             "fill": {
              "signal": "(datum.absolute_change < 0 ? '#FC8D62' : '#2F5Bb2')"
             },
             "opacity": {
              "value": 1
             }
            }
           },
           "from": {
            "data": "net_data"
           },
           "type": "symbol"
          },
          {
           "encode": {
            "enter": {
             "baseline": "middle",
             "fontSize": {
              "value": 11
             },
             "fontStyle": {
              "value": "normal"
             },
             "fontWeight": {
              "value": "normal"
             },
             "text": {
              "value": "Net Change:"
             },
             "xc": {
              "field": {
               "group": "width"
              },
              "mult": 0.35
             },
             "yc": {
              "field": {
               "group": "height"
              },
              "mult": 0.3
             }
            }
           },
           "from": {
            "data": "net_data"
           },
           "name": "net-label",
           "type": "text"
          },
          {
           "encode": {
            "enter": {
             "baseline": "middle",
             "fontSize": {
              "value": 20
             },
             "fontStyle": {
              "value": "normal"
             },
             "fontWeight": {
              "value": "bold"
             },
             "text": [
              {
               "signal": "format(datum.fraction_change,'.1%')"
              }
             ],
             "tooltip": {
              "signal": "{'Area':format(datum.absolute_change,',d')+' sq. km'}"
             },
             "x": {
              "field": {
               "group": "width"
              },
              "mult": 0.37
             },
             "yc": {
              "field": {
               "group": "height"
              },
              "mult": 0.55
             }
            }
           },
           "from": {
            "data": "net_data"
           },
           "name": "net-value",
           "type": "text"
          }
         ],
         "name": "net_group",
         "signal": [
          {
           "name": "region_name",
           "push": "outer"
          }
         ],
         "type": "group"
        }
       ],
       "padding": {
        "bottom": 5,
        "left": 2,
        "right": 0,
        "top": 0
       },
       "scales": [
        {
         "domain": {
          "data": "table",
          "field": "gcrmn_reg"
         },
         "name": "xscale",
         "padding": 0,
         "range": "width",
         "type": "band"
        },
        {
         "domain": {
          "data": "table",
          "fields": [
           "y0",
           "y2"
          ]
         },
         "name": "yscale",
         "nice": true,
         "range": "height",
         "round": true,
         "type": "linear",
         "zero": true
        },
        {
         "domain": {
          "data": "table",
          "field": "area_type"
         },
         "name": "color",
         "range": [
          "#2F5Bb2",
          "#368C2B",
          "#FC8D62"
         ],
         "type": "ordinal"
        }
       ],
       "schema": "https://vega.github.io/schema/vega/v5.json",
       "signals": [
        {
         "bind": {
          "input": "select",
          "name": "GCRMN Region ",
          "options": [
           "Australia",
           "Brazil",
           "Caribbean",
           "East Asia",
           "ETP",
           "Pacific",
           "PERSGA",
           "ROPME",
           "South Asia",
           "WIO"
          ]
         },
         "description": "Name of GCRMN region",
         "name": "region_name",
         "value": "Caribbean"
        }
       ],
       "title": {
        "text": {
         "signal": "'Mangrove Gain & Loss in '+region_name+', 1996–2016'"
        }
       },
       "width": 400
      },
      "image/png": "[encoded data removed]"
     },
     "metadata": {},
     "output_type": "display_data"
    }
   ],
   "source": [
    "spec=json.loads(\"\"\"\n",
    "{\n",
    "  \"schema\": \"https://vega.github.io/schema/vega/v5.json\",\n",
    "  \"description\": \"Mangrove forest gained, lost, or stable between 1996 and 2006 by GCRMN region\",\n",
    "  \"width\": 300,\n",
    "  \"height\": 300,\n",
    "  \"padding\": {\n",
    "    \"left\": 2, \n",
    "    \"top\": 0, \n",
    "    \"right\": 0, \n",
    "    \"bottom\": 5\n",
    "  },\n",
    "  \"autosize\": {\n",
    "    \"type\": \"pad\",\n",
    "    \"resize\": true,\n",
    "    \"contains\": \"padding\"\n",
    "  },\n",
    "  \"signals\": [\n",
    "    {\n",
    "      \"name\": \"region_name\",\n",
    "      \"description\": \"Name of GCRMN region\",\n",
    "      \"bind\": {\n",
    "        \"input\": \"select\",\n",
    "        \"options\": [\n",
    "          \"Australia\",\n",
    "          \"Brazil\",\n",
    "          \"Caribbean\",\n",
    "          \"East Asia\",\n",
    "          \"ETP\",\n",
    "          \"Pacific\",\n",
    "          \"PERSGA\",\n",
    "          \"ROPME\",\n",
    "          \"South Asia\",\n",
    "          \"WIO\"\n",
    "        ],\n",
    "        \"name\": \"GCRMN Region \"\n",
    "      },\n",
    "      \"value\": \"Caribbean\"\n",
    "    }\n",
    "  ],\n",
    "  \"data\": [\n",
    "    {\n",
    "      \"name\": \"table\",\n",
    "      \"url\": \"https://wri-rw.carto.com/api/v2/sql?q=WITH prepped_data AS (SELECT gcrmn_reg, mang_polys, extent1996, extent2016, gain2016, loss2016, extent2016-gain2016 AS stable2016, loss2016*-1 AS range_min, extent2016 AS range_max FROM ocn_calcs_009a_mangrove_extent_change_gcrmn ) SELECT gcrmn_reg, 'Gain' AS area_type, gain2016 AS area_value, stable2016 AS y0, extent2016 AS y2, gain2016/extent1996 AS area_fraction FROM prepped_data UNION ALL SELECT gcrmn_reg, 'Stable' AS area_type, stable2016 AS area_value, 0.0 AS y0, stable2016 AS y2, stable2016/extent1996 AS area_fraction FROM prepped_data UNION ALL SELECT gcrmn_reg, 'Loss' AS area_type, loss2016 AS area_value, loss2016*-1 AS y0, 0.0 AS y2, loss2016/extent1996 AS area_fraction FROM prepped_data\",\n",
    "      \"format\": {\n",
    "        \"type\": \"json\",\n",
    "        \"property\": \"rows\"\n",
    "      },\n",
    "      \"transform\": [\n",
    "        {\n",
    "          \"type\": \"filter\",\n",
    "          \"expr\": \"datum.gcrmn_reg == region_name\"\n",
    "        }\n",
    "      ]\n",
    "    }\n",
    "  ],\n",
    "  \"title\": {\n",
    "    \"text\": \n",
    "      {\"signal\": \"'Mangrove Gain & Loss in '+region_name+', 1996–2016'\"}\n",
    "  },\n",
    "  \"scales\": [\n",
    "    {\n",
    "      \"name\": \"xscale\",\n",
    "      \"type\": \"band\",\n",
    "      \"domain\": {\n",
    "        \"data\": \"table\",\n",
    "        \"field\": \"gcrmn_reg\"\n",
    "      },\n",
    "      \"range\": \"width\",\n",
    "      \"padding\": 0\n",
    "    },\n",
    "    {\n",
    "      \"name\": \"yscale\",\n",
    "      \"type\": \"linear\",\n",
    "      \"domain\": {\n",
    "        \"data\": \"table\",\n",
    "        \"fields\": [\n",
    "            \"y0\",\n",
    "            \"y2\"\n",
    "        ]\n",
    "      },\n",
    "      \"range\": \"height\",\n",
    "      \"round\": true,\n",
    "      \"zero\": true,\n",
    "      \"nice\": true\n",
    "    },\n",
    "    {\n",
    "      \"name\": \"color\",\n",
    "      \"type\": \"ordinal\",\n",
    "      \"domain\": {\n",
    "        \"data\": \"table\",\n",
    "        \"field\": \"area_type\"\n",
    "      },\n",
    "      \"range\": [\n",
    "        \"#2F5Bb2\",\n",
    "        \"#368C2B\",\n",
    "        \"#FC8D62\"\n",
    "      ]\n",
    "    }\n",
    "  ],\n",
    "  \"axes\": [\n",
    "    {\n",
    "      \"orient\": \"left\",\n",
    "      \"scale\": \"yscale\",\n",
    "      \"title\": \"Area (sq. km)\",\n",
    "      \"labelOverlap\": \"greedy\",\n",
    "      \"labelSeparation\": 20,\n",
    "      \"grid\": true,\n",
    "      \"encode\": {\n",
    "        \"grid\": {\n",
    "          \"enter\": {\n",
    "            \"stroke\": {\n",
    "              \"signal\": \"(datum.value==0 ? '#888888' : '#eeeeee')\"\n",
    "            }\n",
    "          }\n",
    "        }\n",
    "      }\n",
    "    }\n",
    "  ],\n",
    "  \"marks\": [\n",
    "    {\n",
    "      \"type\": \"rect\",\n",
    "      \"from\": {\n",
    "        \"data\": \"table\"\n",
    "      },\n",
    "      \"encode\": {\n",
    "        \"enter\": {\n",
    "          \"xc\": {\n",
    "            \"signal\": \"width/2\"\n",
    "          },\n",
    "          \"width\": {\n",
    "            \"signal\": \"2*width/6\"\n",
    "          },\n",
    "          \"y\": {\n",
    "            \"scale\": \"yscale\",\n",
    "            \"field\": \"y0\"\n",
    "          },\n",
    "          \"y2\": {\n",
    "            \"scale\": \"yscale\",\n",
    "            \"field\": \"y2\"\n",
    "          },\n",
    "          \"tooltip\": {\n",
    "            \"signal\": \"{title:datum.area_type,'Area':format(datum.area_value,',d')+' sq. km', 'Relative to 1996 extent':format(datum.area_fraction,'.1%')}\"\n",
    "          }\n",
    "        },\n",
    "        \"update\": {\n",
    "          \"fillOpacity\": {\n",
    "            \"value\": 1\n",
    "          },\n",
    "          \"fill\": {\n",
    "            \"scale\": \"color\",\n",
    "            \"field\": \"area_type\"\n",
    "          }\n",
    "        },\n",
    "        \"hover\": {\n",
    "          \"fill\": {\n",
    "            \"value\": \"#aaaaaa\"\n",
    "          }\n",
    "        }\n",
    "      }\n",
    "    },\n",
    "    {\n",
    "      \"type\": \"group\",\n",
    "      \"name\": \"net_group\",\n",
    "      \"signal\": [\n",
    "        {\n",
    "          \"name\": \"region_name\",\n",
    "          \"push\": \"outer\"\n",
    "        }\n",
    "      ],\n",
    "      \"data\": [ \n",
    "        {\n",
    "          \"name\": \"net_data\",\n",
    "          \"url\": \"https://wri-rw.carto.com/api/v2/sql?q=SELECT gcrmn_reg, extent2016-extent1996 AS absolute_change, (extent2016-extent1996)/extent1996 AS fraction_change FROM ocn_calcs_009a_mangrove_extent_change_gcrmn\",\n",
    "          \"format\": {\n",
    "            \"type\": \"json\",\n",
    "            \"property\": \"rows\"\n",
    "          },\n",
    "          \"transform\": [\n",
    "            {\n",
    "              \"type\": \"filter\",\n",
    "              \"expr\": \"datum.gcrmn_reg == region_name\"\n",
    "            }\n",
    "          ]\n",
    "        }\n",
    "      ],\n",
    "      \"encode\": {\n",
    "        \"enter\": {\n",
    "          \"x\": {\"signal\": \"width*2/3\"},\n",
    "          \"yc\": {\"signal\": \"height/2\"},\n",
    "          \"width\": {\"value\": 100},\n",
    "          \"height\": {\"value\": 100},\n",
    "          \"clip\": {\"value\": false},\n",
    "          \"opacity\": {\"value\": 0},\n",
    "          \"cornerRadius\": {\"value\": 0},\n",
    "          \"strokeWidth\": {\"value\": 1},\n",
    "          \"strokeForeground\": {\"value\": false},\n",
    "          \"fill\": {\"value\": null},\n",
    "          \"stroke\": {\"value\": \"black\"}\n",
    "        }\n",
    "      },\n",
    "      \"marks\": [\n",
    "        {\n",
    "          \"type\": \"symbol\",\n",
    "          \"from\": {\"data\": \"net_data\"},\n",
    "          \"encode\": {\n",
    "            \"enter\": {\n",
    "              \"stroke\": {\"value\": \"black\"},\n",
    "              \"x\": {\"field\": {\"group\": \"width\"}, \"mult\": 0.19},\n",
    "              \"y\": {\"field\": {\"group\": \"height\"}, \"mult\": 0.43},\n",
    "              \"size\": {\"signal\": \"2000\"},\n",
    "              \"shape\": {\"value\": \"arrow\"},\n",
    "              \"strokeWidth\": {\"value\": 1.5},\n",
    "              \"fillOpacity\": {\"value\": 1.0},\n",
    "              \"strokeOpacity\": {\"value\": 1.0}\n",
    "            },\n",
    "            \"update\": {\n",
    "              \"fill\": {\"signal\": \"(datum.absolute_change < 0 ? '#FC8D62' : '#2F5Bb2')\"},\n",
    "              \"angle\": {\"signal\": \"(datum.absolute_change < 0 ? 180 : 0)\"},\n",
    "              \"opacity\": {\"value\": 1}\n",
    "            },\n",
    "            \"hover\": {\n",
    "              \"opacity\": {\"value\": 0.5}\n",
    "            }\n",
    "          }\n",
    "        },\n",
    "        {\n",
    "          \"type\": \"text\",\n",
    "          \"name\": \"net-label\",\n",
    "          \"from\": {\"data\": \"net_data\"},\n",
    "          \"encode\": {\n",
    "            \"enter\": {\n",
    "              \"fontSize\": {\"value\": 11},\n",
    "              \"fontWeight\": {\"value\": \"normal\"},\n",
    "              \"fontStyle\": {\"value\": \"normal\"},\n",
    "              \"baseline\": \"middle\",\n",
    "              \"text\": {\n",
    "                \"value\": \"Net Change:\"\n",
    "              },\n",
    "              \"xc\": {\"field\": {\"group\": \"width\"}, \"mult\": 0.35},\n",
    "              \"yc\": {\"field\": {\"group\": \"height\"}, \"mult\": 0.3}\n",
    "            }\n",
    "          }\n",
    "        },\n",
    "        {\n",
    "          \"type\": \"text\",\n",
    "          \"name\": \"net-value\",\n",
    "          \"from\": {\"data\": \"net_data\"},\n",
    "          \"encode\": {\n",
    "            \"enter\": {\n",
    "              \"fontSize\": {\"value\": 20},\n",
    "              \"fontStyle\": {\"value\": \"normal\"},\n",
    "              \"fontWeight\": {\"value\": \"bold\"},\n",
    "              \"baseline\": \"middle\",\n",
    "              \"text\": [{\"signal\": \"format(datum.fraction_change,'.1%')\"}],\n",
    "              \"x\": {\"field\": {\"group\": \"width\"}, \"mult\": 0.37},\n",
    "              \"yc\": {\"field\": {\"group\": \"height\"}, \"mult\": 0.55},\n",
    "              \"tooltip\": {\n",
    "                \"signal\": \"{'Area':format(datum.absolute_change,',d')+' sq. km'}\"\n",
    "              }\n",
    "            }\n",
    "          }\n",
    "        }\n",
    "      ]\n",
    "    }\n",
    "  ],\n",
    "  \"legends\": [\n",
    "    {\n",
    "      \"fill\": \"color\",\n",
    "      \"direction\": \"vertical\",\n",
    "      \"orient\": \"right\",\n",
    "      \"labelBaseline\": \"middle\",\n",
    "      \"title\": [\n",
    "        \"Mangrove\",\n",
    "        \"extent\"  \n",
    "      ],\n",
    "      \"encode\": {\n",
    "        \"labels\": {\n",
    "          \"interactive\": true,\n",
    "          \"update\": {\n",
    "            \"fill\": {\n",
    "              \"value\": \"#000000\"\n",
    "            },\n",
    "            \"fontSize\": {\n",
    "              \"value\": \"11\"\n",
    "            },\n",
    "            \"dy\": {\n",
    "              \"value\": 1\n",
    "            }\n",
    "          },\n",
    "          \"hover\": {\n",
    "            \"fill\": {\n",
    "              \"value\": \"#aaaaaa\"\n",
    "            }\n",
    "          }\n",
    "        }\n",
    "      }\n",
    "    }\n",
    "  ]\n",
    "}\n",
    "\"\"\")\n",
    "vega_view=dict(spec)\n",
    "vega_view['width']=widget_width\n",
    "vega_view['height']=widget_height\n",
    "Vega(vega_view)"
   ]
  },
  {
   "cell_type": "markdown",
   "metadata": {},
   "source": [
    "### RW API\n",
    "Parent dataset [for.005b.rw0 Mangrove Extent Change](https://resourcewatch.org/data/explore/for005brw0-Mangrove-Extent-Change) ([Admin](https://resourcewatch.org/admin/data/datasets/f31dece0-9256-428a-84de-3a59f5c06bb7/edit))    \n",
    "[API ID](https://api.resourcewatch.org/v1/dataset/f31dece0-9256-428a-84de-3a59f5c06bb7/) `f31dece0-9256-428a-84de-3a59f5c06bb7`  \n",
    "[Widgets](https://api.resourcewatch.org/v1/dataset/f31dece0-9256-428a-84de-3a59f5c06bb7/widget?page[size]=100)"
   ]
  },
  {
   "cell_type": "markdown",
   "metadata": {},
   "source": [
    "Lightly modified version of widget passed to API via [widget script](https://github.com/resource-watch/data-team-tools/blob/master/advanced_widget_writer/advanced_chart_widget_create.py). Key variables to modify in script, besides specification itself:"
   ]
  },
  {
   "cell_type": "code",
   "execution_count": 21,
   "metadata": {},
   "outputs": [],
   "source": [
    "dataset_id = 'f31dece0-9256-428a-84de-3a59f5c06bb7'\n",
    "name = 'Mangrove Gain & Loss in <GCRMN Region>, 1996–2016'\n",
    "description = 'Mangrove forest gained, lost, or stable between 1996 and 2006 by GCRMN region'"
   ]
  },
  {
   "cell_type": "markdown",
   "metadata": {},
   "source": [
    "- [Caribbean](https://api.resourcewatch.org/v1/widget/a39e0314-6715-4cc5-a496-80f1a65e8299?env=production)  `a39e0314-6715-4cc5-a496-80f1a65e8299`  \n",
    "- [Select Region](https://api.resourcewatch.org/v1/widget/4f0afc51-652a-4a26-8c59-529b31067709?env=production) `4f0afc51-652a-4a26-8c59-529b31067709`"
   ]
  }
 ],
 "metadata": {
  "kernelspec": {
   "display_name": "rw",
   "language": "python",
   "name": "rw"
  },
  "language_info": {
   "codemirror_mode": {
    "name": "ipython",
    "version": 3
   },
   "file_extension": ".py",
   "mimetype": "text/x-python",
   "name": "python",
   "nbconvert_exporter": "python",
   "pygments_lexer": "ipython3",
   "version": "3.7.10"
  }
 },
 "nbformat": 4,
 "nbformat_minor": 4
}
