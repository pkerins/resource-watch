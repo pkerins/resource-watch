{
 "cells": [
  {
   "cell_type": "markdown",
   "metadata": {},
   "source": [
    "# Projected Coral Bleaching\n",
    "Percentage of total reef area situated in waters where coral bleaching conditions are projected to exceed a threshold of frequency, aggregated by decade.\n",
    "\n",
    "_Author: Peter Kerins_  \n",
    "_Created: 27 Jan 2021_  \n",
    "_Updated: 22 Apr 2021_\n",
    "_Environment: jupyterlab_  "
   ]
  },
  {
   "cell_type": "markdown",
   "metadata": {},
   "source": [
    "## Style\n",
    "- Original\n",
    "    - Vega chart\n",
    "    - Time series\n",
    "    - Vertical bar chart\n",
    "    - Value showing fraction of reef area beyond threshold\n",
    "    - Double bars, one for each bleaching frequency\n",
    "- Revision\n",
    "    - Vega chart\n",
    "    - Time series\n",
    "    - Vertical bar chart\n",
    "    - Value is fraction beyond each threshold, for each threshold\n",
    "    - Single stacked, normalized bar per decade"
   ]
  },
  {
   "cell_type": "markdown",
   "metadata": {},
   "source": [
    "### Data\n",
    "[ocn.calcs.003 Coral Reef Projected Bleaching Areas by MEOW per Decade](https://resourcewatch.carto.com/u/wri-rw/dataset/ocn_calcs_003_reef_projected_bleaching_area_by_meow_per_decade)\n",
    "\n",
    "Calculations based on:  \n",
    "- [bio.004.rw2 Coral Reef Locations](https://resourcewatch.carto.com/u/wri-rw/tables/bio_004a_coral_reef_locations_edit/)  \n",
    "- [ocn.010.rw0 Projected Coral Bleaching](https://code.earthengine.google.com/?asset=projects/resource-watch-gee/ocn_010_projected_coral_bleaching)\n",
    "\n",
    "[Google Earth Engine calculation script](https://code.earthengine.google.com/5fa796302af6a63824bcd9efb62f2bde?noload=true)"
   ]
  },
  {
   "cell_type": "markdown",
   "metadata": {},
   "source": [
    "## Preparation"
   ]
  },
  {
   "cell_type": "code",
   "execution_count": 2,
   "metadata": {
    "jupyter": {
     "source_hidden": true
    }
   },
   "outputs": [],
   "source": [
    "import json\n",
    "from vega import Vega\n",
    "from IPython.display import display"
   ]
  },
  {
   "cell_type": "code",
   "execution_count": 3,
   "metadata": {
    "jupyter": {
     "source_hidden": true
    }
   },
   "outputs": [],
   "source": [
    "def Vega(spec):\n",
    "    bundle = {}\n",
    "    bundle['application/vnd.vega.v5+json'] = spec\n",
    "    display(bundle, raw=True)"
   ]
  },
  {
   "cell_type": "code",
   "execution_count": 4,
   "metadata": {
    "jupyter": {
     "source_hidden": true
    }
   },
   "outputs": [],
   "source": [
    "widget_width = 400\n",
    "widget_height = 300"
   ]
  },
  {
   "cell_type": "markdown",
   "metadata": {},
   "source": [
    "# Original version\n",
    "Side-by-side double bars for each decade, corresponding to the two frequency thresholds"
   ]
  },
  {
   "cell_type": "markdown",
   "metadata": {},
   "source": [
    "## Global specification  "
   ]
  },
  {
   "cell_type": "code",
   "execution_count": 5,
   "metadata": {},
   "outputs": [
    {
     "data": {
      "application/vnd.vega.v5+json": {
       "autosize": {
        "contains": "padding",
        "resize": true,
        "type": "pad"
       },
       "axes": [
        {
         "orient": "left",
         "scale": "yscale",
         "title": "Reefs Experiencing Bleaching Conditions (%)"
        },
        {
         "encode": {
          "domain": {
           "update": {
            "stroke": {
             "value": "#333"
            },
            "strokeWidth": {
             "value": 1.5
            }
           }
          },
          "labels": {
           "hover": {
            "fill": {
             "value": "firebrick"
            }
           },
           "interactive": true,
           "update": {
            "align": {
             "value": "left"
            },
            "angle": {
             "value": 45
            },
            "baseline": {
             "value": "middle"
            },
            "dx": {
             "value": 1
            },
            "dy": {
             "value": 2
            },
            "fill": {
             "value": "black"
            },
            "fontSize": {
             "value": 12
            },
            "text": {
             "signal": "datum.value + 's'"
            }
           }
          }
         },
         "labelPadding": 4,
         "orient": "bottom",
         "scale": "xscale",
         "tickSize": 0,
         "zindex": 1
        }
       ],
       "data": [
        {
         "format": {
          "property": "rows",
          "type": "json"
         },
         "name": "table",
         "transform": [
          {
           "as": "bleaching_percentage",
           "expr": "datum.bleaching_fraction * 100.0",
           "type": "formula"
          },
          {
           "as": "bleaching_percentage_running",
           "expr": "datum.bleaching_fraction_running * 100.0",
           "type": "formula"
          },
          {
           "expr": "datum.decade_start < 2070",
           "type": "filter"
          }
         ],
         "url": "https://wri-rw.carto.com/api/v2/sql?q=SELECT decade_start, frequency, SUM(bleaching_area) AS bleaching_area, SUM(total_area) AS total_area, SUM(bleaching_area)/SUM(total_area) AS bleaching_fraction, SUM(SUM(bleaching_area)/SUM(total_area)) OVER (ORDER BY decade_start) AS bleaching_fraction_running FROM (SELECT cartodb_id, '2x' AS frequency, unnest(array[2000, 2010, 2020, 2030, 2040, 2050, 2060, 2070, 2080, 2090]) AS decade_start, unnest(array[_2000s_2x, _2010s_2x, _2020s_2x, _2030s_2x, _2040s_2x, _2050s_2x, _2060s_2x, _2070s_2x, _2080s_2x, _2090s_2x]) AS bleaching_area, reefarea AS total_area FROM ocn_calcs_003_reef_projected_bleaching_area_by_meow_per_decade) AS decadal_data GROUP BY decade_start, frequency UNION ALL SELECT decade_start, frequency, SUM(bleaching_area) AS bleaching_area, SUM(total_area) AS total_area, SUM(bleaching_area)/SUM(total_area) AS bleaching_fraction, SUM(SUM(bleaching_area)/SUM(total_area)) OVER (ORDER BY decade_start) AS bleaching_fraction_running FROM(SELECT cartodb_id, '10x' AS frequency, unnest(array[2000, 2010, 2020, 2030, 2040, 2050, 2060, 2070, 2080, 2090]) AS decade_start, unnest(array[_2000s_10x, _2010s_10x, _2020s_10x, _2030s_10x, _2040s_10x, _2050s_10x, _2060s_10x, _2070s_10x, _2080s_10x, _2090s_10x]) AS bleaching_area, reefarea AS total_area FROM ocn_calcs_003_reef_projected_bleaching_area_by_meow_per_decade) AS decadal_data GROUP BY decade_start, frequency ORDER BY decade_start ASC, frequency DESC"
        }
       ],
       "height": 300,
       "legends": [
        {
         "fill": "color",
         "orient": "right",
         "title": [
          "Frequency",
          "of bleaching",
          "conditions",
          "(per decade)"
         ]
        }
       ],
       "marks": [
        {
         "encode": {
          "enter": {
           "x": {
            "field": "decade_start",
            "scale": "xscale"
           }
          }
         },
         "from": {
          "facet": {
           "data": "table",
           "groupby": "decade_start",
           "name": "facet"
          }
         },
         "marks": [
          {
           "encode": {
            "enter": {
             "fill": {
              "field": "frequency",
              "scale": "color"
             },
             "tooltip": {
              "signal": "{title:'Coral experiencing bleaching ' + datum.frequency + '/decade in ' + datum.decade_start + 's', 'Fraction of global reef area':format(datum.bleaching_fraction_running,'.1%')}"
             },
             "width": {
              "band": 1,
              "scale": "pos"
             },
             "x": {
              "field": "frequency",
              "scale": "pos"
             },
             "y": {
              "field": "bleaching_percentage_running",
              "scale": "yscale"
             },
             "y2": {
              "scale": "yscale",
              "value": 0
             }
            },
            "hover": {
             "fillOpacity": {
              "value": 0.5
             }
            },
            "update": {
             "fillOpacity": {
              "value": 1
             }
            }
           },
           "from": {
            "data": "facet"
           },
           "name": "bars",
           "type": "rect"
          }
         ],
         "scales": [
          {
           "domain": {
            "data": "facet",
            "field": "frequency"
           },
           "name": "pos",
           "range": "width",
           "type": "band"
          }
         ],
         "signals": [
          {
           "name": "width",
           "update": "bandwidth('xscale')"
          }
         ],
         "type": "group"
        }
       ],
       "scales": [
        {
         "domain": {
          "data": "table",
          "field": "decade_start"
         },
         "name": "xscale",
         "padding": 0.2,
         "range": "width",
         "type": "band"
        },
        {
         "domain": {
          "data": "table",
          "field": "bleaching_percentage_running"
         },
         "name": "yscale",
         "nice": true,
         "range": "height",
         "round": true,
         "type": "linear",
         "zero": true
        },
        {
         "domain": {
          "data": "table",
          "field": "frequency"
         },
         "name": "color",
         "range": [
          "#fd8d3c",
          "#bd0026"
         ],
         "type": "ordinal"
        }
       ],
       "signals": [
        {
         "name": "hover",
         "on": [
          {
           "events": "@cell:mouseover",
           "update": "datum"
          },
          {
           "events": "@cell:mouseout",
           "update": "null"
          }
         ],
         "value": null
        }
       ],
       "title": "Projected Frequency of Bleaching Conditions for Coral Reefs",
       "width": 300
      },
      "image/png": "[encoded data removed]"
     },
     "metadata": {},
     "output_type": "display_data"
    }
   ],
   "source": [
    "spec=json.loads(\"\"\"\n",
    "{\n",
    "  \"width\": 300,\n",
    "  \"height\": 300,\n",
    "  \"autosize\": {\"type\": \"pad\", \"resize\": true, \"contains\": \"padding\"},\n",
    "  \"title\": \"Projected Frequency of Bleaching Conditions for Coral Reefs\",\n",
    "  \"signals\": [\n",
    "    {\n",
    "      \"name\": \"hover\",\n",
    "      \"value\": null,\n",
    "      \"on\": [\n",
    "        {\"events\": \"@cell:mouseover\", \"update\": \"datum\"},\n",
    "        {\"events\": \"@cell:mouseout\", \"update\": \"null\"}\n",
    "      ]\n",
    "    }\n",
    "  ],\n",
    "  \"data\": [\n",
    "    {\n",
    "      \"name\": \"table\",\n",
    "      \"url\": \"https://wri-rw.carto.com/api/v2/sql?q=SELECT decade_start, frequency, SUM(bleaching_area) AS bleaching_area, SUM(total_area) AS total_area, SUM(bleaching_area)/SUM(total_area) AS bleaching_fraction, SUM(SUM(bleaching_area)/SUM(total_area)) OVER (ORDER BY decade_start) AS bleaching_fraction_running FROM (SELECT cartodb_id, '2x' AS frequency, unnest(array[2000, 2010, 2020, 2030, 2040, 2050, 2060, 2070, 2080, 2090]) AS decade_start, unnest(array[_2000s_2x, _2010s_2x, _2020s_2x, _2030s_2x, _2040s_2x, _2050s_2x, _2060s_2x, _2070s_2x, _2080s_2x, _2090s_2x]) AS bleaching_area, reefarea AS total_area FROM ocn_calcs_003_reef_projected_bleaching_area_by_meow_per_decade) AS decadal_data GROUP BY decade_start, frequency UNION ALL SELECT decade_start, frequency, SUM(bleaching_area) AS bleaching_area, SUM(total_area) AS total_area, SUM(bleaching_area)/SUM(total_area) AS bleaching_fraction, SUM(SUM(bleaching_area)/SUM(total_area)) OVER (ORDER BY decade_start) AS bleaching_fraction_running FROM(SELECT cartodb_id, '10x' AS frequency, unnest(array[2000, 2010, 2020, 2030, 2040, 2050, 2060, 2070, 2080, 2090]) AS decade_start, unnest(array[_2000s_10x, _2010s_10x, _2020s_10x, _2030s_10x, _2040s_10x, _2050s_10x, _2060s_10x, _2070s_10x, _2080s_10x, _2090s_10x]) AS bleaching_area, reefarea AS total_area FROM ocn_calcs_003_reef_projected_bleaching_area_by_meow_per_decade) AS decadal_data GROUP BY decade_start, frequency ORDER BY decade_start ASC, frequency DESC\",\n",
    "      \"format\": {\"type\": \"json\", \"property\": \"rows\"},\n",
    "      \"transform\": [\n",
    "        {\n",
    "          \"type\": \"formula\",\n",
    "          \"as\": \"bleaching_percentage\",\n",
    "          \"expr\": \"datum.bleaching_fraction * 100.0\"\n",
    "        },\n",
    "        {\n",
    "          \"type\": \"formula\",\n",
    "          \"as\": \"bleaching_percentage_running\",\n",
    "          \"expr\": \"datum.bleaching_fraction_running * 100.0\"\n",
    "        },\n",
    "        {\"type\": \"filter\", \"expr\": \"datum.decade_start < 2070\"}\n",
    "      ]\n",
    "    }\n",
    "  ],\n",
    "  \"scales\": [\n",
    "    {\n",
    "      \"name\": \"xscale\",\n",
    "      \"type\": \"band\",\n",
    "      \"domain\": {\"data\": \"table\", \"field\": \"decade_start\"},\n",
    "      \"range\": \"width\",\n",
    "      \"padding\": 0.2\n",
    "    },\n",
    "    {\n",
    "      \"name\": \"yscale\",\n",
    "      \"type\": \"linear\",\n",
    "      \"domain\": {\"data\": \"table\", \"field\": \"bleaching_percentage_running\"},\n",
    "      \"range\": \"height\",\n",
    "      \"round\": true,\n",
    "      \"zero\": true,\n",
    "      \"nice\": true\n",
    "    },\n",
    "    {\n",
    "      \"name\": \"color\",\n",
    "      \"type\": \"ordinal\",\n",
    "      \"domain\": {\"data\": \"table\", \"field\": \"frequency\"},\n",
    "      \"range\": [\"#fd8d3c\", \"#bd0026\"]\n",
    "    }\n",
    "  ],\n",
    "  \"axes\": [\n",
    "    {\n",
    "      \"orient\": \"left\",\n",
    "      \"scale\": \"yscale\",\n",
    "      \"title\": \"Reefs Experiencing Bleaching Conditions (%)\"\n",
    "    },\n",
    "    {\n",
    "      \"orient\": \"bottom\",\n",
    "      \"scale\": \"xscale\",\n",
    "      \"tickSize\": 0,\n",
    "      \"labelPadding\": 4,\n",
    "      \"zindex\": 1,\n",
    "      \"encode\": {\n",
    "        \"labels\": {\n",
    "          \"interactive\": true,\n",
    "          \"update\": {\n",
    "            \"text\": {\"signal\": \"datum.value + 's'\"},\n",
    "            \"fill\": {\"value\": \"black\"},\n",
    "            \"angle\": {\"value\": 45},\n",
    "            \"fontSize\": {\"value\": 12},\n",
    "            \"align\": {\"value\": \"left\"},\n",
    "            \"baseline\": {\"value\": \"middle\"},\n",
    "            \"dy\": {\"value\": 2},\n",
    "            \"dx\": {\"value\": 1}\n",
    "          },\n",
    "          \"hover\": {\"fill\": {\"value\": \"firebrick\"}}\n",
    "        },\n",
    "        \"domain\": {\n",
    "          \"update\": {\"stroke\": {\"value\": \"#333\"}, \"strokeWidth\": {\"value\": 1.5}}\n",
    "        }\n",
    "      }\n",
    "    }\n",
    "  ],\n",
    "  \"marks\": [\n",
    "    {\n",
    "      \"type\": \"group\",\n",
    "      \"from\": {\n",
    "        \"facet\": {\"data\": \"table\", \"name\": \"facet\", \"groupby\": \"decade_start\"}\n",
    "      },\n",
    "      \"encode\": {\"enter\": {\"x\": {\"scale\": \"xscale\", \"field\": \"decade_start\"}}},\n",
    "      \"signals\": [{\"name\": \"width\", \"update\": \"bandwidth('xscale')\"}],\n",
    "      \"scales\": [\n",
    "        {\n",
    "          \"name\": \"pos\",\n",
    "          \"type\": \"band\",\n",
    "          \"range\": \"width\",\n",
    "          \"domain\": {\"data\": \"facet\", \"field\": \"frequency\"}\n",
    "        }\n",
    "      ],\n",
    "      \"marks\": [\n",
    "        {\n",
    "          \"name\": \"bars\",\n",
    "          \"from\": {\"data\": \"facet\"},\n",
    "          \"type\": \"rect\",\n",
    "          \"encode\": {\n",
    "            \"enter\": {\n",
    "              \"x\": {\"scale\": \"pos\", \"field\": \"frequency\"},\n",
    "              \"width\": {\"scale\": \"pos\", \"band\": 1},\n",
    "              \"y\": {\"scale\": \"yscale\", \"field\": \"bleaching_percentage_running\"},\n",
    "              \"y2\": {\"scale\": \"yscale\", \"value\": 0},\n",
    "              \"fill\": {\"scale\": \"color\", \"field\": \"frequency\"},\n",
    "              \"tooltip\": {\n",
    "                \"signal\": \"{title:'Coral experiencing bleaching ' + datum.frequency + '/decade in ' + datum.decade_start + 's', 'Fraction of global reef area':format(datum.bleaching_fraction_running,'.1%')}\"\n",
    "              }\n",
    "            },\n",
    "            \"hover\": {\"fillOpacity\": {\"value\": 0.5}},\n",
    "            \"update\": {\"fillOpacity\": {\"value\": 1}}\n",
    "          }\n",
    "        }\n",
    "      ]\n",
    "    }\n",
    "  ],\n",
    "  \"legends\": [\n",
    "    {\n",
    "      \"title\": [\n",
    "        \"Frequency\",\n",
    "        \"of bleaching\",\n",
    "        \"conditions\",\n",
    "        \"(per decade)\"\n",
    "      ],\n",
    "      \"fill\": \"color\",\n",
    "      \"orient\": \"right\"\n",
    "    }\n",
    "  ]\n",
    "}\n",
    "\"\"\")\n",
    "vegaview=dict(spec)\n",
    "Vega(vegaview)"
   ]
  },
  {
   "cell_type": "markdown",
   "metadata": {},
   "source": [
    "### Resource Watch specification\n",
    "API ID: <GID>  \n",
    "https://resourcewatch.org/embed/widget/92dbd486-14dd-401f-a743-e05eab210a37<GID>"
   ]
  },
  {
   "cell_type": "markdown",
   "metadata": {},
   "source": [
    "### Script to pass modified specification to RW via API\n",
    "Based on [template in data-team-tool](https://github.com/resource-watch/data-team-tools/blob/6bf21e42d724b5f72060dd2f833864df8acad09e/map_embed_widget/embed_widget.py)"
   ]
  },
  {
   "cell_type": "code",
   "execution_count": 3,
   "metadata": {},
   "outputs": [
    {
     "data": {
      "text/plain": [
       "True"
      ]
     },
     "execution_count": 3,
     "metadata": {},
     "output_type": "execute_result"
    }
   ],
   "source": [
    "# import LMIPy as lmi\n",
    "import os\n",
    "import json\n",
    "import requests\n",
    "import dotenv\n",
    "dotenv.load_dotenv(os.path.abspath(os.getenv('RW_ENV')))"
   ]
  },
  {
   "cell_type": "code",
   "execution_count": 7,
   "metadata": {},
   "outputs": [
    {
     "name": "stdout",
     "output_type": "stream",
     "text": [
      "<Response [200]>\n"
     ]
    }
   ],
   "source": [
    "# input widget API ID for the empty advanced widget you have created and want to overwrite\n",
    "dataset_id = '9748a184-cf87-4363-bf81-2bf3030e2e53'\n",
    "widget_to_overwrite = '92dbd486-14dd-401f-a743-e05eab210a37'\n",
    "\n",
    "# replace the empty dictionary with the code from the vega editor\n",
    "# replace true with True and null with None\n",
    "vega = {\n",
    "  \"width\": 300,\n",
    "  \"height\": 300,\n",
    "  \"autosize\": {\"type\": \"pad\", \"resize\": True, \"contains\": \"padding\"},\n",
    "  \"signals\": [\n",
    "    {\n",
    "      \"name\": \"hover\",\n",
    "      \"value\": None,\n",
    "      \"on\": [\n",
    "        {\"events\": \"@cell:mouseover\", \"update\": \"datum\"},\n",
    "        {\"events\": \"@cell:mouseout\", \"update\": \"null\"}\n",
    "      ]\n",
    "    }\n",
    "  ],\n",
    "  \"data\": [\n",
    "    {\n",
    "      \"name\": \"table\",\n",
    "      \"url\": \"https://wri-rw.carto.com/api/v2/sql?q=SELECT decade_start, frequency, SUM(bleaching_area) AS bleaching_area, SUM(total_area) AS total_area, SUM(bleaching_area)/SUM(total_area) AS bleaching_fraction, SUM(SUM(bleaching_area)/SUM(total_area)) OVER (ORDER BY decade_start) AS bleaching_fraction_running FROM (SELECT cartodb_id, '2x' AS frequency, unnest(array[2000, 2010, 2020, 2030, 2040, 2050, 2060, 2070, 2080, 2090]) AS decade_start, unnest(array[_2000s_2x, _2010s_2x, _2020s_2x, _2030s_2x, _2040s_2x, _2050s_2x, _2060s_2x, _2070s_2x, _2080s_2x, _2090s_2x]) AS bleaching_area, reefarea AS total_area FROM ocn_calcs_003_reef_projected_bleaching_area_by_meow_per_decade) AS decadal_data GROUP BY decade_start, frequency UNION ALL SELECT decade_start, frequency, SUM(bleaching_area) AS bleaching_area, SUM(total_area) AS total_area, SUM(bleaching_area)/SUM(total_area) AS bleaching_fraction, SUM(SUM(bleaching_area)/SUM(total_area)) OVER (ORDER BY decade_start) AS bleaching_fraction_running FROM(SELECT cartodb_id, '10x' AS frequency, unnest(array[2000, 2010, 2020, 2030, 2040, 2050, 2060, 2070, 2080, 2090]) AS decade_start, unnest(array[_2000s_10x, _2010s_10x, _2020s_10x, _2030s_10x, _2040s_10x, _2050s_10x, _2060s_10x, _2070s_10x, _2080s_10x, _2090s_10x]) AS bleaching_area, reefarea AS total_area FROM ocn_calcs_003_reef_projected_bleaching_area_by_meow_per_decade) AS decadal_data GROUP BY decade_start, frequency ORDER BY decade_start ASC, frequency DESC\",\n",
    "      \"format\": {\"type\": \"json\", \"property\": \"rows\"},\n",
    "      \"transform\": [\n",
    "        {\n",
    "          \"type\": \"formula\",\n",
    "          \"as\": \"bleaching_percentage\",\n",
    "          \"expr\": \"datum.bleaching_fraction * 100.0\"\n",
    "        },\n",
    "        {\n",
    "          \"type\": \"formula\",\n",
    "          \"as\": \"bleaching_percentage_running\",\n",
    "          \"expr\": \"datum.bleaching_fraction_running * 100.0\"\n",
    "        },\n",
    "        {\"type\": \"filter\", \"expr\": \"datum.decade_start < 2070\"}\n",
    "      ]\n",
    "    }\n",
    "  ],\n",
    "  \"scales\": [\n",
    "    {\n",
    "      \"name\": \"xscale\",\n",
    "      \"type\": \"band\",\n",
    "      \"domain\": {\"data\": \"table\", \"field\": \"decade_start\"},\n",
    "      \"range\": \"width\",\n",
    "      \"padding\": 0.2\n",
    "    },\n",
    "    {\n",
    "      \"name\": \"yscale\",\n",
    "      \"type\": \"linear\",\n",
    "      \"domain\": {\"data\": \"table\", \"field\": \"bleaching_percentage_running\"},\n",
    "      \"range\": \"height\",\n",
    "      \"round\": True,\n",
    "      \"zero\": True,\n",
    "      \"nice\": True\n",
    "    },\n",
    "    {\n",
    "      \"name\": \"color\",\n",
    "      \"type\": \"ordinal\",\n",
    "      \"domain\": {\"data\": \"table\", \"field\": \"frequency\"},\n",
    "      \"range\": [\"#fd8d3c\", \"#bd0026\"]\n",
    "    }\n",
    "  ],\n",
    "  \"axes\": [\n",
    "    {\n",
    "      \"orient\": \"left\",\n",
    "      \"scale\": \"yscale\",\n",
    "      \"title\": \"Reefs Experiencing Bleaching Conditions (%)\"\n",
    "    },\n",
    "    {\n",
    "      \"orient\": \"bottom\",\n",
    "      \"scale\": \"xscale\",\n",
    "      \"tickSize\": 0,\n",
    "      \"labelPadding\": 4,\n",
    "      \"zindex\": 1,\n",
    "      \"encode\": {\n",
    "        \"labels\": {\n",
    "          \"interactive\": True,\n",
    "          \"update\": {\n",
    "            \"text\": {\"signal\": \"datum.value + 's'\"},\n",
    "            \"fill\": {\"value\": \"black\"},\n",
    "            \"angle\": {\"value\": 45},\n",
    "            \"fontSize\": {\"value\": 12},\n",
    "            \"align\": {\"value\": \"left\"},\n",
    "            \"baseline\": {\"value\": \"middle\"},\n",
    "            \"dy\": {\"value\": 2},\n",
    "            \"dx\": {\"value\": 1}\n",
    "          },\n",
    "          \"hover\": {\"fill\": {\"value\": \"firebrick\"}}\n",
    "        },\n",
    "        \"domain\": {\n",
    "          \"update\": {\"stroke\": {\"value\": \"#333\"}, \"strokeWidth\": {\"value\": 1.5}}\n",
    "        }\n",
    "      }\n",
    "    }\n",
    "  ],\n",
    "  \"marks\": [\n",
    "    {\n",
    "      \"type\": \"group\",\n",
    "      \"from\": {\n",
    "        \"facet\": {\"data\": \"table\", \"name\": \"facet\", \"groupby\": \"decade_start\"}\n",
    "      },\n",
    "      \"encode\": {\"enter\": {\"x\": {\"scale\": \"xscale\", \"field\": \"decade_start\"}}},\n",
    "      \"signals\": [{\"name\": \"width\", \"update\": \"bandwidth('xscale')\"}],\n",
    "      \"scales\": [\n",
    "        {\n",
    "          \"name\": \"pos\",\n",
    "          \"type\": \"band\",\n",
    "          \"range\": \"width\",\n",
    "          \"domain\": {\"data\": \"facet\", \"field\": \"frequency\"}\n",
    "        }\n",
    "      ],\n",
    "      \"marks\": [\n",
    "        {\n",
    "          \"name\": \"bars\",\n",
    "          \"from\": {\"data\": \"facet\"},\n",
    "          \"type\": \"rect\",\n",
    "          \"encode\": {\n",
    "            \"enter\": {\n",
    "              \"x\": {\"scale\": \"pos\", \"field\": \"frequency\"},\n",
    "              \"width\": {\"scale\": \"pos\", \"band\": 1},\n",
    "              \"y\": {\"scale\": \"yscale\", \"field\": \"bleaching_percentage_running\"},\n",
    "              \"y2\": {\"scale\": \"yscale\", \"value\": 0},\n",
    "              \"fill\": {\"scale\": \"color\", \"field\": \"frequency\"},\n",
    "              \"tooltip\": {\n",
    "                \"signal\": \"{'Decade':datum.decade_start+'s','Frequency':datum.frequency+'/decade','Reefs':format(datum.bleaching_fraction_running,'.1%')}\"\n",
    "              }\n",
    "            },\n",
    "            \"hover\": {\"fillOpacity\": {\"value\": 0.5}},\n",
    "            \"update\": {\"fillOpacity\": {\"value\": 1}}\n",
    "          }\n",
    "        }\n",
    "      ]\n",
    "    }\n",
    "  ],\n",
    "  \"legends\": [\n",
    "    {\n",
    "      \"title\": [\n",
    "        \"Frequency\",\n",
    "        \"of bleaching\",\n",
    "        \"conditions\",\n",
    "        \"(per decade)\"\n",
    "      ],\n",
    "      \"fill\": \"color\",\n",
    "      \"orient\": \"right\"\n",
    "    }\n",
    "  ]\n",
    "}\n",
    "\n",
    "\n",
    "# create payload to send to API\n",
    "# you must edit the interaction_config\n",
    "payload = {\n",
    "    \"widgetConfig\": {\n",
    "        \"schema\": \"https://vega.github.io/schema/vega/v5.json\",\n",
    "        **vega,\n",
    "        \"interaction_config\": [\n",
    "          {\n",
    "          }\n",
    "        ],\n",
    "      }\n",
    "    }\n",
    "\n",
    "# load in API credentials\n",
    "API_TOKEN = os.getenv('RW_API_KEY')\n",
    "headers = {\n",
    "'Content-Type': 'application/json',\n",
    "'Authorization': 'Bearer '+API_TOKEN, \n",
    "}\n",
    "\n",
    "# load the widget we are going to overwrite\n",
    "# option 1: LMIPY\n",
    "#widget = lmi.Widget(widget_to_overwrite)\n",
    "# option 2: requests\n",
    "url = f'http://api.resourcewatch.org/v1/dataset/{dataset_id}/widget/{widget_to_overwrite}'\n",
    "\n",
    "# Update the widget\n",
    "# option 1: LMIPY\n",
    "#widget = widget.update(update_params=payload, token=API_TOKEN)\n",
    "# option 2: requests\n",
    "r = requests.patch(url = url, json = payload, headers = headers)\n",
    "print(r)"
   ]
  },
  {
   "cell_type": "markdown",
   "metadata": {},
   "source": [
    "---"
   ]
  },
  {
   "cell_type": "markdown",
   "metadata": {},
   "source": [
    "# Revised version\n",
    "Single stacked, normalized bar for each decade, with segments for area below both thresholds and below neither."
   ]
  },
  {
   "cell_type": "markdown",
   "metadata": {},
   "source": [
    "## Global"
   ]
  },
  {
   "cell_type": "markdown",
   "metadata": {},
   "source": [
    "### SQL"
   ]
  },
  {
   "cell_type": "markdown",
   "metadata": {},
   "source": [
    "```sql\n",
    "SELECT lvl1.*,\n",
    "1-bleaching_fraction_2x_running AS fraction_none,\n",
    "bleaching_fraction_2x_running-bleaching_fraction_10x_running AS fraction_2x,\n",
    "bleaching_fraction_10x_running AS fraction_10x\n",
    "FROM (\n",
    "  SELECT decade_start, SUM(total_area) AS total_area, SUM(bleaching_area_2x) AS bleaching_area_2x, SUM(bleaching_area_10x) AS bleaching_area_10x,\n",
    "  SUM(bleaching_area_2x)/SUM(total_area) AS bleaching_fraction_2x, SUM(bleaching_area_10x)/SUM(total_area) AS bleaching_fraction_10x,\n",
    "  SUM(SUM(bleaching_area_2x)/SUM(total_area)) OVER (ORDER BY decade_start) AS bleaching_fraction_2x_running,\n",
    "  SUM(SUM(bleaching_area_10x)/SUM(total_area)) OVER (ORDER BY decade_start) AS bleaching_fraction_10x_running\n",
    "  FROM (\n",
    "    SELECT cartodb_id, gcrmn_reg, ecoregion, \n",
    "    unnest(array[2000, 2010, 2020, 2030, 2040, 2050, 2060, 2070, 2080, 2090]) AS decade_start,\n",
    "    unnest(array[_2000s_2x, _2010s_2x, _2020s_2x, _2030s_2x, _2040s_2x, _2050s_2x, _2060s_2x, _2070s_2x, _2080s_2x, _2090s_2x]) AS bleaching_area_2x,\n",
    "    unnest(array[_2000s_10x, _2010s_10x, _2020s_10x, _2030s_10x, _2040s_10x, _2050s_10x, _2060s_10x, _2070s_10x, _2080s_10x, _2090s_10x]) AS bleaching_area_10x,\n",
    "    reefarea AS total_area\n",
    "    FROM ocn_calcs_003_reef_projected_bleaching_area_by_meow_per_decade) AS lvl0\n",
    "  GROUP BY decade_start\n",
    "  ORDER BY decade_start ASC) AS lvl1\n",
    "```"
   ]
  },
  {
   "cell_type": "code",
   "execution_count": 6,
   "metadata": {},
   "outputs": [
    {
     "data": {
      "application/vnd.vega.v5+json": {
       "$schema": "https://vega.github.io/schema/vega/v5.json",
       "autosize": {
        "contains": "padding",
        "resize": true,
        "type": "pad"
       },
       "axes": [
        {
         "format": "%",
         "orient": "left",
         "scale": "yscale",
         "title": "Coral reef area"
        },
        {
         "encode": {
          "domain": {
           "update": {
            "stroke": {
             "value": "#333"
            },
            "strokeWidth": {
             "value": 1.5
            }
           }
          },
          "labels": {
           "hover": {
            "fill": {
             "value": "firebrick"
            }
           },
           "interactive": true,
           "update": {
            "align": {
             "value": "left"
            },
            "angle": {
             "value": 45
            },
            "baseline": {
             "value": "middle"
            },
            "dx": {
             "value": 1
            },
            "dy": {
             "value": 2
            },
            "fill": {
             "value": "black"
            },
            "fontSize": {
             "value": 12
            },
            "text": {
             "signal": "datum.value + 's'"
            }
           }
          }
         },
         "labelPadding": 4,
         "orient": "bottom",
         "scale": "xscale",
         "tickSize": 0,
         "zindex": 1
        }
       ],
       "data": [
        {
         "format": {
          "property": "rows",
          "type": "json"
         },
         "name": "table",
         "transform": [
          {
           "as": "sum_2x",
           "expr": "datum.fraction_none+datum.fraction_2x",
           "type": "formula"
          }
         ],
         "url": {
          "signal": "url_param"
         }
        }
       ],
       "description": "Projected frequency of bleaching conditions in waters around current (2018) coral reef habitat ",
       "height": 250,
       "legends": [
        {
         "fill": "color",
         "orient": "right",
         "title": [
          "Frequency",
          "of severe",
          "bleaching",
          "conditions",
          "(per decade)"
         ]
        }
       ],
       "marks": [
        {
         "encode": {
          "enter": {
           "fill": {
            "scale": "color",
            "value": "Occasional"
           },
           "tooltip": {
            "signal": "{title:'Occasional severe bleaching conditions', 'Decade':datum.decade_start+'s', 'Severe bleaching-level heat stress events per decade':'2 or fewer', 'Fraction of global reef area':format(datum.fraction_none,'.1%')}"
           },
           "width": {
            "band": 1,
            "scale": "xscale"
           },
           "x": {
            "field": "decade_start",
            "scale": "xscale"
           },
           "y": {
            "scale": "yscale",
            "value": 0
           },
           "y2": {
            "field": "fraction_none",
            "scale": "yscale"
           }
          },
          "hover": {
           "fillOpacity": {
            "value": 0.5
           }
          },
          "update": {
           "fillOpacity": {
            "value": 1
           }
          }
         },
         "from": {
          "data": "table"
         },
         "name": "bars_none",
         "type": "rect"
        },
        {
         "encode": {
          "enter": {
           "fill": {
            "scale": "color",
            "value": "2x"
           },
           "tooltip": {
            "signal": "{title:'Recurring severe bleaching conditions', 'Decade':datum.decade_start+'s', 'Severe bleaching-level heat stress events per decade':'2 to 10', 'Fraction of global reef area':format(datum.fraction_none,'.1%')}"
           },
           "width": {
            "band": 1,
            "scale": "xscale"
           },
           "x": {
            "field": "decade_start",
            "scale": "xscale"
           },
           "y": {
            "field": "fraction_none",
            "scale": "yscale"
           },
           "y2": {
            "field": "sum_2x",
            "scale": "yscale"
           }
          },
          "hover": {
           "fillOpacity": {
            "value": 0.5
           }
          },
          "update": {
           "fillOpacity": {
            "value": 1
           }
          }
         },
         "from": {
          "data": "table"
         },
         "name": "bars_2x",
         "type": "rect"
        },
        {
         "encode": {
          "enter": {
           "fill": {
            "scale": "color",
            "value": "10x"
           },
           "tooltip": {
            "signal": "{title:'Regular severe bleaching conditions', 'Decade':datum.decade_start+'s', 'Severe bleaching-level heat stress events per decade':'10 or more', 'Fraction of global reef area':format(datum.fraction_10x,'.1%')}"
           },
           "width": {
            "band": 1,
            "scale": "xscale"
           },
           "x": {
            "field": "decade_start",
            "scale": "xscale"
           },
           "y": {
            "field": "sum_2x",
            "scale": "yscale"
           },
           "y2": {
            "scale": "yscale",
            "value": 1
           }
          },
          "hover": {
           "fillOpacity": {
            "value": 0.5
           }
          },
          "update": {
           "fillOpacity": {
            "value": 1
           }
          }
         },
         "from": {
          "data": "table"
         },
         "name": "bars_poor",
         "type": "rect"
        }
       ],
       "padding": {
        "bottom": 5,
        "left": 0,
        "right": 0,
        "top": 0
       },
       "scales": [
        {
         "domain": {
          "data": "table",
          "field": "decade_start"
         },
         "name": "xscale",
         "padding": 0.2,
         "range": "width",
         "type": "band"
        },
        {
         "domain": [
          0,
          1
         ],
         "name": "yscale",
         "nice": true,
         "range": "height",
         "round": true,
         "type": "linear",
         "zero": true
        },
        {
         "domain": [
          "10x",
          "2x",
          "Occasional"
         ],
         "name": "color",
         "range": [
          "#dabfe2",
          "#df65b0",
          "#ce1256"
         ],
         "type": "ordinal"
        }
       ],
       "signals": [
        {
         "name": "hover",
         "on": [
          {
           "events": "@cell:mouseover",
           "update": "datum"
          },
          {
           "events": "@cell:mouseout",
           "update": "null"
          }
         ],
         "value": null
        },
        {
         "description": "Unchanging URL for pulling data; in signal form only as legacy from regional version",
         "name": "url_param",
         "update": "'https://wri-rw.carto.com/api/v2/sql?q=SELECT lvl1.*, 1-bleaching_fraction_2x_running AS fraction_none, bleaching_fraction_2x_running-bleaching_fraction_10x_running AS fraction_2x, bleaching_fraction_10x_running AS fraction_10x FROM (SELECT decade_start, SUM(total_area) AS total_area, SUM(bleaching_area_2x) AS bleaching_area_2x, SUM(bleaching_area_10x) AS bleaching_area_10x, SUM(bleaching_area_2x)/SUM(total_area) AS bleaching_fraction_2x, SUM(bleaching_area_10x)/SUM(total_area) AS bleaching_fraction_10x, SUM(SUM(bleaching_area_2x)/SUM(total_area)) OVER (ORDER BY decade_start) AS bleaching_fraction_2x_running, SUM(SUM(bleaching_area_10x)/SUM(total_area)) OVER (ORDER BY decade_start) AS bleaching_fraction_10x_running FROM (SELECT cartodb_id, gcrmn_reg, ecoregion, unnest(array[2000, 2010, 2020, 2030, 2040, 2050, 2060, 2070, 2080, 2090]) AS decade_start, unnest(array[_2000s_2x, _2010s_2x, _2020s_2x, _2030s_2x, _2040s_2x, _2050s_2x, _2060s_2x, _2070s_2x, _2080s_2x, _2090s_2x]) AS bleaching_area_2x, unnest(array[_2000s_10x, _2010s_10x, _2020s_10x, _2030s_10x, _2040s_10x, _2050s_10x, _2060s_10x, _2070s_10x, _2080s_10x, _2090s_10x]) AS bleaching_area_10x, reefarea AS total_area FROM ocn_calcs_003_reef_projected_bleaching_area_by_meow_per_decade) AS lvl0 GROUP BY decade_start ORDER BY decade_start ASC) AS lvl1'"
        }
       ],
       "title": {
        "text": {
         "signal": "'Projected Frequency of Severe Coral Bleaching Conditions'"
        }
       },
       "width": 300
      },
      "image/png": "[encoded data removed]"
     },
     "metadata": {},
     "output_type": "display_data"
    }
   ],
   "source": [
    "spec=json.loads(\"\"\"\n",
    "{\n",
    "  \"$schema\": \"https://vega.github.io/schema/vega/v5.json\",\n",
    "  \"description\": \"Projected frequency of bleaching conditions in waters around current (2018) coral reef habitat \",\n",
    "  \"width\": 300,\n",
    "  \"height\": 250,\n",
    "  \"padding\": {\n",
    "    \"left\": 0, \n",
    "    \"top\": 0, \n",
    "    \"right\": 0, \n",
    "    \"bottom\": 5\n",
    "  },\n",
    "  \"autosize\": {\"type\": \"pad\", \"resize\": true, \"contains\": \"padding\"},\n",
    "  \"signals\": [\n",
    "    {\n",
    "      \"name\": \"hover\",\n",
    "      \"value\": null,\n",
    "      \"on\": [\n",
    "        {\"events\": \"@cell:mouseover\", \"update\": \"datum\"},\n",
    "        {\"events\": \"@cell:mouseout\", \"update\": \"null\"}\n",
    "      ]\n",
    "    },\n",
    "    {\n",
    "      \"name\": \"url_param\",\n",
    "      \"description\": \"Unchanging URL for pulling data; in signal form only as legacy from regional version\",\n",
    "      \"update\": \"'https://wri-rw.carto.com/api/v2/sql?q=SELECT lvl1.*, 1-bleaching_fraction_2x_running AS fraction_none, bleaching_fraction_2x_running-bleaching_fraction_10x_running AS fraction_2x, bleaching_fraction_10x_running AS fraction_10x FROM (SELECT decade_start, SUM(total_area) AS total_area, SUM(bleaching_area_2x) AS bleaching_area_2x, SUM(bleaching_area_10x) AS bleaching_area_10x, SUM(bleaching_area_2x)/SUM(total_area) AS bleaching_fraction_2x, SUM(bleaching_area_10x)/SUM(total_area) AS bleaching_fraction_10x, SUM(SUM(bleaching_area_2x)/SUM(total_area)) OVER (ORDER BY decade_start) AS bleaching_fraction_2x_running, SUM(SUM(bleaching_area_10x)/SUM(total_area)) OVER (ORDER BY decade_start) AS bleaching_fraction_10x_running FROM (SELECT cartodb_id, gcrmn_reg, ecoregion, unnest(array[2000, 2010, 2020, 2030, 2040, 2050, 2060, 2070, 2080, 2090]) AS decade_start, unnest(array[_2000s_2x, _2010s_2x, _2020s_2x, _2030s_2x, _2040s_2x, _2050s_2x, _2060s_2x, _2070s_2x, _2080s_2x, _2090s_2x]) AS bleaching_area_2x, unnest(array[_2000s_10x, _2010s_10x, _2020s_10x, _2030s_10x, _2040s_10x, _2050s_10x, _2060s_10x, _2070s_10x, _2080s_10x, _2090s_10x]) AS bleaching_area_10x, reefarea AS total_area FROM ocn_calcs_003_reef_projected_bleaching_area_by_meow_per_decade) AS lvl0 GROUP BY decade_start ORDER BY decade_start ASC) AS lvl1'\"\n",
    "    }\n",
    "  ],\n",
    "  \"data\": [\n",
    "    {\n",
    "      \"name\": \"table\",\n",
    "      \"url\": {\n",
    "        \"signal\": \"url_param\"\n",
    "      },\n",
    "      \"format\": {\"type\": \"json\", \"property\": \"rows\"},\n",
    "      \"transform\": [\n",
    "        {\n",
    "          \"type\": \"formula\",\n",
    "          \"expr\": \"datum.fraction_none+datum.fraction_2x\",\n",
    "          \"as\": \"sum_2x\"\n",
    "        }\n",
    "      ]\n",
    "    }\n",
    "  ],\n",
    "  \"title\": {\n",
    "    \"text\": \n",
    "      {\"signal\": \"'Projected Frequency of Severe Coral Bleaching Conditions'\"}\n",
    "  },\n",
    "  \"scales\": [\n",
    "    {\n",
    "      \"name\": \"xscale\",\n",
    "      \"type\": \"band\",\n",
    "      \"domain\": {\"data\": \"table\", \"field\": \"decade_start\"},\n",
    "      \"range\": \"width\",\n",
    "      \"padding\": 0.2\n",
    "    },\n",
    "    {\n",
    "      \"name\": \"yscale\",\n",
    "      \"type\": \"linear\",\n",
    "      \"domain\": [0,1],\n",
    "      \"range\": \"height\",\n",
    "      \"round\": true,\n",
    "      \"zero\": true,\n",
    "      \"nice\": true\n",
    "    },\n",
    "    {\n",
    "      \"name\": \"color\",\n",
    "      \"type\": \"ordinal\",\n",
    "      \"domain\": [\n",
    "        \"10x\",\n",
    "        \"2x\",\n",
    "        \"Occasional\"\n",
    "      ],\n",
    "      \"range\": [\n",
    "        \"#dabfe2\",\n",
    "        \"#df65b0\",\n",
    "        \"#ce1256\"\n",
    "      ]\n",
    "    }\n",
    "  ],\n",
    "  \"axes\": [\n",
    "    {\n",
    "      \"orient\": \"left\",\n",
    "      \"scale\": \"yscale\",\n",
    "      \"title\": \"Coral reef area\",\n",
    "      \"format\": \"%\"\n",
    "    },\n",
    "    {\n",
    "      \"orient\": \"bottom\",\n",
    "      \"scale\": \"xscale\",\n",
    "      \"tickSize\": 0,\n",
    "      \"labelPadding\": 4,\n",
    "      \"zindex\": 1,\n",
    "      \"encode\": {\n",
    "        \"labels\": {\n",
    "          \"interactive\": true,\n",
    "          \"update\": {\n",
    "            \"text\": {\"signal\": \"datum.value + 's'\"},\n",
    "            \"fill\": {\"value\": \"black\"},\n",
    "            \"angle\": {\"value\": 45},\n",
    "            \"fontSize\": {\"value\": 12},\n",
    "            \"align\": {\"value\": \"left\"},\n",
    "            \"baseline\": {\"value\": \"middle\"},\n",
    "            \"dy\": {\"value\": 2},\n",
    "            \"dx\": {\"value\": 1}\n",
    "          },\n",
    "          \"hover\": {\"fill\": {\"value\": \"firebrick\"}}\n",
    "        },\n",
    "        \"domain\": {\n",
    "          \"update\": {\"stroke\": {\"value\": \"#333\"}, \"strokeWidth\": {\"value\": 1.5}}\n",
    "        }\n",
    "      }\n",
    "    }\n",
    "  ],\n",
    "  \"marks\": [\n",
    "    {\n",
    "      \"name\": \"bars_none\",\n",
    "      \"from\": {\"data\": \"table\"},\n",
    "      \"type\": \"rect\",\n",
    "      \"encode\": {\n",
    "        \"enter\": {\n",
    "          \"x\": {\"scale\": \"xscale\", \"field\": \"decade_start\"},\n",
    "          \"width\": {\"scale\": \"xscale\", \"band\": 1},\n",
    "          \"y\": {\"scale\": \"yscale\", \"value\": 0},\n",
    "          \"y2\": {\"scale\": \"yscale\", \"field\": \"fraction_none\"},\n",
    "          \"fill\": {\"scale\": \"color\", \"value\": \"Occasional\"},\n",
    "          \"tooltip\": {\n",
    "            \"signal\": \"{title:'Occasional severe bleaching conditions', 'Decade':datum.decade_start+'s', 'Severe bleaching-level heat stress events per decade':'2 or fewer', 'Fraction of global reef area':format(datum.fraction_none,'.1%')}\"\n",
    "          }\n",
    "        },\n",
    "        \"hover\": {\"fillOpacity\": {\"value\": 0.5}},\n",
    "        \"update\": {\"fillOpacity\": {\"value\": 1}}\n",
    "      }\n",
    "    },\n",
    "    {\n",
    "      \"name\": \"bars_2x\",\n",
    "      \"from\": {\"data\": \"table\"},\n",
    "      \"type\": \"rect\",\n",
    "      \"encode\": {\n",
    "        \"enter\": {\n",
    "          \"x\": {\"scale\": \"xscale\", \"field\": \"decade_start\"},\n",
    "          \"width\": {\"scale\": \"xscale\", \"band\": 1},\n",
    "          \"y\": {\n",
    "            \"scale\": \"yscale\", \n",
    "            \"field\": \"fraction_none\"\n",
    "          },\n",
    "          \"y2\": {\n",
    "            \"scale\": \"yscale\", \n",
    "            \"field\": \"sum_2x\"\n",
    "          },\n",
    "          \"fill\": {\"scale\": \"color\", \"value\": \"2x\"},\n",
    "          \"tooltip\": {\n",
    "            \"signal\": \"{title:'Recurring severe bleaching conditions', 'Decade':datum.decade_start+'s', 'Severe bleaching-level heat stress events per decade':'2 to 10', 'Fraction of global reef area':format(datum.fraction_none,'.1%')}\"\n",
    "          }\n",
    "        },\n",
    "        \"hover\": {\"fillOpacity\": {\"value\": 0.5}},\n",
    "        \"update\": {\"fillOpacity\": {\"value\": 1}}\n",
    "      }\n",
    "    },\n",
    "    {\n",
    "      \"name\": \"bars_poor\",\n",
    "      \"from\": {\"data\": \"table\"},\n",
    "      \"type\": \"rect\",\n",
    "      \"encode\": {\n",
    "        \"enter\": {\n",
    "          \"x\": {\"scale\": \"xscale\", \"field\": \"decade_start\"},\n",
    "          \"width\": {\"scale\": \"xscale\", \"band\": 1},\n",
    "          \"y\": {\n",
    "            \"scale\": \"yscale\", \n",
    "            \"field\": \"sum_2x\"\n",
    "          },\n",
    "          \"y2\": {\n",
    "            \"scale\": \"yscale\", \n",
    "            \"value\": 1\n",
    "          },\n",
    "          \"fill\": {\"scale\": \"color\", \"value\": \"10x\"},\n",
    "          \"tooltip\": {\n",
    "            \"signal\": \"{title:'Regular severe bleaching conditions', 'Decade':datum.decade_start+'s', 'Severe bleaching-level heat stress events per decade':'10 or more', 'Fraction of global reef area':format(datum.fraction_10x,'.1%')}\"\n",
    "          }\n",
    "        },\n",
    "        \"hover\": {\"fillOpacity\": {\"value\": 0.5}},\n",
    "        \"update\": {\"fillOpacity\": {\"value\": 1}}\n",
    "      }\n",
    "    }\n",
    "  ],\n",
    "  \"legends\": [\n",
    "    {\n",
    "      \"title\": [\n",
    "        \"Frequency\",\n",
    "        \"of severe\",\n",
    "        \"bleaching\",\n",
    "        \"conditions\",\n",
    "        \"(per decade)\"\n",
    "      ],\n",
    "      \"fill\": \"color\",\n",
    "      \"orient\": \"right\"\n",
    "    }\n",
    "  ]\n",
    "}\n",
    "\"\"\")\n",
    "vegaview=dict(spec)\n",
    "Vega(vegaview)"
   ]
  },
  {
   "cell_type": "code",
   "execution_count": null,
   "metadata": {},
   "outputs": [],
   "source": []
  }
 ],
 "metadata": {
  "kernelspec": {
   "display_name": "rw",
   "language": "python",
   "name": "rw"
  },
  "language_info": {
   "codemirror_mode": {
    "name": "ipython",
    "version": 3
   },
   "file_extension": ".py",
   "mimetype": "text/x-python",
   "name": "python",
   "nbconvert_exporter": "python",
   "pygments_lexer": "ipython3",
   "version": "3.7.10"
  }
 },
 "nbformat": 4,
 "nbformat_minor": 4
}
