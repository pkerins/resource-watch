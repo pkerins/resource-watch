{
 "cells": [
  {
   "cell_type": "markdown",
   "metadata": {},
   "source": [
    "# Protected Areas\n",
    "Total reef area according to level of protection: unprotected area, marine protected area, fully or highly protected area.\n",
    "\n",
    "_Author: Peter Kerins_  \n",
    "_Created: 11 May 2021_  \n",
    "_Environment: jupyterlab_  "
   ]
  },
  {
   "cell_type": "markdown",
   "metadata": {},
   "source": [
    "## Style\n",
    "- Vega chart\n",
    "- Horizontal bar chart\n",
    "- Value is reef area at each protection level\n",
    "- Single stacked bar per region (for global version)"
   ]
  },
  {
   "cell_type": "markdown",
   "metadata": {},
   "source": [
    "### Data\n",
    "[ocn.calcs.008 Coral Reefs in Protected and No-Take Areas](https://resourcewatch.carto.com/u/wri-rw/dataset/ocn_calcs_008_reefs_mpa_notake)  \n",
    "\n",
    "- [Global Distribution of Coral Reefs](https://data.unep-wcmc.org/datasets/1) from WCMC ([bio.004.rw2 Coral Reef Locations](https://resourcewatch.carto.com/u/wri-rw/tables/bio_004a_coral_reef_locations_edit/))    \n",
    "- [Marine Protected Areas](https://www.protectedplanet.net/en/thematic-areas/marine-protected-areas) from WDPA ([bio.007b.rw0.nrt Marine Protected Areas]())  \n",
    "- [No-Take Zones]() from MPAtlas ([ocn.018.rw0.nrt Fully and Highly Protected Marine Areas]())  "
   ]
  },
  {
   "cell_type": "markdown",
   "metadata": {},
   "source": [
    "## Preparation"
   ]
  },
  {
   "cell_type": "code",
   "execution_count": 1,
   "metadata": {
    "tags": []
   },
   "outputs": [],
   "source": [
    "import json\n",
    "from vega import Vega\n",
    "from IPython.display import display"
   ]
  },
  {
   "cell_type": "code",
   "execution_count": 2,
   "metadata": {
    "jupyter": {
     "source_hidden": true
    }
   },
   "outputs": [],
   "source": [
    "def Vega(spec):\n",
    "    bundle = {}\n",
    "    bundle['application/vnd.vega.v5+json'] = spec\n",
    "    display(bundle, raw=True)"
   ]
  },
  {
   "cell_type": "code",
   "execution_count": 3,
   "metadata": {
    "jupyter": {
     "source_hidden": true
    }
   },
   "outputs": [],
   "source": [
    "widget_width = 400\n",
    "widget_height = 300"
   ]
  },
  {
   "cell_type": "markdown",
   "metadata": {},
   "source": [
    "# Specifications"
   ]
  },
  {
   "cell_type": "markdown",
   "metadata": {},
   "source": [
    "## Original\n",
    "Made prior to the availability of no-take zone data.  \n",
    "[ocn.calcs.005 Reef Area Inside and Outside MPAs](https://resourcewatch.carto.com/u/wri-rw/dataset/ocn_calcs_005_reef_area_inside_outside_mpas)  "
   ]
  },
  {
   "cell_type": "code",
   "execution_count": 4,
   "metadata": {},
   "outputs": [
    {
     "data": {
      "application/vnd.vega.v5+json": {
       "autosize": {
        "contains": "padding",
        "resize": true,
        "type": "pad"
       },
       "axes": [
        {
         "encode": {
          "domain": {
           "update": {
            "stroke": {
             "value": "#333"
            },
            "strokeWidth": {
             "value": 1.5
            }
           }
          },
          "labels": {
           "hover": {
            "fill": {
             "value": "firebrick"
            }
           },
           "interactive": true,
           "update": {
            "align": {
             "value": "right"
            },
            "angle": {
             "value": 0
            },
            "baseline": {
             "value": "middle"
            },
            "dx": {
             "value": 0
            },
            "dy": {
             "value": -2
            },
            "fill": {
             "value": "black"
            },
            "fontSize": {
             "value": "11"
            },
            "text": {
             "signal": "datum.value"
            }
           }
          }
         },
         "labelPadding": 5,
         "orient": "left",
         "scale": "yscale",
         "tickSize": 0,
         "title": "Country or Territory",
         "zindex": 1
        },
        {
         "labelOverlap": true,
         "orient": "bottom",
         "scale": "xscale",
         "title": "Area (square kilometers)"
        }
       ],
       "data": [
        {
         "format": {
          "property": "rows",
          "type": "json"
         },
         "name": "table",
         "transform": [
          {
           "as": [
            "x0",
            "x1"
           ],
           "field": "status_area",
           "groupby": [
            "country"
           ],
           "sort": {
            "field": [
             "status"
            ],
            "order": [
             "ascending"
            ]
           },
           "type": "stack"
          }
         ],
         "url": "https://wri-rw.carto.com/api/v2/sql?q=SELECT country, status, status_area, fraction_inside, total_area FROM ocn_calcs_005_reef_area_inside_outside_mpas WHERE country IN ('Australia','Indonesia','Philippines','Papua New Guinea','New Caledonia','United States','Saudi Arabia','Fiji','Micronesia','Fr. Polynesia') ORDER BY total_area DESC, status ASC"
        }
       ],
       "height": 300,
       "legends": [
        {
         "fill": "color",
         "orient": "right",
         "title": [
          "Coral reefs:"
         ]
        }
       ],
       "marks": [
        {
         "encode": {
          "enter": {
           "fill": {
            "field": "status",
            "scale": "color"
           },
           "height": {
            "band": 1,
            "offset": -6,
            "scale": "yscale"
           },
           "tooltip": {
            "signal": "{'Country/Territory':datum.country,'Status':upper(slice(datum.status,0,1))+slice(datum.status,1),'Area':format(round(datum.status_area),',')+ ' sq. km'}"
           },
           "x": {
            "field": "x0",
            "scale": "xscale"
           },
           "x2": {
            "field": "x1",
            "scale": "xscale"
           },
           "y": {
            "field": "country",
            "scale": "yscale"
           }
          },
          "hover": {
           "fillOpacity": {
            "value": 0.5
           }
          },
          "update": {
           "fillOpacity": {
            "value": 1
           }
          }
         },
         "from": {
          "data": "table"
         },
         "type": "rect"
        },
        {
         "encode": {
          "enter": {
           "align": {
            "value": ""
           },
           "baseline": {
            "value": "top"
           },
           "text": {
            "signal": "format(datum.fraction_inside, '.1%')"
           },
           "tooltip": {
            "signal": "'Reefs within national waters inside MPAs'"
           },
           "x": {
            "field": "total_area",
            "offset": 2,
            "scale": "xscale"
           },
           "y": {
            "field": "country",
            "offset": 7,
            "scale": "yscale"
           }
          }
         },
         "from": {
          "data": "table"
         },
         "type": "text"
        }
       ],
       "scales": [
        {
         "domain": {
          "data": "table",
          "field": "country"
         },
         "name": "yscale",
         "padding": 0,
         "range": "height",
         "type": "band"
        },
        {
         "domain": {
          "data": "table",
          "field": "total_area"
         },
         "name": "xscale",
         "nice": true,
         "range": "width",
         "round": true,
         "type": "linear",
         "zero": true
        },
        {
         "domain": {
          "data": "table",
          "field": "status"
         },
         "name": "color",
         "range": [
          "#7570b3",
          "#e78ac3"
         ],
         "type": "ordinal"
        }
       ],
       "schema": "https://vega.github.io/schema/vega/v5.json",
       "signals": [
        {
         "name": "hover",
         "on": [
          {
           "events": "@cell:mouseover",
           "update": "datum"
          },
          {
           "events": "@cell:mouseout",
           "update": "null"
          }
         ],
         "value": null
        }
       ],
       "width": 400
      },
      "image/png": "[encoded data removed]"
     },
     "metadata": {},
     "output_type": "display_data"
    }
   ],
   "source": [
    "spec=json.loads(\"\"\"\n",
    "{\n",
    "  \"schema\": \"https://vega.github.io/schema/vega/v5.json\",\n",
    "  \"width\": 300,\n",
    "  \"height\": 300,\n",
    "  \"autosize\": {\n",
    "    \"type\": \"pad\",\n",
    "    \"resize\": true,\n",
    "    \"contains\": \"padding\"\n",
    "  },\n",
    "  \"signals\": [\n",
    "    {\n",
    "      \"name\": \"hover\",\n",
    "      \"value\": null,\n",
    "      \"on\": [\n",
    "        {\n",
    "          \"events\": \"@cell:mouseover\",\n",
    "          \"update\": \"datum\"\n",
    "        },\n",
    "        {\n",
    "          \"events\": \"@cell:mouseout\",\n",
    "          \"update\": \"null\"\n",
    "        }\n",
    "      ]\n",
    "    }\n",
    "  ],\n",
    "  \"data\": [\n",
    "    {\n",
    "      \"name\": \"table\",\n",
    "      \"url\": \"https://wri-rw.carto.com/api/v2/sql?q=SELECT country, status, status_area, fraction_inside, total_area FROM ocn_calcs_005_reef_area_inside_outside_mpas WHERE country IN ('Australia','Indonesia','Philippines','Papua New Guinea','New Caledonia','United States','Saudi Arabia','Fiji','Micronesia','Fr. Polynesia') ORDER BY total_area DESC, status ASC\",\n",
    "      \"format\": {\n",
    "        \"type\": \"json\",\n",
    "        \"property\": \"rows\"\n",
    "      },\n",
    "      \"transform\": [\n",
    "        {\n",
    "          \"type\": \"stack\",\n",
    "          \"groupby\": [\n",
    "            \"country\"\n",
    "          ],\n",
    "          \"field\": \"status_area\",\n",
    "          \"sort\": {\n",
    "            \"field\": [\n",
    "              \"status\"\n",
    "            ],\n",
    "            \"order\": [\n",
    "              \"ascending\"\n",
    "            ]\n",
    "          },\n",
    "          \"as\": [\n",
    "            \"x0\",\n",
    "            \"x1\"\n",
    "          ]\n",
    "        }\n",
    "      ]\n",
    "    }\n",
    "  ],\n",
    "  \"scales\": [\n",
    "    {\n",
    "      \"name\": \"yscale\",\n",
    "      \"type\": \"band\",\n",
    "      \"domain\": {\n",
    "        \"data\": \"table\",\n",
    "        \"field\": \"country\"\n",
    "      },\n",
    "      \"range\": \"height\",\n",
    "      \"padding\": 0\n",
    "    },\n",
    "    {\n",
    "      \"name\": \"xscale\",\n",
    "      \"type\": \"linear\",\n",
    "      \"domain\": {\n",
    "        \"data\": \"table\",\n",
    "        \"field\": \"total_area\"\n",
    "      },\n",
    "      \"range\": \"width\",\n",
    "      \"round\": true,\n",
    "      \"zero\": true,\n",
    "      \"nice\": true\n",
    "    },\n",
    "    {\n",
    "      \"name\": \"color\",\n",
    "      \"type\": \"ordinal\",\n",
    "      \"domain\": {\n",
    "        \"data\": \"table\",\n",
    "        \"field\": \"status\"\n",
    "      },\n",
    "      \"range\": [\n",
    "        \"#7570b3\",\n",
    "        \"#e78ac3\"\n",
    "      ]\n",
    "    }\n",
    "  ],\n",
    "  \"axes\": [\n",
    "    {\n",
    "      \"orient\": \"left\",\n",
    "      \"scale\": \"yscale\",\n",
    "      \"title\": \"Country or Territory\",\n",
    "      \"tickSize\": 0,\n",
    "      \"labelPadding\": 5,\n",
    "      \"zindex\": 1,\n",
    "      \"encode\": {\n",
    "        \"labels\": {\n",
    "          \"interactive\": true,\n",
    "          \"update\": {\n",
    "            \"text\": {\n",
    "              \"signal\": \"datum.value\"\n",
    "            },\n",
    "            \"fill\": {\n",
    "              \"value\": \"black\"\n",
    "            },\n",
    "            \"angle\": {\n",
    "              \"value\": 0\n",
    "            },\n",
    "            \"align\": {\n",
    "              \"value\": \"right\"\n",
    "            },\n",
    "            \"fontSize\": {\n",
    "              \"value\": \"11\"\n",
    "            },\n",
    "            \"baseline\": {\n",
    "              \"value\": \"middle\"\n",
    "            },\n",
    "            \"dy\": {\n",
    "              \"value\": -2\n",
    "            },\n",
    "            \"dx\": {\n",
    "              \"value\": 0\n",
    "            }\n",
    "          },\n",
    "          \"hover\": {\n",
    "            \"fill\": {\n",
    "              \"value\": \"firebrick\"\n",
    "            }\n",
    "          }\n",
    "        },\n",
    "        \"domain\": {\n",
    "          \"update\": {\n",
    "            \"stroke\": {\n",
    "              \"value\": \"#333\"\n",
    "            },\n",
    "            \"strokeWidth\": {\n",
    "              \"value\": 1.5\n",
    "            }\n",
    "          }\n",
    "        }\n",
    "      }\n",
    "    },\n",
    "    {\n",
    "      \"orient\": \"bottom\",\n",
    "      \"scale\": \"xscale\",\n",
    "      \"title\": \"Area (square kilometers)\",\n",
    "      \"labelOverlap\": true\n",
    "    }\n",
    "  ],\n",
    "  \"marks\": [\n",
    "    {\n",
    "      \"type\": \"rect\",\n",
    "      \"from\": {\n",
    "        \"data\": \"table\"\n",
    "      },\n",
    "      \"encode\": {\n",
    "        \"enter\": {\n",
    "          \"y\": {\n",
    "            \"scale\": \"yscale\",\n",
    "            \"field\": \"country\"\n",
    "          },\n",
    "          \"height\": {\n",
    "            \"scale\": \"yscale\",\n",
    "            \"band\": 1,\n",
    "            \"offset\": -6\n",
    "          },\n",
    "          \"x\": {\n",
    "            \"scale\": \"xscale\",\n",
    "            \"field\": \"x0\"\n",
    "          },\n",
    "          \"x2\": {\n",
    "            \"scale\": \"xscale\",\n",
    "            \"field\": \"x1\"\n",
    "          },\n",
    "          \"fill\": {\n",
    "            \"scale\": \"color\",\n",
    "            \"field\": \"status\"\n",
    "          },\n",
    "          \"tooltip\": {\n",
    "            \"signal\": \"{'Country/Territory':datum.country,'Status':upper(slice(datum.status,0,1))+slice(datum.status,1),'Area':format(round(datum.status_area),',')+ ' sq. km'}\"\n",
    "          }\n",
    "        },\n",
    "        \"update\": {\n",
    "          \"fillOpacity\": {\n",
    "            \"value\": 1\n",
    "          }\n",
    "        },\n",
    "        \"hover\": {\n",
    "          \"fillOpacity\": {\n",
    "            \"value\": 0.5\n",
    "          }\n",
    "        }\n",
    "      }\n",
    "    },\n",
    "    {\n",
    "      \"type\": \"text\",\n",
    "      \"from\": {\n",
    "        \"data\": \"table\"\n",
    "      },\n",
    "      \"encode\": {\n",
    "        \"enter\": {\n",
    "          \"x\": {\n",
    "            \"scale\": \"xscale\",\n",
    "            \"field\": \"total_area\",\n",
    "            \"offset\": 2\n",
    "          },\n",
    "          \"y\": {\n",
    "            \"scale\": \"yscale\",\n",
    "            \"field\": \"country\",\n",
    "            \"offset\": 7\n",
    "          },\n",
    "          \"align\": {\n",
    "            \"value\": \"\"\n",
    "          },\n",
    "          \"baseline\": {\n",
    "            \"value\": \"top\"\n",
    "          },\n",
    "          \"text\": {\n",
    "            \"signal\": \"format(datum.fraction_inside, '.1%')\"\n",
    "          },\n",
    "          \"tooltip\": {\n",
    "            \"signal\": \"'Reefs within national waters inside MPAs'\"\n",
    "          }\n",
    "        }\n",
    "      }\n",
    "    }\n",
    "  ],\n",
    "  \"legends\": [\n",
    "    {\n",
    "      \"title\": [\n",
    "        \"Coral reefs:\"\n",
    "      ],\n",
    "      \"fill\": \"color\",\n",
    "      \"orient\": \"right\"\n",
    "    }\n",
    "  ]\n",
    "}\n",
    "\"\"\")\n",
    "vega_view=dict(spec)\n",
    "vega_view['width']=widget_width\n",
    "vega_view['height']=widget_height\n",
    "Vega(vega_view)"
   ]
  },
  {
   "cell_type": "markdown",
   "metadata": {},
   "source": [
    "## Global\n",
    "Contains bar for each region"
   ]
  },
  {
   "cell_type": "markdown",
   "metadata": {},
   "source": [
    "### SQL"
   ]
  },
  {
   "cell_type": "markdown",
   "metadata": {},
   "source": [
    "```sql\n",
    "SELECT * FROM ocn_calcs_008_reefs_mpa_notake\n",
    "```"
   ]
  },
  {
   "cell_type": "code",
   "execution_count": 4,
   "metadata": {},
   "outputs": [],
   "source": [
    "# spec=json.loads(\"\"\"\n",
    "\n",
    "# \"\"\")\n",
    "# vegaview=dict(spec)\n",
    "# Vega(vegaview)"
   ]
  },
  {
   "cell_type": "markdown",
   "metadata": {},
   "source": [
    "## Regional"
   ]
  },
  {
   "cell_type": "markdown",
   "metadata": {},
   "source": [
    "### SQL\n",
    "Note that regional filtering happens within widget via transform"
   ]
  },
  {
   "cell_type": "markdown",
   "metadata": {},
   "source": [
    "```sql\n",
    "SELECT * FROM ocn_calcs_007_local_threats\n",
    "```"
   ]
  },
  {
   "cell_type": "markdown",
   "metadata": {},
   "source": [
    "### Specification"
   ]
  },
  {
   "cell_type": "code",
   "execution_count": 7,
   "metadata": {
    "tags": []
   },
   "outputs": [
    {
     "data": {
      "application/vnd.vega.v5+json": {
       "$schema": "https://vega.github.io/schema/vega/v5.json",
       "autosize": {
        "contains": "padding",
        "resize": true,
        "type": "pad"
       },
       "axes": [
        {
         "format": "%",
         "orient": "left",
         "scale": "yscale",
         "title": "Coral reef area"
        },
        {
         "encode": {
          "domain": {
           "update": {
            "stroke": {
             "value": "#333"
            },
            "strokeWidth": {
             "value": 1.5
            }
           }
          },
          "labels": {
           "hover": {
            "fill": {
             "value": "firebrick"
            }
           },
           "interactive": true,
           "update": {
            "align": {
             "value": "center"
            },
            "angle": {
             "value": 0
            },
            "baseline": {
             "value": "middle"
            },
            "dx": {
             "value": 0
            },
            "dy": {
             "value": 5
            },
            "fill": {
             "value": "black"
            },
            "fontSize": {
             "value": 10
            },
            "lineBreak": {
             "value": " "
            },
            "text": {
             "signal": "datum.value"
            }
           }
          }
         },
         "labelPadding": 4,
         "orient": "bottom",
         "scale": "xscale",
         "tickSize": 0,
         "zindex": 1
        }
       ],
       "data": [
        {
         "format": {
          "property": "rows",
          "type": "json"
         },
         "name": "table",
         "transform": [
          {
           "expr": "datum.gcrmn_reg == region_name",
           "type": "filter"
          },
          {
           "as": "fraction_low",
           "expr": "datum.area_low/datum.area_total",
           "type": "formula"
          },
          {
           "as": "fraction_medium",
           "expr": "datum.area_medium/datum.area_total",
           "type": "formula"
          },
          {
           "as": "fraction_high",
           "expr": "datum.area_high/datum.area_total",
           "type": "formula"
          },
          {
           "as": "fraction_veryhigh",
           "expr": "datum.area_veryhigh/datum.area_total",
           "type": "formula"
          },
          {
           "as": "sum_low-medium",
           "expr": "datum.fraction_low+datum.fraction_medium",
           "type": "formula"
          },
          {
           "as": "sum_low-medium-high",
           "expr": "datum.fraction_low+datum.fraction_medium+datum.fraction_high",
           "type": "formula"
          }
         ],
         "url": {
          "signal": "url_param"
         }
        }
       ],
       "description": "Fraction of coral reef area under various magnitudes of local threat, separated by type of threat ",
       "height": 300,
       "legends": [
        {
         "fill": "color",
         "orient": "right",
         "title": [
          "Severity",
          "of threat"
         ]
        }
       ],
       "marks": [
        {
         "encode": {
          "enter": {
           "fill": {
            "scale": "color",
            "value": "Low"
           },
           "tooltip": {
            "signal": "{title:datum.threat, 'Severity of Threat':'Low', 'Fraction of regional reef area':format(datum.fraction_low,'.1%')}"
           },
           "width": {
            "band": 1,
            "scale": "xscale"
           },
           "x": {
            "field": "threat",
            "scale": "xscale"
           },
           "y": {
            "scale": "yscale",
            "value": 0
           },
           "y2": {
            "field": "fraction_low",
            "scale": "yscale"
           }
          },
          "hover": {
           "fillOpacity": {
            "value": 0.5
           }
          },
          "update": {
           "fillOpacity": {
            "value": 1
           }
          }
         },
         "from": {
          "data": "table"
         },
         "name": "bars_low",
         "type": "rect"
        },
        {
         "encode": {
          "enter": {
           "fill": {
            "scale": "color",
            "value": "Medium"
           },
           "tooltip": {
            "signal": "{title:datum.threat, 'Severity of Threat':'Medium', 'Fraction of regional reef area':format(datum.fraction_medium,'.1%')}"
           },
           "width": {
            "band": 1,
            "scale": "xscale"
           },
           "x": {
            "field": "threat",
            "scale": "xscale"
           },
           "y": {
            "field": "fraction_low",
            "scale": "yscale"
           },
           "y2": {
            "field": "sum_low-medium",
            "scale": "yscale"
           }
          },
          "hover": {
           "fillOpacity": {
            "value": 0.5
           }
          },
          "update": {
           "fillOpacity": {
            "value": 1
           }
          }
         },
         "from": {
          "data": "table"
         },
         "name": "bars_medium",
         "type": "rect"
        },
        {
         "encode": {
          "enter": {
           "fill": {
            "scale": "color",
            "value": "High"
           },
           "tooltip": {
            "signal": "{title:datum.threat, 'Severity of Threat':'High', 'Fraction of regional reef area':format(datum.fraction_high,'.1%')}"
           },
           "width": {
            "band": 1,
            "scale": "xscale"
           },
           "x": {
            "field": "threat",
            "scale": "xscale"
           },
           "y": {
            "field": "sum_low-medium",
            "scale": "yscale"
           },
           "y2": {
            "field": "sum_low-medium-high",
            "scale": "yscale"
           }
          },
          "hover": {
           "fillOpacity": {
            "value": 0.5
           }
          },
          "update": {
           "fillOpacity": {
            "value": 1
           }
          }
         },
         "from": {
          "data": "table"
         },
         "name": "bars_high",
         "type": "rect"
        },
        {
         "encode": {
          "enter": {
           "fill": {
            "scale": "color",
            "value": "Very High"
           },
           "tooltip": {
            "signal": "{title:datum.threat, 'Severity of Threat':'Very High', 'Fraction of regional reef area':format(datum.fraction_veryhigh,'.1%')}"
           },
           "width": {
            "band": 1,
            "scale": "xscale"
           },
           "x": {
            "field": "threat",
            "scale": "xscale"
           },
           "y": {
            "field": "sum_low-medium-high",
            "scale": "yscale"
           },
           "y2": {
            "scale": "yscale",
            "value": 1
           }
          },
          "hover": {
           "fillOpacity": {
            "value": 0.5
           }
          },
          "update": {
           "fillOpacity": {
            "value": 1
           }
          }
         },
         "from": {
          "data": "table"
         },
         "name": "bars_veryhigh",
         "type": "rect"
        }
       ],
       "padding": {
        "bottom": 5,
        "left": 0,
        "right": 0,
        "top": 0
       },
       "scales": [
        {
         "domain": {
          "data": "table",
          "field": "threat"
         },
         "name": "xscale",
         "padding": 0.2,
         "range": "width",
         "type": "band"
        },
        {
         "domain": [
          0,
          1
         ],
         "name": "yscale",
         "nice": true,
         "range": "height",
         "round": true,
         "type": "linear",
         "zero": true
        },
        {
         "domain": [
          "Very High",
          "High",
          "Medium",
          "Low"
         ],
         "name": "color",
         "range": [
          "#953735",
          "#FF250B",
          "#FFC000",
          "#B9CDE5"
         ],
         "type": "ordinal"
        }
       ],
       "signals": [
        {
         "name": "hover",
         "on": [
          {
           "events": "@cell:mouseover",
           "update": "datum"
          },
          {
           "events": "@cell:mouseout",
           "update": "null"
          }
         ],
         "value": null
        },
        {
         "bind": {
          "input": "select",
          "name": "GCRMN Region ",
          "options": [
           "Australia",
           "Brazil",
           "Caribbean",
           "East Asia",
           "ETP",
           "Pacific",
           "PERSGA",
           "ROPME",
           "South Asia",
           "WIO"
          ]
         },
         "description": "Name of GCRMN region",
         "name": "region_name",
         "value": "Caribbean"
        },
        {
         "description": "Unchanging URL for pulling data",
         "name": "url_param",
         "update": "'https://wri-rw.carto.com/api/v2/sql?q=SELECT * FROM ocn_calcs_007_local_threats'"
        }
       ],
       "title": {
        "text": {
         "signal": "'Local Threats to Coral Reefs in '+region_name"
        }
       },
       "width": 400
      },
      "image/png": "[encoded data removed]"
     },
     "metadata": {},
     "output_type": "display_data"
    }
   ],
   "source": [
    "spec=json.loads(\"\"\"\n",
    "\n",
    "\"\"\")\n",
    "vega_view=dict(spec)\n",
    "vega_view['width']=widget_width\n",
    "vega_view['height']=widget_height\n",
    "Vega(vega_view)"
   ]
  }
 ],
 "metadata": {
  "kernelspec": {
   "display_name": "rw",
   "language": "python",
   "name": "rw"
  },
  "language_info": {
   "codemirror_mode": {
    "name": "ipython",
    "version": 3
   },
   "file_extension": ".py",
   "mimetype": "text/x-python",
   "name": "python",
   "nbconvert_exporter": "python",
   "pygments_lexer": "ipython3",
   "version": "3.7.10"
  }
 },
 "nbformat": 4,
 "nbformat_minor": 4
}
