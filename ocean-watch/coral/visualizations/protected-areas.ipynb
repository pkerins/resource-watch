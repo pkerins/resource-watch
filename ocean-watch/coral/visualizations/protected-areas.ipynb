{
 "cells": [
  {
   "cell_type": "markdown",
   "metadata": {},
   "source": [
    "# Protected Areas\n",
    "Total reef area according to level of protection: unprotected area, marine protected area, fully or highly protected area. Disaggregated by GCRMN region or by country/territory.\n",
    "\n",
    "_Author: Peter Kerins_  \n",
    "_Created: 11 May 2021_  \n",
    "_Environment: jupyterlab_  "
   ]
  },
  {
   "cell_type": "markdown",
   "metadata": {},
   "source": [
    "## Style\n",
    "- Vega chart\n",
    "- Horizontal bar chart\n",
    "- Value is reef area at each protection level\n",
    "- Single stacked bar per region (for global version)"
   ]
  },
  {
   "cell_type": "markdown",
   "metadata": {},
   "source": [
    "### Data\n",
    "GCRMN Region data: [ocn.calcs.008a Coral Reefs in Protected and No-Take Areas by GCRMN Region](https://resourcewatch.carto.com/u/wri-rw/dataset/ocn_calcs_008a_reefs_mpa_notake_gcrmn)  \n",
    "Country/Territory data: [ocn.calcs.008b Coral Reefs in Protected and No-Take Areas by Country/Territory](https://resourcewatch.carto.com/u/wri-rw/dataset/ocn_calcs_008b_reefs_mpa_notake_territory)  \n",
    "\n",
    "- [Global Distribution of Coral Reefs](https://data.unep-wcmc.org/datasets/1) from WCMC ([bio.004.rw2 Coral Reef Locations](https://resourcewatch.carto.com/u/wri-rw/tables/bio_004a_coral_reef_locations_edit/))    \n",
    "- [Marine Protected Areas](https://www.protectedplanet.net/en/thematic-areas/marine-protected-areas) from WDPA ([bio.007b.rw0.nrt Marine Protected Areas]())  \n",
    "- [No-Take Zones]() from MPAtlas ([ocn.018.rw0.nrt Fully and Highly Protected Marine Areas]())  "
   ]
  },
  {
   "cell_type": "markdown",
   "metadata": {},
   "source": [
    "## Preparation"
   ]
  },
  {
   "cell_type": "code",
   "execution_count": 1,
   "metadata": {
    "jupyter": {
     "source_hidden": true
    },
    "tags": []
   },
   "outputs": [],
   "source": [
    "import json\n",
    "from vega import Vega\n",
    "from IPython.display import display"
   ]
  },
  {
   "cell_type": "code",
   "execution_count": 2,
   "metadata": {
    "jupyter": {
     "source_hidden": true
    }
   },
   "outputs": [],
   "source": [
    "def Vega(spec):\n",
    "    bundle = {}\n",
    "    bundle['application/vnd.vega.v5+json'] = spec\n",
    "    display(bundle, raw=True)"
   ]
  },
  {
   "cell_type": "code",
   "execution_count": 3,
   "metadata": {
    "jupyter": {
     "source_hidden": true
    }
   },
   "outputs": [],
   "source": [
    "widget_width = 400\n",
    "widget_height = 300"
   ]
  },
  {
   "cell_type": "markdown",
   "metadata": {},
   "source": [
    "# Specification - Original\n",
    "Made prior to the availability of no-take zone data. Disaggregated by country.  \n",
    "[ocn.calcs.005 Reef Area Inside and Outside MPAs](https://resourcewatch.carto.com/u/wri-rw/dataset/ocn_calcs_005_reef_area_inside_outside_mpas)  "
   ]
  },
  {
   "cell_type": "code",
   "execution_count": 5,
   "metadata": {},
   "outputs": [
    {
     "data": {
      "application/vnd.vega.v5+json": {
       "autosize": {
        "contains": "padding",
        "resize": true,
        "type": "pad"
       },
       "axes": [
        {
         "encode": {
          "domain": {
           "update": {
            "stroke": {
             "value": "#333"
            },
            "strokeWidth": {
             "value": 1.5
            }
           }
          },
          "labels": {
           "hover": {
            "fill": {
             "value": "firebrick"
            }
           },
           "interactive": true,
           "update": {
            "align": {
             "value": "right"
            },
            "angle": {
             "value": 0
            },
            "baseline": {
             "value": "middle"
            },
            "dx": {
             "value": 0
            },
            "dy": {
             "value": -2
            },
            "fill": {
             "value": "black"
            },
            "fontSize": {
             "value": "11"
            },
            "text": {
             "signal": "datum.value"
            }
           }
          }
         },
         "labelPadding": 5,
         "orient": "left",
         "scale": "yscale",
         "tickSize": 0,
         "title": "Country or Territory",
         "zindex": 1
        },
        {
         "labelOverlap": true,
         "orient": "bottom",
         "scale": "xscale",
         "title": "Area (square kilometers)"
        }
       ],
       "data": [
        {
         "format": {
          "property": "rows",
          "type": "json"
         },
         "name": "table",
         "transform": [
          {
           "as": [
            "x0",
            "x1"
           ],
           "field": "status_area",
           "groupby": [
            "country"
           ],
           "sort": {
            "field": [
             "status"
            ],
            "order": [
             "ascending"
            ]
           },
           "type": "stack"
          }
         ],
         "url": "https://wri-rw.carto.com/api/v2/sql?q=SELECT country, status, status_area, fraction_inside, total_area FROM ocn_calcs_005_reef_area_inside_outside_mpas WHERE country IN ('Australia','Indonesia','Philippines','Papua New Guinea','New Caledonia','United States','Saudi Arabia','Fiji','Micronesia','Fr. Polynesia') ORDER BY total_area DESC, status ASC"
        }
       ],
       "height": 300,
       "legends": [
        {
         "fill": "color",
         "orient": "right",
         "title": [
          "Coral reefs:"
         ]
        }
       ],
       "marks": [
        {
         "encode": {
          "enter": {
           "fill": {
            "field": "status",
            "scale": "color"
           },
           "height": {
            "band": 1,
            "offset": -6,
            "scale": "yscale"
           },
           "tooltip": {
            "signal": "{'Country/Territory':datum.country,'Status':upper(slice(datum.status,0,1))+slice(datum.status,1),'Area':format(round(datum.status_area),',')+ ' sq. km'}"
           },
           "x": {
            "field": "x0",
            "scale": "xscale"
           },
           "x2": {
            "field": "x1",
            "scale": "xscale"
           },
           "y": {
            "field": "country",
            "scale": "yscale"
           }
          },
          "hover": {
           "fillOpacity": {
            "value": 0.5
           }
          },
          "update": {
           "fillOpacity": {
            "value": 1
           }
          }
         },
         "from": {
          "data": "table"
         },
         "type": "rect"
        },
        {
         "encode": {
          "enter": {
           "align": {
            "value": ""
           },
           "baseline": {
            "value": "top"
           },
           "text": {
            "signal": "format(datum.fraction_inside, '.1%')"
           },
           "tooltip": {
            "signal": "'Reefs within national waters inside MPAs'"
           },
           "x": {
            "field": "total_area",
            "offset": 2,
            "scale": "xscale"
           },
           "y": {
            "field": "country",
            "offset": 7,
            "scale": "yscale"
           }
          }
         },
         "from": {
          "data": "table"
         },
         "type": "text"
        }
       ],
       "scales": [
        {
         "domain": {
          "data": "table",
          "field": "country"
         },
         "name": "yscale",
         "padding": 0,
         "range": "height",
         "type": "band"
        },
        {
         "domain": {
          "data": "table",
          "field": "total_area"
         },
         "name": "xscale",
         "nice": true,
         "range": "width",
         "round": true,
         "type": "linear",
         "zero": true
        },
        {
         "domain": {
          "data": "table",
          "field": "status"
         },
         "name": "color",
         "range": [
          "#7570b3",
          "#e78ac3"
         ],
         "type": "ordinal"
        }
       ],
       "schema": "https://vega.github.io/schema/vega/v5.json",
       "signals": [
        {
         "name": "hover",
         "on": [
          {
           "events": "@cell:mouseover",
           "update": "datum"
          },
          {
           "events": "@cell:mouseout",
           "update": "null"
          }
         ],
         "value": null
        }
       ],
       "width": 400
      },
      "image/png": "[encoded data removed]"
     },
     "metadata": {},
     "output_type": "display_data"
    }
   ],
   "source": [
    "spec=json.loads(\"\"\"\n",
    "{\n",
    "  \"schema\": \"https://vega.github.io/schema/vega/v5.json\",\n",
    "  \"width\": 300,\n",
    "  \"height\": 300,\n",
    "  \"autosize\": {\n",
    "    \"type\": \"pad\",\n",
    "    \"resize\": true,\n",
    "    \"contains\": \"padding\"\n",
    "  },\n",
    "  \"signals\": [\n",
    "    {\n",
    "      \"name\": \"hover\",\n",
    "      \"value\": null,\n",
    "      \"on\": [\n",
    "        {\n",
    "          \"events\": \"@cell:mouseover\",\n",
    "          \"update\": \"datum\"\n",
    "        },\n",
    "        {\n",
    "          \"events\": \"@cell:mouseout\",\n",
    "          \"update\": \"null\"\n",
    "        }\n",
    "      ]\n",
    "    }\n",
    "  ],\n",
    "  \"data\": [\n",
    "    {\n",
    "      \"name\": \"table\",\n",
    "      \"url\": \"https://wri-rw.carto.com/api/v2/sql?q=SELECT country, status, status_area, fraction_inside, total_area FROM ocn_calcs_005_reef_area_inside_outside_mpas WHERE country IN ('Australia','Indonesia','Philippines','Papua New Guinea','New Caledonia','United States','Saudi Arabia','Fiji','Micronesia','Fr. Polynesia') ORDER BY total_area DESC, status ASC\",\n",
    "      \"format\": {\n",
    "        \"type\": \"json\",\n",
    "        \"property\": \"rows\"\n",
    "      },\n",
    "      \"transform\": [\n",
    "        {\n",
    "          \"type\": \"stack\",\n",
    "          \"groupby\": [\n",
    "            \"country\"\n",
    "          ],\n",
    "          \"field\": \"status_area\",\n",
    "          \"sort\": {\n",
    "            \"field\": [\n",
    "              \"status\"\n",
    "            ],\n",
    "            \"order\": [\n",
    "              \"ascending\"\n",
    "            ]\n",
    "          },\n",
    "          \"as\": [\n",
    "            \"x0\",\n",
    "            \"x1\"\n",
    "          ]\n",
    "        }\n",
    "      ]\n",
    "    }\n",
    "  ],\n",
    "  \"scales\": [\n",
    "    {\n",
    "      \"name\": \"yscale\",\n",
    "      \"type\": \"band\",\n",
    "      \"domain\": {\n",
    "        \"data\": \"table\",\n",
    "        \"field\": \"country\"\n",
    "      },\n",
    "      \"range\": \"height\",\n",
    "      \"padding\": 0\n",
    "    },\n",
    "    {\n",
    "      \"name\": \"xscale\",\n",
    "      \"type\": \"linear\",\n",
    "      \"domain\": {\n",
    "        \"data\": \"table\",\n",
    "        \"field\": \"total_area\"\n",
    "      },\n",
    "      \"range\": \"width\",\n",
    "      \"round\": true,\n",
    "      \"zero\": true,\n",
    "      \"nice\": true\n",
    "    },\n",
    "    {\n",
    "      \"name\": \"color\",\n",
    "      \"type\": \"ordinal\",\n",
    "      \"domain\": {\n",
    "        \"data\": \"table\",\n",
    "        \"field\": \"status\"\n",
    "      },\n",
    "      \"range\": [\n",
    "        \"#7570b3\",\n",
    "        \"#e78ac3\"\n",
    "      ]\n",
    "    }\n",
    "  ],\n",
    "  \"axes\": [\n",
    "    {\n",
    "      \"orient\": \"left\",\n",
    "      \"scale\": \"yscale\",\n",
    "      \"title\": \"Country or Territory\",\n",
    "      \"tickSize\": 0,\n",
    "      \"labelPadding\": 5,\n",
    "      \"zindex\": 1,\n",
    "      \"encode\": {\n",
    "        \"labels\": {\n",
    "          \"interactive\": true,\n",
    "          \"update\": {\n",
    "            \"text\": {\n",
    "              \"signal\": \"datum.value\"\n",
    "            },\n",
    "            \"fill\": {\n",
    "              \"value\": \"black\"\n",
    "            },\n",
    "            \"angle\": {\n",
    "              \"value\": 0\n",
    "            },\n",
    "            \"align\": {\n",
    "              \"value\": \"right\"\n",
    "            },\n",
    "            \"fontSize\": {\n",
    "              \"value\": \"11\"\n",
    "            },\n",
    "            \"baseline\": {\n",
    "              \"value\": \"middle\"\n",
    "            },\n",
    "            \"dy\": {\n",
    "              \"value\": -2\n",
    "            },\n",
    "            \"dx\": {\n",
    "              \"value\": 0\n",
    "            }\n",
    "          },\n",
    "          \"hover\": {\n",
    "            \"fill\": {\n",
    "              \"value\": \"firebrick\"\n",
    "            }\n",
    "          }\n",
    "        },\n",
    "        \"domain\": {\n",
    "          \"update\": {\n",
    "            \"stroke\": {\n",
    "              \"value\": \"#333\"\n",
    "            },\n",
    "            \"strokeWidth\": {\n",
    "              \"value\": 1.5\n",
    "            }\n",
    "          }\n",
    "        }\n",
    "      }\n",
    "    },\n",
    "    {\n",
    "      \"orient\": \"bottom\",\n",
    "      \"scale\": \"xscale\",\n",
    "      \"title\": \"Area (square kilometers)\",\n",
    "      \"labelOverlap\": true\n",
    "    }\n",
    "  ],\n",
    "  \"marks\": [\n",
    "    {\n",
    "      \"type\": \"rect\",\n",
    "      \"from\": {\n",
    "        \"data\": \"table\"\n",
    "      },\n",
    "      \"encode\": {\n",
    "        \"enter\": {\n",
    "          \"y\": {\n",
    "            \"scale\": \"yscale\",\n",
    "            \"field\": \"country\"\n",
    "          },\n",
    "          \"height\": {\n",
    "            \"scale\": \"yscale\",\n",
    "            \"band\": 1,\n",
    "            \"offset\": -6\n",
    "          },\n",
    "          \"x\": {\n",
    "            \"scale\": \"xscale\",\n",
    "            \"field\": \"x0\"\n",
    "          },\n",
    "          \"x2\": {\n",
    "            \"scale\": \"xscale\",\n",
    "            \"field\": \"x1\"\n",
    "          },\n",
    "          \"fill\": {\n",
    "            \"scale\": \"color\",\n",
    "            \"field\": \"status\"\n",
    "          },\n",
    "          \"tooltip\": {\n",
    "            \"signal\": \"{'Country/Territory':datum.country,'Status':upper(slice(datum.status,0,1))+slice(datum.status,1),'Area':format(round(datum.status_area),',')+ ' sq. km'}\"\n",
    "          }\n",
    "        },\n",
    "        \"update\": {\n",
    "          \"fillOpacity\": {\n",
    "            \"value\": 1\n",
    "          }\n",
    "        },\n",
    "        \"hover\": {\n",
    "          \"fillOpacity\": {\n",
    "            \"value\": 0.5\n",
    "          }\n",
    "        }\n",
    "      }\n",
    "    },\n",
    "    {\n",
    "      \"type\": \"text\",\n",
    "      \"from\": {\n",
    "        \"data\": \"table\"\n",
    "      },\n",
    "      \"encode\": {\n",
    "        \"enter\": {\n",
    "          \"x\": {\n",
    "            \"scale\": \"xscale\",\n",
    "            \"field\": \"total_area\",\n",
    "            \"offset\": 2\n",
    "          },\n",
    "          \"y\": {\n",
    "            \"scale\": \"yscale\",\n",
    "            \"field\": \"country\",\n",
    "            \"offset\": 7\n",
    "          },\n",
    "          \"align\": {\n",
    "            \"value\": \"\"\n",
    "          },\n",
    "          \"baseline\": {\n",
    "            \"value\": \"top\"\n",
    "          },\n",
    "          \"text\": {\n",
    "            \"signal\": \"format(datum.fraction_inside, '.1%')\"\n",
    "          },\n",
    "          \"tooltip\": {\n",
    "            \"signal\": \"'Reefs within national waters inside MPAs'\"\n",
    "          }\n",
    "        }\n",
    "      }\n",
    "    }\n",
    "  ],\n",
    "  \"legends\": [\n",
    "    {\n",
    "      \"title\": [\n",
    "        \"Coral reefs:\"\n",
    "      ],\n",
    "      \"fill\": \"color\",\n",
    "      \"orient\": \"right\"\n",
    "    }\n",
    "  ]\n",
    "}\n",
    "\"\"\")\n",
    "vega_view=dict(spec)\n",
    "vega_view['width']=widget_width\n",
    "vega_view['height']=widget_height\n",
    "Vega(vega_view)"
   ]
  },
  {
   "cell_type": "markdown",
   "metadata": {},
   "source": [
    "---"
   ]
  },
  {
   "cell_type": "markdown",
   "metadata": {},
   "source": [
    "# Specifications - GCRMN Region"
   ]
  },
  {
   "cell_type": "markdown",
   "metadata": {},
   "source": [
    "## Global"
   ]
  },
  {
   "cell_type": "markdown",
   "metadata": {},
   "source": [
    "### SQL\n",
    "```sql\n",
    "SELECT gcrmn_reg, 'Unprotected' as area_type, area_unprotected AS area_value, area_total, area_unprotected/area_total AS area_fraction\n",
    "FROM ocn_calcs_008a_reefs_mpa_notake_gcrmn\n",
    "UNION ALL\n",
    "SELECT gcrmn_reg, 'Protected' as area_type, area_mpa_only AS area_value, area_total, area_mpa_only/area_total AS area_fraction\n",
    "FROM ocn_calcs_008a_reefs_mpa_notake_gcrmn\n",
    "UNION ALL\n",
    "SELECT gcrmn_reg, 'Fully/Highly Protected' as area_type, area_notake AS area_value, area_total, area_notake/area_total AS area_fraction\n",
    "FROM ocn_calcs_008a_reefs_mpa_notake_gcrmn\n",
    "ORDER BY gcrmn_reg ASC, area_type ASC\n",
    "```"
   ]
  },
  {
   "cell_type": "code",
   "execution_count": 10,
   "metadata": {},
   "outputs": [
    {
     "data": {
      "application/vnd.vega.v5+json": {
       "autosize": {
        "contains": "padding",
        "resize": true,
        "type": "pad"
       },
       "axes": [
        {
         "encode": {
          "labels": {
           "hover": {
            "fill": {
             "value": "firebrick"
            }
           },
           "interactive": true,
           "update": {
            "align": {
             "value": "right"
            },
            "angle": {
             "value": 0
            },
            "baseline": {
             "value": "middle"
            },
            "dx": {
             "value": 0
            },
            "dy": {
             "value": -2
            },
            "fill": {
             "value": "black"
            },
            "fontSize": {
             "value": "11"
            },
            "text": {
             "signal": "datum.value"
            }
           }
          }
         },
         "labelPadding": 5,
         "orient": "left",
         "scale": "yscale",
         "tickSize": 0,
         "zindex": 1
        },
        {
         "labelOverlap": "greedy",
         "labelSeparation": 20,
         "orient": "bottom",
         "scale": "xscale",
         "title": "Area (square kilometers)"
        }
       ],
       "data": [
        {
         "format": {
          "property": "rows",
          "type": "json"
         },
         "name": "table",
         "transform": [
          {
           "as": [
            "x0",
            "x1"
           ],
           "field": "area_value",
           "groupby": [
            "gcrmn_reg"
           ],
           "type": "stack"
          },
          {
           "as": "suffix",
           "expr": "if(datum.area_type=='Unprotected','(Outside of MPA)', if(datum.area_type=='Protected','(Other MPA)', '(No-Take Area)'))",
           "type": "formula"
          }
         ],
         "url": "https://wri-rw.carto.com/api/v2/sql?q=SELECT gcrmn_reg, 'Unprotected' as area_type, area_unprotected AS area_value, area_total, area_unprotected/area_total AS area_fraction FROM ocn_calcs_008a_reefs_mpa_notake_gcrmn UNION ALL SELECT gcrmn_reg, 'Protected' as area_type, area_mpa_only AS area_value, area_total, area_mpa_only/area_total AS area_fraction FROM ocn_calcs_008a_reefs_mpa_notake_gcrmn UNION ALL SELECT gcrmn_reg, 'Fully/Highly Protected' as area_type, area_notake AS area_value, area_total, area_notake/area_total AS area_fraction FROM ocn_calcs_008a_reefs_mpa_notake_gcrmn ORDER BY gcrmn_reg ASC, area_type ASC"
        }
       ],
       "height": 300,
       "legends": [
        {
         "encode": {
          "labels": {
           "hover": {
            "fill": {
             "value": "#ddaa99"
            }
           },
           "interactive": true,
           "update": {
            "fill": {
             "value": "#000000"
            }
           }
          }
         },
         "fill": "color",
         "orient": "bottom-right",
         "title": [
          "Protection level:"
         ]
        }
       ],
       "marks": [
        {
         "encode": {
          "enter": {
           "fill": {
            "field": "area_type",
            "scale": "color"
           },
           "height": {
            "band": 1,
            "offset": -6,
            "scale": "yscale"
           },
           "tooltip": {
            "signal": "{title:datum.area_type+' '+datum.suffix,'Region':datum.gcrmn_reg,'Proportion':format(datum.area_fraction, '.1%')}"
           },
           "x": {
            "field": "x0",
            "scale": "xscale"
           },
           "x2": {
            "field": "x1",
            "scale": "xscale"
           },
           "y": {
            "field": "gcrmn_reg",
            "scale": "yscale"
           }
          },
          "hover": {
           "fill": {
            "value": "#ddaa99"
           }
          },
          "update": {
           "fill": {
            "field": "area_type",
            "scale": "color"
           },
           "fillOpacity": {
            "value": 1
           }
          }
         },
         "from": {
          "data": "table"
         },
         "type": "rect"
        },
        {
         "encode": {
          "enter": {
           "align": {
            "value": ""
           },
           "baseline": {
            "value": "top"
           },
           "text": {
            "signal": ""
           },
           "tooltip": {
            "signal": "'Reefs within national waters inside MPAs'"
           },
           "x": {
            "field": "total_area",
            "offset": 2,
            "scale": "xscale"
           },
           "y": {
            "field": "country",
            "offset": 7,
            "scale": "yscale"
           }
          }
         },
         "from": {
          "data": "table"
         },
         "type": "text"
        }
       ],
       "scales": [
        {
         "domain": {
          "data": "table",
          "field": "gcrmn_reg"
         },
         "name": "yscale",
         "padding": 0,
         "range": "height",
         "type": "band"
        },
        {
         "domain": {
          "data": "table",
          "field": "area_total"
         },
         "name": "xscale",
         "nice": true,
         "range": "width",
         "round": true,
         "type": "linear",
         "zero": true
        },
        {
         "domain": {
          "data": "table",
          "field": "area_type"
         },
         "name": "color",
         "range": [
          "#3182bd",
          "#97c6e1",
          "#acacac"
         ],
         "type": "ordinal"
        }
       ],
       "schema": "https://vega.github.io/schema/vega/v5.json",
       "title": "Protection of Coral Reefs in GCRMN Regions",
       "width": 300
      },
      "image/png": "[encoded data removed]"
     },
     "metadata": {},
     "output_type": "display_data"
    }
   ],
   "source": [
    "spec=json.loads(\"\"\"\n",
    "{\n",
    "  \"schema\": \"https://vega.github.io/schema/vega/v5.json\",\n",
    "  \"width\": 300,\n",
    "  \"height\": 300,\n",
    "  \"autosize\": {\n",
    "    \"type\": \"pad\",\n",
    "    \"resize\": true,\n",
    "    \"contains\": \"padding\"\n",
    "  },\n",
    "  \"data\": [\n",
    "    {\n",
    "      \"name\": \"table\",\n",
    "      \"url\": \"https://wri-rw.carto.com/api/v2/sql?q=SELECT gcrmn_reg, 'Unprotected' as area_type, area_unprotected AS area_value, area_total, area_unprotected/area_total AS area_fraction FROM ocn_calcs_008a_reefs_mpa_notake_gcrmn UNION ALL SELECT gcrmn_reg, 'Protected' as area_type, area_mpa_only AS area_value, area_total, area_mpa_only/area_total AS area_fraction FROM ocn_calcs_008a_reefs_mpa_notake_gcrmn UNION ALL SELECT gcrmn_reg, 'Fully/Highly Protected' as area_type, area_notake AS area_value, area_total, area_notake/area_total AS area_fraction FROM ocn_calcs_008a_reefs_mpa_notake_gcrmn ORDER BY gcrmn_reg ASC, area_type ASC\",\n",
    "      \"format\": {\n",
    "        \"type\": \"json\",\n",
    "        \"property\": \"rows\"\n",
    "      },\n",
    "      \"transform\": [\n",
    "        {\n",
    "          \"type\": \"stack\",\n",
    "          \"groupby\": [\n",
    "            \"gcrmn_reg\"\n",
    "          ],\n",
    "          \"field\": \"area_value\",\n",
    "          \"as\": [\n",
    "            \"x0\",\n",
    "            \"x1\"\n",
    "          ]\n",
    "        },\n",
    "        {\n",
    "          \"type\": \"formula\",\n",
    "          \"expr\": \"if(datum.area_type=='Unprotected','(Outside of MPA)', if(datum.area_type=='Protected','(Other MPA)', '(No-Take Area)'))\",\n",
    "          \"as\": \"suffix\"\n",
    "        }\n",
    "      ]\n",
    "    }\n",
    "  ],\n",
    "  \"title\": \"Protection of Coral Reefs in GCRMN Regions\",\n",
    "  \"scales\": [\n",
    "    {\n",
    "      \"name\": \"yscale\",\n",
    "      \"type\": \"band\",\n",
    "      \"domain\": {\n",
    "        \"data\": \"table\",\n",
    "        \"field\": \"gcrmn_reg\"\n",
    "      },\n",
    "      \"range\": \"height\",\n",
    "      \"padding\": 0\n",
    "    },\n",
    "    {\n",
    "      \"name\": \"xscale\",\n",
    "      \"type\": \"linear\",\n",
    "      \"domain\": {\n",
    "        \"data\": \"table\",\n",
    "        \"field\": \"area_total\"\n",
    "      },\n",
    "      \"range\": \"width\",\n",
    "      \"round\": true,\n",
    "      \"zero\": true,\n",
    "      \"nice\": true\n",
    "    },\n",
    "    {\n",
    "      \"name\": \"color\",\n",
    "      \"type\": \"ordinal\",\n",
    "      \"domain\": {\n",
    "        \"data\": \"table\",\n",
    "        \"field\": \"area_type\"\n",
    "      },\n",
    "      \"range\": [\n",
    "        \"#3182bd\",\n",
    "        \"#97c6e1\",\n",
    "        \"#acacac\"\n",
    "      ]\n",
    "    }\n",
    "  ],\n",
    "  \"axes\": [{\n",
    "      \"orient\": \"left\",\n",
    "      \"scale\": \"yscale\",\n",
    "      \"tickSize\": 0,\n",
    "      \"labelPadding\": 5,\n",
    "      \"zindex\": 1,\n",
    "      \"encode\": {\n",
    "        \"labels\": {\n",
    "          \"interactive\": true,\n",
    "          \"update\": {\n",
    "            \"text\": {\n",
    "              \"signal\": \"datum.value\"\n",
    "            },\n",
    "            \"fill\": {\n",
    "              \"value\": \"black\"\n",
    "            },\n",
    "            \"angle\": {\n",
    "              \"value\": 0\n",
    "            },\n",
    "            \"align\": {\n",
    "              \"value\": \"right\"\n",
    "            },\n",
    "            \"fontSize\": {\n",
    "              \"value\": \"11\"\n",
    "            },\n",
    "            \"baseline\": {\n",
    "              \"value\": \"middle\"\n",
    "            },\n",
    "            \"dy\": {\n",
    "              \"value\": -2\n",
    "            },\n",
    "            \"dx\": {\n",
    "              \"value\": 0\n",
    "            }\n",
    "          },\n",
    "          \"hover\": {\n",
    "            \"fill\": {\n",
    "              \"value\": \"firebrick\"\n",
    "            }\n",
    "          }\n",
    "        }\n",
    "      }\n",
    "    },\n",
    "    {\n",
    "      \"orient\": \"bottom\",\n",
    "      \"scale\": \"xscale\",\n",
    "      \"title\": \"Area (square kilometers)\",\n",
    "      \"labelOverlap\": \"greedy\",\n",
    "      \"labelSeparation\": 20\n",
    "    }\n",
    "  ],\n",
    "  \"marks\": [\n",
    "    {\n",
    "      \"type\": \"rect\",\n",
    "      \"from\": {\n",
    "        \"data\": \"table\"\n",
    "      },\n",
    "      \"encode\": {\n",
    "        \"enter\": {\n",
    "          \"y\": {\n",
    "            \"scale\": \"yscale\",\n",
    "            \"field\": \"gcrmn_reg\"\n",
    "          },\n",
    "          \"height\": {\n",
    "            \"scale\": \"yscale\",\n",
    "            \"band\": 1,\n",
    "            \"offset\": -6\n",
    "          },\n",
    "          \"x\": {\n",
    "            \"scale\": \"xscale\",\n",
    "            \"field\": \"x0\"\n",
    "          },\n",
    "          \"x2\": {\n",
    "            \"scale\": \"xscale\",\n",
    "            \"field\": \"x1\"\n",
    "          },\n",
    "          \"fill\": {\n",
    "            \"scale\": \"color\",\n",
    "            \"field\": \"area_type\"\n",
    "          },\n",
    "          \"tooltip\": {\n",
    "            \"signal\": \"{title:datum.area_type+' '+datum.suffix,'Region':datum.gcrmn_reg,'Proportion':format(datum.area_fraction, '.1%')}\"\n",
    "          }\n",
    "        },\n",
    "        \"update\": {\n",
    "          \"fillOpacity\": {\n",
    "            \"value\": 1\n",
    "          },\n",
    "          \"fill\": {\n",
    "            \"scale\": \"color\",\n",
    "            \"field\": \"area_type\"\n",
    "          }\n",
    "        },\n",
    "        \"hover\": {\n",
    "          \"fill\": {\n",
    "            \"value\": \"#ddaa99\"\n",
    "          }\n",
    "        }\n",
    "      }\n",
    "    },\n",
    "    {\n",
    "      \"type\": \"text\",\n",
    "      \"from\": {\n",
    "        \"data\": \"table\"\n",
    "      },\n",
    "      \"encode\": {\n",
    "        \"enter\": {\n",
    "          \"x\": {\n",
    "            \"scale\": \"xscale\",\n",
    "            \"field\": \"total_area\",\n",
    "            \"offset\": 2\n",
    "          },\n",
    "          \"y\": {\n",
    "            \"scale\": \"yscale\",\n",
    "            \"field\": \"country\",\n",
    "            \"offset\": 7\n",
    "          },\n",
    "          \"align\": {\n",
    "            \"value\": \"\"\n",
    "          },\n",
    "          \"baseline\": {\n",
    "            \"value\": \"top\"\n",
    "          },\n",
    "          \"text\": {\n",
    "            \"signal\": \"\"\n",
    "          },\n",
    "          \"tooltip\": {\n",
    "            \"signal\": \"'Reefs within national waters inside MPAs'\"\n",
    "          }\n",
    "        }\n",
    "      }\n",
    "    }\n",
    "  ],\n",
    "  \"legends\": [\n",
    "    {\n",
    "      \"title\": [\n",
    "        \"Protection level:\"\n",
    "      ],\n",
    "      \"fill\": \"color\",\n",
    "      \"orient\": \"bottom-right\",\n",
    "      \"encode\": {\n",
    "        \"labels\": {\n",
    "          \"interactive\": true,\n",
    "          \"update\": {\n",
    "            \"fill\": {\n",
    "              \"value\": \"#000000\"\n",
    "            }\n",
    "          },\n",
    "          \"hover\": {\n",
    "            \"fill\": {\n",
    "              \"value\": \"#ddaa99\"\n",
    "            }\n",
    "          }\n",
    "        }\n",
    "      }\n",
    "    }\n",
    "  ]\n",
    "}\n",
    "\"\"\")\n",
    "vegaview=dict(spec)\n",
    "Vega(vegaview)"
   ]
  },
  {
   "cell_type": "markdown",
   "metadata": {},
   "source": [
    "## Regional"
   ]
  },
  {
   "cell_type": "markdown",
   "metadata": {},
   "source": [
    "### SQL\n",
    "Note that regional filtering happens within widget via transform\n",
    "```sql\n",
    "SELECT gcrmn_reg, 'Unprotected' as area_type, area_unprotected AS area_value, area_total, area_unprotected/area_total AS area_fraction\n",
    "FROM ocn_calcs_008a_reefs_mpa_notake_gcrmn\n",
    "UNION ALL\n",
    "SELECT gcrmn_reg, 'Protected' as area_type, area_mpa_only AS area_value, area_total, area_mpa_only/area_total AS area_fraction\n",
    "FROM ocn_calcs_008a_reefs_mpa_notake_gcrmn\n",
    "UNION ALL\n",
    "SELECT gcrmn_reg, 'Fully/Highly Protected' as area_type, area_notake AS area_value, area_total, area_notake/area_total AS area_fraction\n",
    "FROM ocn_calcs_008a_reefs_mpa_notake_gcrmn\n",
    "ORDER BY gcrmn_reg ASC, area_type ASC\n",
    "```"
   ]
  },
  {
   "cell_type": "markdown",
   "metadata": {},
   "source": [
    "### Specification"
   ]
  },
  {
   "cell_type": "code",
   "execution_count": 9,
   "metadata": {
    "tags": []
   },
   "outputs": [
    {
     "data": {
      "application/vnd.vega.v5+json": {
       "autosize": {
        "contains": "padding",
        "resize": true,
        "type": "pad"
       },
       "axes": [
        {
         "encode": {
          "labels": {
           "hover": {
            "fill": {
             "value": "firebrick"
            }
           },
           "interactive": true,
           "update": {
            "align": {
             "value": "right"
            },
            "angle": {
             "value": 0
            },
            "baseline": {
             "value": "middle"
            },
            "dx": {
             "value": 0
            },
            "dy": {
             "value": -2
            },
            "fill": {
             "value": "black"
            },
            "fontSize": {
             "value": "11"
            },
            "text": {
             "signal": ""
            }
           }
          }
         },
         "labelPadding": 5,
         "orient": "left",
         "scale": "yscale",
         "tickSize": 0,
         "zindex": 1
        },
        {
         "grid": true,
         "labelOverlap": "greedy",
         "labelSeparation": 20,
         "orient": "bottom",
         "scale": "xscale",
         "title": "Area (square kilometers)"
        }
       ],
       "data": [
        {
         "format": {
          "property": "rows",
          "type": "json"
         },
         "name": "table",
         "transform": [
          {
           "expr": "datum.gcrmn_reg==region_name",
           "type": "filter"
          },
          {
           "as": [
            "x0",
            "x1"
           ],
           "field": "area_value",
           "groupby": [
            "gcrmn_reg"
           ],
           "type": "stack"
          },
          {
           "as": "suffix",
           "expr": "if(datum.area_type=='Unprotected','(Outside of MPA)', if(datum.area_type=='Protected','(Other MPA)', '(No-Take Area)'))",
           "type": "formula"
          }
         ],
         "url": "https://wri-rw.carto.com/api/v2/sql?q=SELECT gcrmn_reg, 'Unprotected' as area_type, area_unprotected AS area_value, area_total, area_unprotected/area_total AS area_fraction FROM ocn_calcs_008a_reefs_mpa_notake_gcrmn UNION ALL SELECT gcrmn_reg, 'Protected' as area_type, area_mpa_only AS area_value, area_total, area_mpa_only/area_total AS area_fraction FROM ocn_calcs_008a_reefs_mpa_notake_gcrmn UNION ALL SELECT gcrmn_reg, 'Fully/Highly Protected' as area_type, area_notake AS area_value, area_total, area_notake/area_total AS area_fraction FROM ocn_calcs_008a_reefs_mpa_notake_gcrmn ORDER BY gcrmn_reg ASC, area_type ASC"
        }
       ],
       "height": 300,
       "legends": [
        {
         "direction": "horizontal",
         "encode": {
          "labels": {
           "hover": {
            "fill": {
             "value": "#ddaa99"
            }
           },
           "interactive": true,
           "update": {
            "dy": {
             "value": 1
            },
            "fill": {
             "value": "#000000"
            },
            "fontSize": {
             "value": "11"
            }
           }
          }
         },
         "fill": "color",
         "labelBaseline": "middle",
         "orient": "top-right",
         "symbolSize": 100
        }
       ],
       "marks": [
        {
         "encode": {
          "enter": {
           "height": {
            "signal": "2*height/5"
           },
           "tooltip": {
            "signal": "{title:datum.area_type+' '+datum.suffix,'Region':datum.gcrmn_reg,'Proportion':format(datum.area_fraction, '.1%')}"
           },
           "x": {
            "field": "x0",
            "scale": "xscale"
           },
           "x2": {
            "field": "x1",
            "scale": "xscale"
           },
           "yc": {
            "signal": "height/2"
           }
          },
          "hover": {
           "fill": {
            "value": "#ddaa99"
           }
          },
          "update": {
           "fill": {
            "field": "area_type",
            "scale": "color"
           },
           "fillOpacity": {
            "value": 1
           }
          }
         },
         "from": {
          "data": "table"
         },
         "type": "rect"
        },
        {
         "encode": {
          "enter": {
           "align": {
            "value": ""
           },
           "baseline": {
            "value": "top"
           },
           "text": {
            "signal": ""
           },
           "tooltip": {
            "signal": "'Reefs within national waters inside MPAs'"
           },
           "x": {
            "field": "total_area",
            "offset": 2,
            "scale": "xscale"
           },
           "y": {
            "field": "country",
            "offset": 7,
            "scale": "yscale"
           }
          }
         },
         "from": {
          "data": "table"
         },
         "type": "text"
        }
       ],
       "padding": {
        "bottom": 5,
        "left": 2,
        "right": 0,
        "top": 0
       },
       "scales": [
        {
         "domain": {
          "data": "table",
          "field": "gcrmn_reg"
         },
         "name": "yscale",
         "padding": 0,
         "range": "height",
         "type": "band"
        },
        {
         "domain": {
          "data": "table",
          "field": "area_total"
         },
         "name": "xscale",
         "nice": true,
         "range": "width",
         "round": true,
         "type": "linear",
         "zero": true
        },
        {
         "domain": {
          "data": "table",
          "field": "area_type"
         },
         "name": "color",
         "range": [
          "#3182bd",
          "#97c6e1",
          "#acacac"
         ],
         "type": "ordinal"
        }
       ],
       "schema": "https://vega.github.io/schema/vega/v5.json",
       "signals": [
        {
         "bind": {
          "input": "select",
          "name": "GCRMN Region ",
          "options": [
           "Australia",
           "Brazil",
           "Caribbean",
           "East Asia",
           "ETP",
           "Pacific",
           "PERSGA",
           "ROPME",
           "South Asia",
           "WIO"
          ]
         },
         "description": "Name of GCRMN region",
         "name": "region_name",
         "value": "Caribbean"
        }
       ],
       "title": {
        "text": {
         "signal": "'Protection of Coral Reefs in '+region_name"
        }
       },
       "width": 400
      },
      "image/png": "[encoded data removed]"
     },
     "metadata": {},
     "output_type": "display_data"
    }
   ],
   "source": [
    "spec=json.loads(\"\"\"\n",
    "{\n",
    "  \"schema\": \"https://vega.github.io/schema/vega/v5.json\",\n",
    "  \"width\": 300,\n",
    "  \"height\": 300,\n",
    "  \"padding\": {\n",
    "    \"left\": 2, \n",
    "    \"top\": 0, \n",
    "    \"right\": 0, \n",
    "    \"bottom\": 5\n",
    "  },\n",
    "  \"autosize\": {\n",
    "    \"type\": \"pad\",\n",
    "    \"resize\": true,\n",
    "    \"contains\": \"padding\"\n",
    "  },\n",
    "  \"signals\": [\n",
    "    {\n",
    "      \"name\": \"region_name\",\n",
    "      \"description\": \"Name of GCRMN region\",\n",
    "      \"bind\": {\n",
    "        \"input\": \"select\",\n",
    "        \"options\": [\n",
    "          \"Australia\",\n",
    "          \"Brazil\",\n",
    "          \"Caribbean\",\n",
    "          \"East Asia\",\n",
    "          \"ETP\",\n",
    "          \"Pacific\",\n",
    "          \"PERSGA\",\n",
    "          \"ROPME\",\n",
    "          \"South Asia\",\n",
    "          \"WIO\"\n",
    "        ],\n",
    "        \"name\": \"GCRMN Region \"\n",
    "      },\n",
    "      \"value\": \"Caribbean\"\n",
    "    }\n",
    "  ],\n",
    "  \"data\": [\n",
    "    {\n",
    "      \"name\": \"table\",\n",
    "      \"url\": \"https://wri-rw.carto.com/api/v2/sql?q=SELECT gcrmn_reg, 'Unprotected' as area_type, area_unprotected AS area_value, area_total, area_unprotected/area_total AS area_fraction FROM ocn_calcs_008a_reefs_mpa_notake_gcrmn UNION ALL SELECT gcrmn_reg, 'Protected' as area_type, area_mpa_only AS area_value, area_total, area_mpa_only/area_total AS area_fraction FROM ocn_calcs_008a_reefs_mpa_notake_gcrmn UNION ALL SELECT gcrmn_reg, 'Fully/Highly Protected' as area_type, area_notake AS area_value, area_total, area_notake/area_total AS area_fraction FROM ocn_calcs_008a_reefs_mpa_notake_gcrmn ORDER BY gcrmn_reg ASC, area_type ASC\",\n",
    "      \"format\": {\n",
    "        \"type\": \"json\",\n",
    "        \"property\": \"rows\"\n",
    "      },\n",
    "      \"transform\": [\n",
    "        {\n",
    "          \"type\": \"filter\",\n",
    "          \"expr\": \"datum.gcrmn_reg==region_name\"\n",
    "        },\n",
    "        {\n",
    "          \"type\": \"stack\",\n",
    "          \"groupby\": [\n",
    "            \"gcrmn_reg\"\n",
    "          ],\n",
    "          \"field\": \"area_value\",\n",
    "          \"as\": [\n",
    "            \"x0\",\n",
    "            \"x1\"\n",
    "          ]\n",
    "        },\n",
    "        {\n",
    "          \"type\": \"formula\",\n",
    "          \"expr\": \"if(datum.area_type=='Unprotected','(Outside of MPA)', if(datum.area_type=='Protected','(Other MPA)', '(No-Take Area)'))\",\n",
    "          \"as\": \"suffix\"\n",
    "        }\n",
    "      ]\n",
    "    }\n",
    "  ],\n",
    "  \"title\": {\n",
    "    \"text\": \n",
    "      {\"signal\": \"'Protection of Coral Reefs in '+region_name\"}\n",
    "  },\n",
    "  \"scales\": [\n",
    "    {\n",
    "      \"name\": \"yscale\",\n",
    "      \"type\": \"band\",\n",
    "      \"domain\": {\n",
    "        \"data\": \"table\",\n",
    "        \"field\": \"gcrmn_reg\"\n",
    "      },\n",
    "      \"range\": \"height\",\n",
    "      \"padding\": 0\n",
    "    },\n",
    "    {\n",
    "      \"name\": \"xscale\",\n",
    "      \"type\": \"linear\",\n",
    "      \"domain\": {\n",
    "        \"data\": \"table\",\n",
    "        \"field\": \"area_total\"\n",
    "      },\n",
    "      \"range\": \"width\",\n",
    "      \"round\": true,\n",
    "      \"zero\": true,\n",
    "      \"nice\": true\n",
    "    },\n",
    "    {\n",
    "      \"name\": \"color\",\n",
    "      \"type\": \"ordinal\",\n",
    "      \"domain\": {\n",
    "        \"data\": \"table\",\n",
    "        \"field\": \"area_type\"\n",
    "      },\n",
    "      \"range\": [\n",
    "        \"#3182bd\",\n",
    "        \"#97c6e1\",\n",
    "        \"#acacac\"\n",
    "      ]\n",
    "    }\n",
    "  ],\n",
    "  \"axes\": [{\n",
    "      \"orient\": \"left\",\n",
    "      \"scale\": \"yscale\",\n",
    "      \"tickSize\": 0,\n",
    "      \"labelPadding\": 5,\n",
    "      \"zindex\": 1,\n",
    "      \"encode\": {\n",
    "        \"labels\": {\n",
    "          \"interactive\": true,\n",
    "          \"update\": {\n",
    "            \"text\": {\n",
    "              \"signal\": \"\"\n",
    "            },\n",
    "            \"fill\": {\n",
    "              \"value\": \"black\"\n",
    "            },\n",
    "            \"angle\": {\n",
    "              \"value\": 0\n",
    "            },\n",
    "            \"align\": {\n",
    "              \"value\": \"right\"\n",
    "            },\n",
    "            \"fontSize\": {\n",
    "              \"value\": \"11\"\n",
    "            },\n",
    "            \"baseline\": {\n",
    "              \"value\": \"middle\"\n",
    "            },\n",
    "            \"dy\": {\n",
    "              \"value\": -2\n",
    "            },\n",
    "            \"dx\": {\n",
    "              \"value\": 0\n",
    "            }\n",
    "          },\n",
    "          \"hover\": {\n",
    "            \"fill\": {\n",
    "              \"value\": \"firebrick\"\n",
    "            }\n",
    "          }\n",
    "        }\n",
    "      }\n",
    "    },\n",
    "    {\n",
    "      \"orient\": \"bottom\",\n",
    "      \"scale\": \"xscale\",\n",
    "      \"title\": \"Area (square kilometers)\",\n",
    "      \"labelOverlap\": \"greedy\",\n",
    "      \"grid\": true,\n",
    "      \"labelSeparation\": 20\n",
    "    }\n",
    "  ],\n",
    "  \"marks\": [\n",
    "    {\n",
    "      \"type\": \"rect\",\n",
    "      \"from\": {\n",
    "        \"data\": \"table\"\n",
    "      },\n",
    "      \"encode\": {\n",
    "        \"enter\": {\n",
    "          \"yc\": {\n",
    "            \"signal\": \"height/2\"\n",
    "          },\n",
    "          \"height\": {\n",
    "            \"signal\": \"2*height/5\"\n",
    "          },\n",
    "          \"x\": {\n",
    "            \"scale\": \"xscale\",\n",
    "            \"field\": \"x0\"\n",
    "          },\n",
    "          \"x2\": {\n",
    "            \"scale\": \"xscale\",\n",
    "            \"field\": \"x1\"\n",
    "          },\n",
    "          \"tooltip\": {\n",
    "            \"signal\": \"{title:datum.area_type+' '+datum.suffix,'Region':datum.gcrmn_reg,'Proportion':format(datum.area_fraction, '.1%')}\"\n",
    "          }\n",
    "        },\n",
    "        \"update\": {\n",
    "          \"fillOpacity\": {\n",
    "            \"value\": 1\n",
    "          },\n",
    "          \"fill\": {\n",
    "            \"scale\": \"color\",\n",
    "            \"field\": \"area_type\"\n",
    "          }\n",
    "        },\n",
    "        \"hover\": {\n",
    "          \"fill\": {\n",
    "            \"value\": \"#ddaa99\"\n",
    "          }\n",
    "        }\n",
    "      }\n",
    "    }\n",
    "  ],\n",
    "  \"legends\": [\n",
    "    {\n",
    "      \"fill\": \"color\",\n",
    "      \"direction\": \"horizontal\",\n",
    "      \"orient\": \"top-right\",\n",
    "      \"labelBaseline\": \"middle\",\n",
    "      \"encode\": {\n",
    "        \"labels\": {\n",
    "          \"interactive\": true,\n",
    "          \"update\": {\n",
    "            \"fill\": {\n",
    "              \"value\": \"#000000\"\n",
    "            },\n",
    "            \"fontSize\": {\n",
    "              \"value\": \"11\"\n",
    "            },\n",
    "            \"dy\": {\n",
    "              \"value\": 1\n",
    "            }\n",
    "          },\n",
    "          \"hover\": {\n",
    "            \"fill\": {\n",
    "              \"value\": \"#ddaa99\"\n",
    "            }\n",
    "          }\n",
    "        }\n",
    "      }\n",
    "    }\n",
    "  ]\n",
    "}\n",
    "\"\"\")\n",
    "vega_view=dict(spec)\n",
    "vega_view['width']=widget_width\n",
    "vega_view['height']=widget_height\n",
    "Vega(vega_view)"
   ]
  },
  {
   "cell_type": "markdown",
   "metadata": {},
   "source": [
    "---"
   ]
  },
  {
   "cell_type": "markdown",
   "metadata": {},
   "source": [
    "# Specifications - Country/Territory"
   ]
  },
  {
   "cell_type": "markdown",
   "metadata": {},
   "source": [
    "## Global"
   ]
  },
  {
   "cell_type": "markdown",
   "metadata": {},
   "source": [
    "### SQL\n",
    "```sql\n",
    "SELECT iso3, first_territory AS name, 'Unprotected' AS area_type, area_unprotected AS area_value, area_total, area_unprotected/area_total AS area_fraction\n",
    "FROM ocn_calcs_008b_reefs_mpa_notake_territory\n",
    "WHERE iso3 != 'HKG'\n",
    "UNION ALL\n",
    "SELECT iso3, first_territory AS name, 'Protected' AS area_type, area_mpa_only AS area_value, area_total, area_mpa_only/area_total AS area_fraction\n",
    "FROM ocn_calcs_008b_reefs_mpa_notake_territory\n",
    "WHERE iso3 != 'HKG'\n",
    "UNION ALL\n",
    "SELECT iso3, first_territory AS name, 'Fully/Highly Protected' AS area_type, area_notake AS area_value, area_total, area_notake/area_total AS area_fraction\n",
    "FROM ocn_calcs_008b_reefs_mpa_notake_territory\n",
    "WHERE iso3 != 'HKG'\n",
    "ORDER BY area_total DESC, area_type ASC\n",
    "LIMIT 30\n",
    "```"
   ]
  },
  {
   "cell_type": "code",
   "execution_count": 11,
   "metadata": {},
   "outputs": [
    {
     "data": {
      "application/vnd.vega.v5+json": {
       "autosize": {
        "contains": "padding",
        "resize": true,
        "type": "pad"
       },
       "axes": [
        {
         "encode": {
          "labels": {
           "hover": {
            "fill": {
             "value": "firebrick"
            }
           },
           "interactive": true,
           "update": {
            "align": {
             "value": "right"
            },
            "angle": {
             "value": 0
            },
            "baseline": {
             "value": "middle"
            },
            "dx": {
             "value": 0
            },
            "dy": {
             "value": -2
            },
            "fill": {
             "value": "black"
            },
            "fontSize": {
             "value": "11"
            },
            "text": {
             "signal": "datum.value"
            }
           }
          }
         },
         "labelPadding": 5,
         "orient": "left",
         "scale": "yscale",
         "tickSize": 0,
         "zindex": 1
        },
        {
         "labelOverlap": "greedy",
         "labelSeparation": 20,
         "orient": "bottom",
         "scale": "xscale",
         "title": "Area (square kilometers)"
        }
       ],
       "data": [
        {
         "format": {
          "property": "rows",
          "type": "json"
         },
         "name": "table",
         "transform": [
          {
           "as": [
            "x0",
            "x1"
           ],
           "field": "area_value",
           "groupby": [
            "iso3"
           ],
           "type": "stack"
          },
          {
           "as": "suffix",
           "expr": "if(datum.area_type=='Unprotected','(Outside of MPA)', if(datum.area_type=='Protected','(Other MPA)', '(No-Take Area)'))",
           "type": "formula"
          }
         ],
         "url": "https://wri-rw.carto.com/api/v2/sql?q=SELECT iso3, first_territory AS name, 'Unprotected' AS area_type, area_unprotected AS area_value, area_total, area_unprotected/area_total AS area_fraction FROM ocn_calcs_008b_reefs_mpa_notake_territory WHERE iso3 != 'HKG' UNION ALL SELECT iso3, first_territory AS name, 'Protected' AS area_type, area_mpa_only AS area_value, area_total, area_mpa_only/area_total AS area_fraction FROM ocn_calcs_008b_reefs_mpa_notake_territory WHERE iso3 != 'HKG' UNION ALL SELECT iso3, first_territory AS name, 'Fully/Highly Protected' AS area_type, area_notake AS area_value, area_total, area_notake/area_total AS area_fraction FROM ocn_calcs_008b_reefs_mpa_notake_territory WHERE iso3 != 'HKG' ORDER BY area_total DESC, area_type ASC LIMIT 30"
        }
       ],
       "height": 300,
       "legends": [
        {
         "encode": {
          "labels": {
           "hover": {
            "fill": {
             "value": "#ddaa99"
            }
           },
           "interactive": true,
           "update": {
            "fill": {
             "value": "#000000"
            }
           }
          }
         },
         "fill": "color",
         "orient": "bottom-right",
         "title": [
          "Protection level:"
         ]
        }
       ],
       "marks": [
        {
         "encode": {
          "enter": {
           "fill": {
            "field": "area_type",
            "scale": "color"
           },
           "height": {
            "band": 1,
            "offset": -6,
            "scale": "yscale"
           },
           "tooltip": {
            "signal": "{title:datum.area_type+' '+datum.suffix,'Country/Territory':datum.name,'Proportion':format(datum.area_fraction, '.1%')}"
           },
           "x": {
            "field": "x0",
            "scale": "xscale"
           },
           "x2": {
            "field": "x1",
            "scale": "xscale"
           },
           "y": {
            "field": "name",
            "scale": "yscale"
           }
          },
          "hover": {
           "fill": {
            "value": "#ddaa99"
           }
          },
          "update": {
           "fill": {
            "field": "area_type",
            "scale": "color"
           },
           "fillOpacity": {
            "value": 1
           }
          }
         },
         "from": {
          "data": "table"
         },
         "type": "rect"
        },
        {
         "encode": {
          "enter": {
           "align": {
            "value": ""
           },
           "baseline": {
            "value": "top"
           },
           "text": {
            "signal": ""
           },
           "tooltip": {
            "signal": "'Coral reef area within national waters'"
           },
           "x": {
            "field": "total_area",
            "offset": 2,
            "scale": "xscale"
           },
           "y": {
            "field": "name",
            "offset": 7,
            "scale": "yscale"
           }
          }
         },
         "from": {
          "data": "table"
         },
         "type": "text"
        }
       ],
       "scales": [
        {
         "domain": {
          "data": "table",
          "field": "name"
         },
         "name": "yscale",
         "padding": 0,
         "range": "height",
         "type": "band"
        },
        {
         "domain": {
          "data": "table",
          "field": "area_total"
         },
         "name": "xscale",
         "nice": true,
         "range": "width",
         "round": true,
         "type": "linear",
         "zero": true
        },
        {
         "domain": {
          "data": "table",
          "field": "area_type"
         },
         "name": "color",
         "range": [
          "#3182bd",
          "#97c6e1",
          "#acacac"
         ],
         "type": "ordinal"
        }
       ],
       "schema": "https://vega.github.io/schema/vega/v5.json",
       "title": "Protection of Coral Reefs by Country/Territory",
       "width": 300
      },
      "image/png": "[encoded data removed]"
     },
     "metadata": {},
     "output_type": "display_data"
    }
   ],
   "source": [
    "spec=json.loads(\"\"\"\n",
    "{\n",
    "  \"schema\": \"https://vega.github.io/schema/vega/v5.json\",\n",
    "  \"width\": 300,\n",
    "  \"height\": 300,\n",
    "  \"autosize\": {\n",
    "    \"type\": \"pad\",\n",
    "    \"resize\": true,\n",
    "    \"contains\": \"padding\"\n",
    "  },\n",
    "  \"data\": [\n",
    "    {\n",
    "      \"name\": \"table\",\n",
    "      \"url\": \"https://wri-rw.carto.com/api/v2/sql?q=SELECT iso3, first_territory AS name, 'Unprotected' AS area_type, area_unprotected AS area_value, area_total, area_unprotected/area_total AS area_fraction FROM ocn_calcs_008b_reefs_mpa_notake_territory WHERE iso3 != 'HKG' UNION ALL SELECT iso3, first_territory AS name, 'Protected' AS area_type, area_mpa_only AS area_value, area_total, area_mpa_only/area_total AS area_fraction FROM ocn_calcs_008b_reefs_mpa_notake_territory WHERE iso3 != 'HKG' UNION ALL SELECT iso3, first_territory AS name, 'Fully/Highly Protected' AS area_type, area_notake AS area_value, area_total, area_notake/area_total AS area_fraction FROM ocn_calcs_008b_reefs_mpa_notake_territory WHERE iso3 != 'HKG' ORDER BY area_total DESC, area_type ASC LIMIT 30\",\n",
    "      \"format\": {\n",
    "        \"type\": \"json\",\n",
    "        \"property\": \"rows\"\n",
    "      },\n",
    "      \"transform\": [\n",
    "        {\n",
    "          \"type\": \"stack\",\n",
    "          \"groupby\": [\n",
    "            \"iso3\"\n",
    "          ],\n",
    "          \"field\": \"area_value\",\n",
    "          \"as\": [\n",
    "            \"x0\",\n",
    "            \"x1\"\n",
    "          ]\n",
    "        },\n",
    "        {\n",
    "          \"type\": \"formula\",\n",
    "          \"expr\": \"if(datum.area_type=='Unprotected','(Outside of MPA)', if(datum.area_type=='Protected','(Other MPA)', '(No-Take Area)'))\",\n",
    "          \"as\": \"suffix\"\n",
    "        }\n",
    "      ]\n",
    "    }\n",
    "  ],\n",
    "  \"title\": \"Protection of Coral Reefs by Country/Territory\",\n",
    "  \"scales\": [\n",
    "    {\n",
    "      \"name\": \"yscale\",\n",
    "      \"type\": \"band\",\n",
    "      \"domain\": {\n",
    "        \"data\": \"table\",\n",
    "        \"field\": \"name\"\n",
    "      },\n",
    "      \"range\": \"height\",\n",
    "      \"padding\": 0\n",
    "    },\n",
    "    {\n",
    "      \"name\": \"xscale\",\n",
    "      \"type\": \"linear\",\n",
    "      \"domain\": {\n",
    "        \"data\": \"table\",\n",
    "        \"field\": \"area_total\"\n",
    "      },\n",
    "      \"range\": \"width\",\n",
    "      \"round\": true,\n",
    "      \"zero\": true,\n",
    "      \"nice\": true\n",
    "    },\n",
    "    {\n",
    "      \"name\": \"color\",\n",
    "      \"type\": \"ordinal\",\n",
    "      \"domain\": {\n",
    "        \"data\": \"table\",\n",
    "        \"field\": \"area_type\"\n",
    "      },\n",
    "      \"range\": [\n",
    "        \"#3182bd\",\n",
    "        \"#97c6e1\",\n",
    "        \"#acacac\"\n",
    "      ]\n",
    "    }\n",
    "  ],\n",
    "  \"axes\": [{\n",
    "      \"orient\": \"left\",\n",
    "      \"scale\": \"yscale\",\n",
    "      \"tickSize\": 0,\n",
    "      \"labelPadding\": 5,\n",
    "      \"zindex\": 1,\n",
    "      \"encode\": {\n",
    "        \"labels\": {\n",
    "          \"interactive\": true,\n",
    "          \"update\": {\n",
    "            \"text\": {\n",
    "              \"signal\": \"datum.value\"\n",
    "            },\n",
    "            \"fill\": {\n",
    "              \"value\": \"black\"\n",
    "            },\n",
    "            \"angle\": {\n",
    "              \"value\": 0\n",
    "            },\n",
    "            \"align\": {\n",
    "              \"value\": \"right\"\n",
    "            },\n",
    "            \"fontSize\": {\n",
    "              \"value\": \"11\"\n",
    "            },\n",
    "            \"baseline\": {\n",
    "              \"value\": \"middle\"\n",
    "            },\n",
    "            \"dy\": {\n",
    "              \"value\": -2\n",
    "            },\n",
    "            \"dx\": {\n",
    "              \"value\": 0\n",
    "            }\n",
    "          },\n",
    "          \"hover\": {\n",
    "            \"fill\": {\n",
    "              \"value\": \"firebrick\"\n",
    "            }\n",
    "          }\n",
    "        }\n",
    "      }\n",
    "    },\n",
    "    {\n",
    "      \"orient\": \"bottom\",\n",
    "      \"scale\": \"xscale\",\n",
    "      \"title\": \"Area (square kilometers)\",\n",
    "      \"labelOverlap\": \"greedy\",\n",
    "      \"labelSeparation\": 20\n",
    "    }\n",
    "  ],\n",
    "  \"marks\": [\n",
    "    {\n",
    "      \"type\": \"rect\",\n",
    "      \"from\": {\n",
    "        \"data\": \"table\"\n",
    "      },\n",
    "      \"encode\": {\n",
    "        \"enter\": {\n",
    "          \"y\": {\n",
    "            \"scale\": \"yscale\",\n",
    "            \"field\": \"name\"\n",
    "          },\n",
    "          \"height\": {\n",
    "            \"scale\": \"yscale\",\n",
    "            \"band\": 1,\n",
    "            \"offset\": -6\n",
    "          },\n",
    "          \"x\": {\n",
    "            \"scale\": \"xscale\",\n",
    "            \"field\": \"x0\"\n",
    "          },\n",
    "          \"x2\": {\n",
    "            \"scale\": \"xscale\",\n",
    "            \"field\": \"x1\"\n",
    "          },\n",
    "          \"fill\": {\n",
    "            \"scale\": \"color\",\n",
    "            \"field\": \"area_type\"\n",
    "          },\n",
    "          \"tooltip\": {\n",
    "            \"signal\": \"{title:datum.area_type+' '+datum.suffix,'Country/Territory':datum.name,'Proportion':format(datum.area_fraction, '.1%')}\"\n",
    "          }\n",
    "        },\n",
    "        \"update\": {\n",
    "          \"fillOpacity\": {\n",
    "            \"value\": 1\n",
    "          },\n",
    "          \"fill\": {\n",
    "            \"scale\": \"color\",\n",
    "            \"field\": \"area_type\"\n",
    "          }\n",
    "        },\n",
    "        \"hover\": {\n",
    "          \"fill\": {\n",
    "            \"value\": \"#ddaa99\"\n",
    "          }\n",
    "        }\n",
    "      }\n",
    "    },\n",
    "    {\n",
    "      \"type\": \"text\",\n",
    "      \"from\": {\n",
    "        \"data\": \"table\"\n",
    "      },\n",
    "      \"encode\": {\n",
    "        \"enter\": {\n",
    "          \"x\": {\n",
    "            \"scale\": \"xscale\",\n",
    "            \"field\": \"total_area\",\n",
    "            \"offset\": 2\n",
    "          },\n",
    "          \"y\": {\n",
    "            \"scale\": \"yscale\",\n",
    "            \"field\": \"name\",\n",
    "            \"offset\": 7\n",
    "          },\n",
    "          \"align\": {\n",
    "            \"value\": \"\"\n",
    "          },\n",
    "          \"baseline\": {\n",
    "            \"value\": \"top\"\n",
    "          },\n",
    "          \"text\": {\n",
    "            \"signal\": \"\"\n",
    "          },\n",
    "          \"tooltip\": {\n",
    "            \"signal\": \"'Coral reef area within national waters'\"\n",
    "          }\n",
    "        }\n",
    "      }\n",
    "    }\n",
    "  ],\n",
    "  \"legends\": [\n",
    "    {\n",
    "      \"title\": [\n",
    "        \"Protection level:\"\n",
    "      ],\n",
    "      \"fill\": \"color\",\n",
    "      \"orient\": \"bottom-right\",\n",
    "      \"encode\": {\n",
    "        \"labels\": {\n",
    "          \"interactive\": true,\n",
    "          \"update\": {\n",
    "            \"fill\": {\n",
    "              \"value\": \"#000000\"\n",
    "            }\n",
    "          },\n",
    "          \"hover\": {\n",
    "            \"fill\": {\n",
    "              \"value\": \"#ddaa99\"\n",
    "            }\n",
    "          }\n",
    "        }\n",
    "      }\n",
    "    }\n",
    "  ]\n",
    "}\n",
    "\"\"\")\n",
    "vegaview=dict(spec)\n",
    "Vega(vegaview)"
   ]
  },
  {
   "cell_type": "markdown",
   "metadata": {},
   "source": [
    "## Regional - Country/Territory"
   ]
  },
  {
   "cell_type": "markdown",
   "metadata": {},
   "source": [
    "### SQL\n",
    "```sql\n",
    "SELECT iso3, first_territory AS name, 'Unprotected' AS area_type, area_unprotected AS area_value, area_total, area_unprotected/area_total AS area_fraction\n",
    "FROM ocn_calcs_008b_reefs_mpa_notake_territory\n",
    "WHERE iso3 != 'HKG'\n",
    "UNION ALL\n",
    "SELECT iso3, first_territory AS name, 'Protected' AS area_type, area_mpa_only AS area_value, area_total, area_mpa_only/area_total AS area_fraction\n",
    "FROM ocn_calcs_008b_reefs_mpa_notake_territory\n",
    "WHERE iso3 != 'HKG'\n",
    "UNION ALL\n",
    "SELECT iso3, first_territory AS name, 'Fully/Highly Protected' AS area_type, area_notake AS area_value, area_total, area_notake/area_total AS area_fraction\n",
    "FROM ocn_calcs_008b_reefs_mpa_notake_territory\n",
    "WHERE iso3 != 'HKG'\n",
    "ORDER BY area_total DESC, area_type ASC\n",
    "LIMIT 30\n",
    "```"
   ]
  },
  {
   "cell_type": "code",
   "execution_count": 13,
   "metadata": {},
   "outputs": [
    {
     "data": {
      "application/vnd.vega.v5+json": {
       "autosize": {
        "contains": "padding",
        "resize": true,
        "type": "pad"
       },
       "axes": [
        {
         "encode": {
          "labels": {
           "hover": {
            "fill": {
             "value": "firebrick"
            }
           },
           "interactive": true,
           "update": {
            "align": {
             "value": "right"
            },
            "angle": {
             "value": 0
            },
            "baseline": {
             "value": "middle"
            },
            "dx": {
             "value": 0
            },
            "dy": {
             "value": -2
            },
            "fill": {
             "value": "black"
            },
            "fontSize": {
             "value": "11"
            },
            "text": {
             "signal": ""
            }
           }
          }
         },
         "labelPadding": 5,
         "orient": "left",
         "scale": "yscale",
         "tickSize": 0,
         "zindex": 1
        },
        {
         "grid": true,
         "labelOverlap": "greedy",
         "labelSeparation": 20,
         "orient": "bottom",
         "scale": "xscale",
         "title": "Area (square kilometers)"
        }
       ],
       "data": [
        {
         "format": {
          "property": "rows",
          "type": "json"
         },
         "name": "table",
         "transform": [
          {
           "expr": "datum.name==territory_name",
           "type": "filter"
          },
          {
           "as": [
            "x0",
            "x1"
           ],
           "field": "area_value",
           "groupby": [
            "name"
           ],
           "type": "stack"
          },
          {
           "as": "suffix",
           "expr": "if(datum.area_type=='Unprotected','(Outside of MPA)', if(datum.area_type=='Protected','(Other MPA)', '(No-Take Area)'))",
           "type": "formula"
          }
         ],
         "url": "https://wri-rw.carto.com/api/v2/sql?q=SELECT iso3, first_territory AS name, 'Unprotected' AS area_type, area_unprotected AS area_value, area_total, area_unprotected/area_total AS area_fraction FROM ocn_calcs_008b_reefs_mpa_notake_territory WHERE iso3 != 'HKG' UNION ALL SELECT iso3, first_territory AS name, 'Protected' AS area_type, area_mpa_only AS area_value, area_total, area_mpa_only/area_total AS area_fraction FROM ocn_calcs_008b_reefs_mpa_notake_territory WHERE iso3 != 'HKG' UNION ALL SELECT iso3, first_territory AS name, 'Fully/Highly Protected' AS area_type, area_notake AS area_value, area_total, area_notake/area_total AS area_fraction FROM ocn_calcs_008b_reefs_mpa_notake_territory WHERE iso3 != 'HKG' ORDER BY area_total DESC, area_type ASC LIMIT 30"
        }
       ],
       "height": 300,
       "legends": [
        {
         "direction": "horizontal",
         "encode": {
          "labels": {
           "hover": {
            "fill": {
             "value": "#ddaa99"
            }
           },
           "interactive": true,
           "update": {
            "dy": {
             "value": 1
            },
            "fill": {
             "value": "#000000"
            },
            "fontSize": {
             "value": "11"
            }
           }
          }
         },
         "fill": "color",
         "labelBaseline": "middle",
         "orient": "top-right"
        }
       ],
       "marks": [
        {
         "encode": {
          "enter": {
           "height": {
            "signal": "2*height/5"
           },
           "tooltip": {
            "signal": "{title:datum.area_type+' '+datum.suffix,'Country/Territory':territory_name,'Proportion':format(datum.area_fraction, '.1%')}"
           },
           "x": {
            "field": "x0",
            "scale": "xscale"
           },
           "x2": {
            "field": "x1",
            "scale": "xscale"
           },
           "yc": {
            "signal": "height/2"
           }
          },
          "hover": {
           "fill": {
            "value": "#ddaa99"
           }
          },
          "update": {
           "fill": {
            "field": "area_type",
            "scale": "color"
           },
           "fillOpacity": {
            "value": 1
           }
          }
         },
         "from": {
          "data": "table"
         },
         "type": "rect"
        }
       ],
       "padding": {
        "bottom": 5,
        "left": 2,
        "right": 0,
        "top": 0
       },
       "scales": [
        {
         "domain": {
          "data": "table",
          "field": "territory_name"
         },
         "name": "yscale",
         "padding": 0,
         "range": "height",
         "type": "band"
        },
        {
         "domain": {
          "data": "table",
          "field": "area_total"
         },
         "name": "xscale",
         "nice": true,
         "range": "width",
         "round": true,
         "type": "linear",
         "zero": true
        },
        {
         "domain": {
          "data": "table",
          "field": "area_type"
         },
         "name": "color",
         "range": [
          "#3182bd",
          "#97c6e1",
          "#acacac"
         ],
         "type": "ordinal"
        }
       ],
       "schema": "https://vega.github.io/schema/vega/v5.json",
       "signals": [
        {
         "bind": {
          "input": "select",
          "name": "Country/Territory",
          "options": [
           "Australia",
           "Indonesia",
           "Philippines",
           "Papua New Guinea",
           "New Caledonia",
           "Hawaii",
           "Saudi Arabia",
           "Fiji",
           "Micronesia",
           "French Polynesia"
          ]
         },
         "description": "Name of country/territory",
         "name": "territory_name",
         "value": "Australia"
        }
       ],
       "title": {
        "text": {
         "signal": "'Protection of Coral Reefs in '+territory_name"
        }
       },
       "width": 300
      },
      "image/png": "[encoded data removed]"
     },
     "metadata": {},
     "output_type": "display_data"
    }
   ],
   "source": [
    "spec=json.loads(\"\"\"\n",
    "{\n",
    "  \"schema\": \"https://vega.github.io/schema/vega/v5.json\",\n",
    "  \"width\": 300,\n",
    "  \"height\": 300,\n",
    "  \"padding\": {\n",
    "    \"left\": 2, \n",
    "    \"top\": 0, \n",
    "    \"right\": 0, \n",
    "    \"bottom\": 5\n",
    "  },\n",
    "  \"autosize\": {\n",
    "    \"type\": \"pad\",\n",
    "    \"resize\": true,\n",
    "    \"contains\": \"padding\"\n",
    "  },\n",
    "  \"signals\": [\n",
    "    {\n",
    "      \"name\": \"territory_name\",\n",
    "      \"description\": \"Name of country/territory\",\n",
    "      \"bind\": {\n",
    "        \"input\": \"select\",\n",
    "        \"options\": [\n",
    "          \"Australia\",\n",
    "          \"Indonesia\",\n",
    "          \"Philippines\",\n",
    "          \"Papua New Guinea\",\n",
    "          \"New Caledonia\",\n",
    "          \"Hawaii\",\n",
    "          \"Saudi Arabia\",\n",
    "          \"Fiji\",\n",
    "          \"Micronesia\",\n",
    "          \"French Polynesia\"\n",
    "        ],\n",
    "        \"name\": \"Country/Territory\"\n",
    "      },\n",
    "      \"value\": \"Australia\"\n",
    "    }\n",
    "  ],\n",
    "  \"data\": [\n",
    "    {\n",
    "      \"name\": \"table\",\n",
    "      \"url\": \"https://wri-rw.carto.com/api/v2/sql?q=SELECT iso3, first_territory AS name, 'Unprotected' AS area_type, area_unprotected AS area_value, area_total, area_unprotected/area_total AS area_fraction FROM ocn_calcs_008b_reefs_mpa_notake_territory WHERE iso3 != 'HKG' UNION ALL SELECT iso3, first_territory AS name, 'Protected' AS area_type, area_mpa_only AS area_value, area_total, area_mpa_only/area_total AS area_fraction FROM ocn_calcs_008b_reefs_mpa_notake_territory WHERE iso3 != 'HKG' UNION ALL SELECT iso3, first_territory AS name, 'Fully/Highly Protected' AS area_type, area_notake AS area_value, area_total, area_notake/area_total AS area_fraction FROM ocn_calcs_008b_reefs_mpa_notake_territory WHERE iso3 != 'HKG' ORDER BY area_total DESC, area_type ASC LIMIT 30\",\n",
    "      \"format\": {\n",
    "        \"type\": \"json\",\n",
    "        \"property\": \"rows\"\n",
    "      },\n",
    "      \"transform\": [\n",
    "        {\n",
    "          \"type\": \"filter\",\n",
    "          \"expr\": \"datum.name==territory_name\"\n",
    "        },\n",
    "        {\n",
    "          \"type\": \"stack\",\n",
    "          \"groupby\": [\n",
    "            \"name\"\n",
    "          ],\n",
    "          \"field\": \"area_value\",\n",
    "          \"as\": [\n",
    "            \"x0\",\n",
    "            \"x1\"\n",
    "          ]\n",
    "        },\n",
    "        {\n",
    "          \"type\": \"formula\",\n",
    "          \"expr\": \"if(datum.area_type=='Unprotected','(Outside of MPA)', if(datum.area_type=='Protected','(Other MPA)', '(No-Take Area)'))\",\n",
    "          \"as\": \"suffix\"\n",
    "        }\n",
    "      ]\n",
    "    }\n",
    "  ],\n",
    "  \"title\": {\n",
    "    \"text\": \n",
    "      {\"signal\": \"'Protection of Coral Reefs in '+territory_name\"}\n",
    "  },\n",
    "  \"scales\": [\n",
    "    {\n",
    "      \"name\": \"yscale\",\n",
    "      \"type\": \"band\",\n",
    "      \"domain\": {\n",
    "        \"data\": \"table\",\n",
    "        \"field\": \"territory_name\"\n",
    "      },\n",
    "      \"range\": \"height\",\n",
    "      \"padding\": 0\n",
    "    },\n",
    "    {\n",
    "      \"name\": \"xscale\",\n",
    "      \"type\": \"linear\",\n",
    "      \"domain\": {\n",
    "        \"data\": \"table\",\n",
    "        \"field\": \"area_total\"\n",
    "      },\n",
    "      \"range\": \"width\",\n",
    "      \"round\": true,\n",
    "      \"zero\": true,\n",
    "      \"nice\": true\n",
    "    },\n",
    "    {\n",
    "      \"name\": \"color\",\n",
    "      \"type\": \"ordinal\",\n",
    "      \"domain\": {\n",
    "        \"data\": \"table\",\n",
    "        \"field\": \"area_type\"\n",
    "      },\n",
    "      \"range\": [\n",
    "        \"#3182bd\",\n",
    "        \"#97c6e1\",\n",
    "        \"#acacac\"\n",
    "      ]\n",
    "    }\n",
    "  ],\n",
    "  \"axes\": [{\n",
    "      \"orient\": \"left\",\n",
    "      \"scale\": \"yscale\",\n",
    "      \"tickSize\": 0,\n",
    "      \"labelPadding\": 5,\n",
    "      \"zindex\": 1,\n",
    "      \"encode\": {\n",
    "        \"labels\": {\n",
    "          \"interactive\": true,\n",
    "          \"update\": {\n",
    "            \"text\": {\n",
    "              \"signal\": \"\"\n",
    "            },\n",
    "            \"fill\": {\n",
    "              \"value\": \"black\"\n",
    "            },\n",
    "            \"angle\": {\n",
    "              \"value\": 0\n",
    "            },\n",
    "            \"align\": {\n",
    "              \"value\": \"right\"\n",
    "            },\n",
    "            \"fontSize\": {\n",
    "              \"value\": \"11\"\n",
    "            },\n",
    "            \"baseline\": {\n",
    "              \"value\": \"middle\"\n",
    "            },\n",
    "            \"dy\": {\n",
    "              \"value\": -2\n",
    "            },\n",
    "            \"dx\": {\n",
    "              \"value\": 0\n",
    "            }\n",
    "          },\n",
    "          \"hover\": {\n",
    "            \"fill\": {\n",
    "              \"value\": \"firebrick\"\n",
    "            }\n",
    "          }\n",
    "        }\n",
    "      }\n",
    "    },\n",
    "    {\n",
    "      \"orient\": \"bottom\",\n",
    "      \"scale\": \"xscale\",\n",
    "      \"title\": \"Area (square kilometers)\",\n",
    "      \"labelOverlap\": \"greedy\",\n",
    "      \"grid\": true,\n",
    "      \"labelSeparation\": 20\n",
    "    }\n",
    "  ],\n",
    "  \"marks\": [\n",
    "    {\n",
    "      \"type\": \"rect\",\n",
    "      \"from\": {\n",
    "        \"data\": \"table\"\n",
    "      },\n",
    "      \"encode\": {\n",
    "        \"enter\": {\n",
    "          \"yc\": {\n",
    "            \"signal\": \"height/2\"\n",
    "          },\n",
    "          \"height\": {\n",
    "            \"signal\": \"2*height/5\"\n",
    "          },\n",
    "          \"x\": {\n",
    "            \"scale\": \"xscale\",\n",
    "            \"field\": \"x0\"\n",
    "          },\n",
    "          \"x2\": {\n",
    "            \"scale\": \"xscale\",\n",
    "            \"field\": \"x1\"\n",
    "          },\n",
    "          \"tooltip\": {\n",
    "            \"signal\": \"{title:datum.area_type+' '+datum.suffix,'Country/Territory':territory_name,'Proportion':format(datum.area_fraction, '.1%')}\"\n",
    "          }\n",
    "        },\n",
    "        \"update\": {\n",
    "          \"fillOpacity\": {\n",
    "            \"value\": 1\n",
    "          },\n",
    "          \"fill\": {\n",
    "            \"scale\": \"color\",\n",
    "            \"field\": \"area_type\"\n",
    "          }\n",
    "        },\n",
    "        \"hover\": {\n",
    "          \"fill\": {\n",
    "            \"value\": \"#ddaa99\"\n",
    "          }\n",
    "        }\n",
    "      }\n",
    "    }\n",
    "  ],\n",
    "  \"legends\": [\n",
    "    {\n",
    "      \"fill\": \"color\",\n",
    "      \"direction\": \"horizontal\",\n",
    "      \"orient\": \"top-right\",\n",
    "      \"labelBaseline\": \"middle\",\n",
    "      \"encode\": {\n",
    "        \"labels\": {\n",
    "          \"interactive\": true,\n",
    "          \"update\": {\n",
    "            \"fill\": {\n",
    "              \"value\": \"#000000\"\n",
    "            },\n",
    "            \"fontSize\": {\n",
    "              \"value\": \"11\"\n",
    "            },\n",
    "            \"dy\": {\n",
    "              \"value\": 1\n",
    "            }\n",
    "          },\n",
    "          \"hover\": {\n",
    "            \"fill\": {\n",
    "              \"value\": \"#ddaa99\"\n",
    "            }\n",
    "          }\n",
    "        }\n",
    "      }\n",
    "    }\n",
    "  ]\n",
    "}\n",
    "\"\"\")\n",
    "vegaview=dict(spec)\n",
    "Vega(vegaview)"
   ]
  }
 ],
 "metadata": {
  "kernelspec": {
   "display_name": "rw",
   "language": "python",
   "name": "rw"
  },
  "language_info": {
   "codemirror_mode": {
    "name": "ipython",
    "version": 3
   },
   "file_extension": ".py",
   "mimetype": "text/x-python",
   "name": "python",
   "nbconvert_exporter": "python",
   "pygments_lexer": "ipython3",
   "version": "3.7.10"
  }
 },
 "nbformat": 4,
 "nbformat_minor": 4
}
