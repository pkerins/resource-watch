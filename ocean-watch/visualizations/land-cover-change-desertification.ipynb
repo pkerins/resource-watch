{
 "cells": [
  {
   "cell_type": "markdown",
   "id": "c74dcce6",
   "metadata": {},
   "source": [
    "# Land Cover Change - Desertification\n",
    "Change in land cover class (as defined by [Copernicus Global Land Cover](https://lcviewer.vito.be/about)): natural land turning into bare ground. Disaggregated by original type/grouping: Forest, Other Vegetation, Wetland, Cropland.  \n",
    "\n",
    "Note that this is a parameterized widget; the specification passed to the API will not be renderable without the geostore identifier being inserted.\n",
    "\n",
    "_Author: Peter Kerins_  \n",
    "_Created: 11 Jun 2021_  \n",
    "_Environment: jupyterlab_  "
   ]
  },
  {
   "cell_type": "markdown",
   "id": "994cd6d5",
   "metadata": {},
   "source": [
    "## Style\n",
    "- Vega chart\n",
    "- Ocean Watch country page - parameterized chart\n",
    "- Time series\n",
    "- Stacked bar"
   ]
  },
  {
   "cell_type": "markdown",
   "id": "d9199c08",
   "metadata": {},
   "source": [
    "## Data\n",
    "Surface areas [calculated on Google Earth Engine](https://code.earthengine.google.com/1a106a75689826e6bf7283b7d7c7f6f5); outputs combined and restructured via [Python script](../analysis/land-cover-change-structuring.py).  \n",
    "Carto: [ow_widget_territory](https://resourcewatch.carto.com/u/wri-rw/dataset/ow_widget_territory) (master table for all country widgets on Ocean Watch)    "
   ]
  },
  {
   "cell_type": "markdown",
   "id": "fe69141f",
   "metadata": {},
   "source": [
    "## Preparation"
   ]
  },
  {
   "cell_type": "code",
   "execution_count": 1,
   "id": "8ecb16a5",
   "metadata": {
    "jupyter": {
     "source_hidden": true
    }
   },
   "outputs": [],
   "source": [
    "import json\n",
    "from vega import Vega\n",
    "from IPython.display import display"
   ]
  },
  {
   "cell_type": "code",
   "execution_count": 2,
   "id": "25614ed5",
   "metadata": {
    "jupyter": {
     "source_hidden": true
    }
   },
   "outputs": [],
   "source": [
    "def Vega(spec):\n",
    "    bundle = {}\n",
    "    bundle['application/vnd.vega.v5+json'] = spec\n",
    "    display(bundle, raw=True)"
   ]
  },
  {
   "cell_type": "code",
   "execution_count": 3,
   "id": "3a5c4924",
   "metadata": {
    "jupyter": {
     "source_hidden": true
    },
    "tags": []
   },
   "outputs": [],
   "source": [
    "widget_width = 400\n",
    "widget_height = 300"
   ]
  },
  {
   "cell_type": "markdown",
   "id": "5a685cff",
   "metadata": {},
   "source": [
    "# Widget"
   ]
  },
  {
   "cell_type": "markdown",
   "id": "5b4a6ba9",
   "metadata": {},
   "source": [
    "## Demo Query\n",
    "`gid_0 ILIKE <iso3>` used as stand-in for parameterized `geostore_id={{geostore_id}}` in production version\n",
    "```sql\n",
    "SELECT gid_0, name_0, variable, date, value, unit \n",
    "FROM ow_widget_territory\n",
    "WHERE widget ILIKE 'land cover change: desertification'\n",
    "AND gid_0 ILIKE 'BRA'\n",
    "ORDER BY gid_0 ASC, date ASC, variable DESC\n",
    "```"
   ]
  },
  {
   "cell_type": "markdown",
   "id": "5eb1f162",
   "metadata": {},
   "source": [
    "## Parameterized Query\n",
    "```sql\n",
    "SELECT territory.gid_0, territory.name_0, territory.variable, territory.date, territory.value \n",
    "FROM ow_widget_territory territory\n",
    "LEFT OUTER JOIN gadm36_0 gadm ON territory.gid_0 = gadm.gid_0\n",
    "WHERE territory.widget ILIKE 'land cover change: desertification'\n",
    "AND gadm.gid_0 ILIKE '{{geostore_id}}'\n",
    "ORDER BY territory.gid_0 ASC, territory.date ASC, territory.variable DESC\n",
    "```"
   ]
  },
  {
   "cell_type": "markdown",
   "id": "badb2729",
   "metadata": {},
   "source": [
    "## Specification\n",
    "Code presented in notebook is already written for RW (rather than standard Vega). This does not extent to parameterization."
   ]
  },
  {
   "cell_type": "code",
   "execution_count": 4,
   "id": "aa31b43f",
   "metadata": {},
   "outputs": [
    {
     "data": {
      "application/vnd.vega.v5+json": {
       "autosize": {
        "contains": "padding",
        "resize": true,
        "type": "pad"
       },
       "axes": [
        {
         "encode": {
          "labels": {
           "enter": {},
           "hover": {
            "fill": {
             "value": "firebrick"
            }
           },
           "interactive": true,
           "update": {
            "align": {
             "value": "right"
            },
            "baseline": {
             "value": "middle"
            },
            "dx": {
             "value": 4
            }
           }
          }
         },
         "orient": "left",
         "scale": "yscale",
         "title": "Area (sq. km)"
        },
        {
         "encode": {
          "labels": {
           "enter": {},
           "hover": {
            "fill": {
             "value": "black"
            }
           },
           "interactive": true,
           "update": {
            "fill": {
             "value": "#717171"
            }
           }
          }
         },
         "labelPadding": 4,
         "orient": "bottom",
         "scale": "xscale",
         "tickSize": 0,
         "zindex": 1
        }
       ],
       "data": [
        {
         "format": {
          "property": "rows",
          "type": "json"
         },
         "name": "table",
         "transform": [
          {
           "field": "value",
           "groupby": [
            "gid_0",
            "date"
           ],
           "type": "stack"
          },
          {
           "as": "alias",
           "expr": "(datum.variable=='cropBare' ? 'Crop' : (datum.variable=='forestBare' ? 'Forest' : (datum.variable=='vegBare' ? 'Vegetation' : 'Wetland')))",
           "type": "formula"
          }
         ],
         "url": "https://wri-rw.carto.com/api/v2/sql?q=SELECT gid_0, name_0, variable, date, value, unit FROM ow_widget_territory WHERE widget ILIKE %27land cover change: desertification%27 AND gid_0 ILIKE %27BRA%27 ORDER BY gid_0 ASC, date ASC, variable DESC"
        }
       ],
       "height": 300,
       "interaction_config": [
        {
         "config": {
          "fields": [
           {
            "column": "alias",
            "property": "Land cover type",
            "type": "string"
           },
           {
            "column": "value",
            "format": ",.1f",
            "property": "Area (sq. km)",
            "type": "number"
           }
          ]
         },
         "name": "tooltip"
        }
       ],
       "legends": [
        {
         "fill": "color",
         "orient": "right",
         "title": [
          "Land cover",
          "changed to",
          "bare ground"
         ]
        }
       ],
       "marks": [
        {
         "encode": {
          "enter": {
           "fill": {
            "field": "alias",
            "scale": "color"
           },
           "width": {
            "band": 1,
            "scale": "xscale"
           },
           "x": {
            "field": "date",
            "scale": "xscale"
           },
           "y": {
            "field": "y0",
            "scale": "yscale"
           },
           "y2": {
            "field": "y1",
            "scale": "yscale"
           }
          },
          "hover": {
           "fillOpacity": {
            "value": 0.5
           }
          },
          "update": {
           "fillOpacity": {
            "value": 1
           }
          }
         },
         "from": {
          "data": "table"
         },
         "name": "bars",
         "type": "rect"
        }
       ],
       "scales": [
        {
         "domain": {
          "data": "table",
          "field": "date"
         },
         "name": "xscale",
         "padding": 0.2,
         "range": "width",
         "type": "band"
        },
        {
         "domain": {
          "data": "table",
          "field": "y1"
         },
         "name": "yscale",
         "nice": true,
         "range": "height",
         "round": true,
         "type": "linear",
         "zero": true
        },
        {
         "domain": [
          "Crop",
          "Forest",
          "Vegetation",
          "Wetland"
         ],
         "name": "color",
         "range": [
          "#F096FF",
          "#006400",
          "#FFBB22",
          "#0096A0"
         ],
         "type": "ordinal"
        }
       ],
       "signals": [
        {
         "name": "hover",
         "on": [
          {
           "events": "@cell:mouseover",
           "update": "datum"
          },
          {
           "events": "@cell:mouseout",
           "update": "null"
          }
         ],
         "value": null
        }
       ],
       "width": 400
      },
      "image/png": "[encoded data removed]"
     },
     "metadata": {},
     "output_type": "display_data"
    }
   ],
   "source": [
    "spec=json.loads(\"\"\"\n",
    "{\n",
    "  \"width\": 300,\n",
    "  \"height\": 300,\n",
    "  \"autosize\": {\"type\": \"pad\", \"resize\": true, \"contains\": \"padding\"},\n",
    "  \"signals\": [\n",
    "    {\n",
    "      \"name\": \"hover\",\n",
    "      \"value\": null,\n",
    "      \"on\": [\n",
    "        {\"events\": \"@cell:mouseover\", \"update\": \"datum\"},\n",
    "        {\"events\": \"@cell:mouseout\", \"update\": \"null\"}\n",
    "      ]\n",
    "    }\n",
    "  ],\n",
    "  \"data\": [\n",
    "    {\n",
    "      \"name\": \"table\",\n",
    "      \"url\": \"https://wri-rw.carto.com/api/v2/sql?q=SELECT gid_0, name_0, variable, date, value, unit FROM ow_widget_territory WHERE widget ILIKE %27land cover change: desertification%27 AND gid_0 ILIKE %27BRA%27 ORDER BY gid_0 ASC, date ASC, variable DESC\",\n",
    "      \"format\": {\n",
    "        \"type\": \"json\", \"property\": \"rows\"\n",
    "      },\n",
    "      \"transform\": [\n",
    "        {\n",
    "          \"type\": \"stack\",\n",
    "          \"groupby\": [\"gid_0\",\"date\"],\n",
    "          \"field\": \"value\"\n",
    "        },\n",
    "        {\n",
    "          \"type\": \"formula\",\n",
    "          \"expr\": \"(datum.variable=='cropBare' ? 'Crop' : (datum.variable=='forestBare' ? 'Forest' : (datum.variable=='vegBare' ? 'Vegetation' : 'Wetland')))\",\n",
    "          \"as\": \"alias\"\n",
    "        }\n",
    "      ]\n",
    "    }\n",
    "  ],\n",
    "  \"scales\": [\n",
    "    {\n",
    "      \"name\": \"xscale\",\n",
    "      \"type\": \"band\",\n",
    "      \"domain\": {\"data\": \"table\", \"field\": \"date\"},\n",
    "      \"range\": \"width\",\n",
    "      \"padding\": 0.2\n",
    "    },\n",
    "    {\n",
    "      \"name\": \"yscale\",\n",
    "      \"type\": \"linear\",\n",
    "      \"domain\": {\"data\": \"table\", \"field\": \"y1\"},\n",
    "      \"range\": \"height\",\n",
    "      \"round\": true,\n",
    "      \"zero\": true,\n",
    "      \"nice\": true\n",
    "    },\n",
    "    {\n",
    "      \"name\": \"color\",\n",
    "      \"type\": \"ordinal\",\n",
    "      \"domain\": [\n",
    "        \"Crop\",\n",
    "        \"Forest\",\n",
    "        \"Vegetation\",\n",
    "        \"Wetland\"\n",
    "      ],\n",
    "      \"range\": [\n",
    "        \"#F096FF\",\n",
    "        \"#006400\",\n",
    "        \"#FFBB22\",\n",
    "        \"#0096A0\"\n",
    "      ]\n",
    "    }\n",
    "  ],\n",
    "  \"axes\": [\n",
    "    {\n",
    "      \"orient\": \"left\",\n",
    "      \"scale\": \"yscale\",\n",
    "      \"title\": \"Area (sq. km)\",\n",
    "      \"encode\": {\n",
    "        \"labels\": {\n",
    "          \"interactive\": true,\n",
    "          \"enter\": {\n",
    "          },\n",
    "          \"update\": {\n",
    "            \"align\": {\"value\": \"right\"},\n",
    "            \"baseline\": {\"value\": \"middle\"},\n",
    "            \"dx\": {\"value\": 4},\n",
    "            \"fill\": {\"value\": \"#717171\"}\n",
    "          },\n",
    "          \"hover\": {\"fill\": {\"value\": \"firebrick\"}}\n",
    "        }\n",
    "      }\n",
    "    },\n",
    "    {\n",
    "      \"orient\": \"bottom\",\n",
    "      \"scale\": \"xscale\",\n",
    "      \"tickSize\": 0,\n",
    "      \"labelPadding\": 4,\n",
    "      \"zindex\": 1,\n",
    "      \"encode\": {\n",
    "        \"labels\": {\n",
    "          \"interactive\": true,\n",
    "          \"enter\": {\n",
    "          },\n",
    "          \"update\": {\n",
    "            \"fill\": {\"value\": \"#717171\"}\n",
    "          },\n",
    "          \"hover\": {\n",
    "            \"fill\": {\n",
    "              \"value\": \"black\"\n",
    "            }\n",
    "          }\n",
    "        }\n",
    "      }\n",
    "    }\n",
    "  ],\n",
    "  \"marks\": [\n",
    "    {\n",
    "      \"name\": \"bars\",\n",
    "      \"from\": {\"data\": \"table\"},\n",
    "      \"type\": \"rect\",\n",
    "      \"encode\": {\n",
    "        \"enter\": {\n",
    "          \"x\": {\"scale\": \"xscale\", \"field\": \"date\"},\n",
    "          \"width\": {\"scale\": \"xscale\", \"band\": 1},\n",
    "          \"y\": {\"scale\": \"yscale\", \"field\": \"y0\"},\n",
    "          \"y2\": {\"scale\": \"yscale\", \"field\": \"y1\"},\n",
    "          \"fill\": {\"scale\": \"color\", \"field\": \"alias\"}\n",
    "        },\n",
    "        \"hover\": {\"fillOpacity\": {\"value\": 0.5}},\n",
    "        \"update\": {\"fillOpacity\": {\"value\": 1}}\n",
    "      }\n",
    "    }\n",
    "  ],\n",
    "  \"legends\": [\n",
    "    {\n",
    "      \"title\": [\"Land cover\", \"changed to\", \"bare ground\"],\n",
    "      \"fill\": \"color\",\n",
    "      \"orient\": \"right\"\n",
    "    }\n",
    "  ],\n",
    "  \"interaction_config\": [\n",
    "    {\n",
    "      \"name\": \"tooltip\",\n",
    "      \"config\": {\n",
    "        \"fields\": [\n",
    "          {\n",
    "            \"column\": \"alias\",\n",
    "            \"property\": \"Land cover type\",\n",
    "            \"type\": \"string\"\n",
    "          },\n",
    "          {\n",
    "            \"column\": \"value\",\n",
    "            \"property\": \"Area (sq. km)\",\n",
    "            \"type\": \"number\",\n",
    "            \"format\": \",.1f\"\n",
    "          }\n",
    "        ]\n",
    "      }\n",
    "    }\n",
    "  ]\n",
    "}\n",
    "\"\"\")\n",
    "vega_view=dict(spec)\n",
    "vega_view['width']=widget_width\n",
    "vega_view['height']=widget_height\n",
    "Vega(vega_view)"
   ]
  },
  {
   "cell_type": "markdown",
   "id": "c65f913c",
   "metadata": {},
   "source": [
    "# RW API\n",
    "Parent dataset [soc.104.rw0 Global Land Cover](https://resourcewatch.org/data/explore/Global-Land-Cover-UN-FAO-LCCS-Classification) ([Admin](https://resourcewatch.org/admin/data/datasets/b2f00f99-46ed-43e6-a7a1-a5809d9369d4/edit))    \n",
    "[API ID](https://api.resourcewatch.org/v1/dataset/b2f00f99-46ed-43e6-a7a1-a5809d9369d4/) `b2f00f99-46ed-43e6-a7a1-a5809d9369d4`  \n",
    "[Widgets](https://api.resourcewatch.org/v1/dataset/b2f00f99-46ed-43e6-a7a1-a5809d9369d4/widget)"
   ]
  },
  {
   "cell_type": "markdown",
   "id": "e34e112c",
   "metadata": {},
   "source": [
    "Widgets created via [widget scripts](https://github.com/resource-watch/data-team-tools/tree/master/advanced_widget_writer).  "
   ]
  },
  {
   "cell_type": "markdown",
   "id": "87bd1bb7",
   "metadata": {},
   "source": [
    "## Demo: Brazil"
   ]
  },
  {
   "cell_type": "code",
   "execution_count": 2,
   "id": "a4bd99ae",
   "metadata": {},
   "outputs": [],
   "source": [
    "dataset_id = 'b2f00f99-46ed-43e6-a7a1-a5809d9369d4'\n",
    "name = 'Land Cover Change in Brazil, 2015–2019: Desertification'\n",
    "description = 'Area of land that transitioned to bare ground, year on year and disaggregated by starting land cover type'"
   ]
  },
  {
   "cell_type": "markdown",
   "id": "b2a4d22c",
   "metadata": {},
   "source": [
    "- [Brazil](https://api.resourcewatch.org/v1/widget/a0663e71-5645-4bbe-9801-e91914c0a167?env=production) `a0663e71-5645-4bbe-9801-e91914c0a167`  "
   ]
  },
  {
   "cell_type": "markdown",
   "id": "a3f214c5",
   "metadata": {},
   "source": [
    "## Parameterized Version"
   ]
  },
  {
   "cell_type": "code",
   "execution_count": 2,
   "id": "ccea7cf7",
   "metadata": {},
   "outputs": [],
   "source": [
    "dataset_id = 'b2f00f99-46ed-43e6-a7a1-a5809d9369d4'\n",
    "name = 'Desertification, 2015–2019'\n",
    "description = 'Area of land that transitioned to bare ground, year on year and disaggregated by starting land cover type'"
   ]
  },
  {
   "cell_type": "markdown",
   "id": "64eac959",
   "metadata": {},
   "source": [
    "- [Country Page](https://api.resourcewatch.org/v1/widget/bd2e07f0-f62a-42df-83e6-65a3ebcdbc29?env=production) `bd2e07f0-f62a-42df-83e6-65a3ebcdbc29`  "
   ]
  }
 ],
 "metadata": {
  "kernelspec": {
   "display_name": "rw",
   "language": "python",
   "name": "rw"
  },
  "language_info": {
   "codemirror_mode": {
    "name": "ipython",
    "version": 3
   },
   "file_extension": ".py",
   "mimetype": "text/x-python",
   "name": "python",
   "nbconvert_exporter": "python",
   "pygments_lexer": "ipython3",
   "version": "3.7.10"
  }
 },
 "nbformat": 4,
 "nbformat_minor": 5
}
