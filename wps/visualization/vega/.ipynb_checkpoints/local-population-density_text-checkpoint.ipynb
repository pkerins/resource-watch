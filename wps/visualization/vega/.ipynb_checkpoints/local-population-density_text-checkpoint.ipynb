{
 "cells": [
  {
   "cell_type": "markdown",
   "metadata": {},
   "source": [
    "Test notebook for first \"text\" Vega visualization of non-series data"
   ]
  },
  {
   "cell_type": "markdown",
   "metadata": {},
   "source": [
    "### Data\n",
    "GHG Emissions <br>\n",
    "https://resourcewatch.carto.com/u/wri-rw/dataset/cli_008_greenhouse_gas_emissions_country_sector_edit_1 <br>"
   ]
  },
  {
   "cell_type": "code",
   "execution_count": 1,
   "metadata": {},
   "outputs": [],
   "source": [
    "import numpy as np\n",
    "import vega\n",
    "import json\n",
    "from vega import Vega"
   ]
  },
  {
   "cell_type": "markdown",
   "metadata": {},
   "source": [
    "### Stand-alone specification\n",
    "(eg for use with https://vega.github.io/editor/#/)"
   ]
  },
  {
   "cell_type": "code",
   "execution_count": 2,
   "metadata": {},
   "outputs": [
    {
     "data": {
      "application/javascript": [
       "const spec = {\"autosize\": {\"contains\": \"padding\", \"type\": \"none\", \"resize\": true}, \"height\": 300, \"signals\": [{\"name\": \"center\", \"update\": \"width / 2\"}], \"width\": 300, \"marks\": [{\"zindex\": 1, \"encode\": {\"enter\": {\"baseline\": {\"value\": \"middle\"}, \"text\": {\"value\": \"GHG Emissions\"}, \"align\": {\"value\": \"center\"}, \"fontWeight\": {\"value\": \"bold\"}, \"fontSize\": {\"value\": 20}, \"y\": {\"signal\": \"40\"}, \"x\": {\"signal\": \"0\"}, \"fill\": {\"value\": \"black\"}}}, \"type\": \"text\", \"name\": \"my-label\"}, {\"zindex\": 1, \"encode\": {\"enter\": {\"baseline\": {\"value\": \"middle\"}, \"text\": {\"value\": \"(tonnes CO2e)\"}, \"align\": {\"value\": \"center\"}, \"fontWeight\": {\"value\": \"normal\"}, \"fontSize\": {\"value\": 18}, \"y\": {\"signal\": \"70\"}, \"x\": {\"signal\": \"0\"}, \"fill\": {\"value\": \"black\"}}}, \"type\": \"text\", \"name\": \"my-units\"}, {\"zindex\": 1, \"from\": {\"data\": \"carto\"}, \"type\": \"text\", \"name\": \"my-value\", \"encode\": {\"enter\": {\"baseline\": {\"value\": \"middle\"}, \"text\": {\"field\": \"formatted\"}, \"align\": {\"value\": \"center\"}, \"fontWeight\": {\"value\": \"bold\"}, \"fontSize\": {\"value\": 80}, \"y\": {\"signal\": \"-20\"}, \"x\": {\"signal\": \"0\"}, \"fill\": {\"value\": \"black\"}}}}], \"encode\": {\"enter\": {\"y\": {\"signal\": \"center\"}, \"x\": {\"signal\": \"center\"}}}, \"$schema\": \"https://vega.github.io/schema/vega/v5.json\", \"data\": [{\"url\": \"https://wri-rw.carto.com/api/v2/sql?q=SELECT year as x,  (total_ghg_emissions_including_land_use_change_and_forestry_mtc*1000000) as y  FROM cli_008_greenhouse_gas_emissions_country_sector_edit_1 WHERE (year = 2000) AND country='World' ORDER BY year ASC\", \"transform\": [{\"expr\": \"format(datum.y,'.2s')\", \"as\": \"formatted\", \"type\": \"formula\"}], \"name\": \"carto\", \"format\": {\"property\": \"rows\", \"type\": \"json\"}}]};\n",
       "const opt = {};\n",
       "const type = \"vega\";\n",
       "const id = \"4f518e6b-2800-4bb5-9ba8-0492a512ea21\";\n",
       "\n",
       "const output_area = this;\n",
       "\n",
       "require([\"nbextensions/jupyter-vega/index\"], function(vega) {\n",
       "  const target = document.createElement(\"div\");\n",
       "  target.id = id;\n",
       "  target.className = \"vega-embed\";\n",
       "\n",
       "  const style = document.createElement(\"style\");\n",
       "  style.textContent = [\n",
       "    \".vega-embed .error p {\",\n",
       "    \"  color: firebrick;\",\n",
       "    \"  font-size: 14px;\",\n",
       "    \"}\",\n",
       "  ].join(\"\\\\n\");\n",
       "\n",
       "  // element is a jQuery wrapped DOM element inside the output area\n",
       "  // see http://ipython.readthedocs.io/en/stable/api/generated/\\\n",
       "  // IPython.display.html#IPython.display.Javascript.__init__\n",
       "  element[0].appendChild(target);\n",
       "  element[0].appendChild(style);\n",
       "\n",
       "  vega.render(\"#\" + id, spec, type, opt, output_area);\n",
       "}, function (err) {\n",
       "  if (err.requireType !== \"scripterror\") {\n",
       "    throw(err);\n",
       "  }\n",
       "});\n"
      ],
      "text/plain": [
       "<vega.vega.Vega at 0xa5a07b8>"
      ]
     },
     "execution_count": 2,
     "metadata": {
      "jupyter-vega": "#4f518e6b-2800-4bb5-9ba8-0492a512ea21"
     },
     "output_type": "execute_result"
    },
    {
     "data": {
      "image/png": "[encoded data removed]"
     },
     "metadata": {
      "jupyter-vega": "#4f518e6b-2800-4bb5-9ba8-0492a512ea21"
     },
     "output_type": "display_data"
    }
   ],
   "source": [
    "specV5=json.loads(\"\"\"\n",
    "{\n",
    "  \"$schema\": \"https://vega.github.io/schema/vega/v5.json\",\n",
    "  \"width\": 300,\n",
    "  \"height\": 300,\n",
    "  \"autosize\": {\n",
    "    \"type\": \"none\",\n",
    "    \"resize\": true,\n",
    "    \"contains\": \"padding\"\n",
    "  },\n",
    "  \"signals\": [\n",
    "    {\"name\": \"center\", \"update\": \"width / 2\"}\n",
    "  ],\n",
    "  \"data\": [\n",
    "    {\n",
    "      \"name\": \"carto\",\n",
    "      \"format\": {\n",
    "        \"property\": \"rows\",\n",
    "        \"type\": \"json\"\n",
    "      },\n",
    "      \"url\": \"https://wri-rw.carto.com/api/v2/sql?q=SELECT year as x,  (total_ghg_emissions_including_land_use_change_and_forestry_mtc*1000000) as y  FROM cli_008_greenhouse_gas_emissions_country_sector_edit_1 WHERE (year = 2000) AND country='World' ORDER BY year ASC\",\n",
    "      \"transform\": [\n",
    "        {\n",
    "          \"type\": \"formula\",\n",
    "          \"as\": \"formatted\",\n",
    "          \"expr\": \"format(datum.y,'.2s')\"\n",
    "        }\n",
    "      ]\n",
    "    }\n",
    "  ],\n",
    "  \"encode\": {\n",
    "    \"enter\": {\n",
    "      \"x\": {\"signal\": \"center\"},\n",
    "      \"y\": {\"signal\": \"center\"}\n",
    "    }\n",
    "  },\n",
    "\n",
    "  \"marks\": [\n",
    "    {\n",
    "      \"type\": \"text\",\n",
    "      \"name\": \"my-label\",\n",
    "      \"zindex\": 1,\n",
    "      \"encode\": {\n",
    "        \"enter\": {\n",
    "          \"x\": {\"signal\": \"0\"},\n",
    "          \"y\": {\"signal\": \"40\"},\n",
    "          \"text\": {\"value\": \"GHG Emissions\"},\n",
    "          \"align\": {\"value\": \"center\"},\n",
    "          \"baseline\": {\"value\": \"middle\"},\n",
    "          \"fill\": {\"value\": \"black\"},\n",
    "          \"fontWeight\": {\"value\": \"bold\"},\n",
    "          \"fontSize\": {\"value\": 20}\n",
    "        }\n",
    "      }\n",
    "    },{\n",
    "      \"type\": \"text\",\n",
    "      \"name\": \"my-units\",\n",
    "      \"zindex\": 1,\n",
    "      \"encode\": {\n",
    "        \"enter\": {\n",
    "          \"x\": {\"signal\": \"0\"},\n",
    "          \"y\": {\"signal\": \"70\"},\n",
    "          \"text\": {\"value\": \"(tonnes CO2e)\"},\n",
    "          \"align\": {\"value\": \"center\"},\n",
    "          \"baseline\": {\"value\": \"middle\"},\n",
    "          \"fill\": {\"value\": \"black\"},\n",
    "          \"fontWeight\": {\"value\": \"normal\"},\n",
    "          \"fontSize\": {\"value\": 18}\n",
    "        }\n",
    "      }\n",
    "    },\n",
    "    {\n",
    "      \"type\": \"text\",\n",
    "      \"name\": \"my-value\",\n",
    "      \"from\": {\"data\": \"carto\"},\n",
    "      \"zindex\": 1,\n",
    "      \"encode\": {\n",
    "        \"enter\": {\n",
    "          \"x\": {\"signal\": \"0\"},\n",
    "          \"y\": {\"signal\": \"-20\"},\n",
    "          \"text\": {\"field\": \"formatted\"},\n",
    "          \"align\": {\"value\": \"center\"},\n",
    "          \"baseline\": {\"value\": \"middle\"},\n",
    "          \"fill\": {\"value\": \"black\"},\n",
    "          \"fontWeight\": {\"value\": \"bold\"},\n",
    "          \"fontSize\": {\"value\": 80}\n",
    "        }\n",
    "      }\n",
    "    }\n",
    "  ]\n",
    "}\n",
    "\"\"\")\n",
    "vega5view=dict(specV5)\n",
    "Vega(vega5view)"
   ]
  }
 ],
 "metadata": {
  "kernelspec": {
   "display_name": "Python 2",
   "language": "python",
   "name": "python2"
  },
  "language_info": {
   "codemirror_mode": {
    "name": "ipython",
    "version": 2
   },
   "file_extension": ".py",
   "mimetype": "text/x-python",
   "name": "python",
   "nbconvert_exporter": "python",
   "pygments_lexer": "ipython2",
   "version": "2.7.14"
  }
 },
 "nbformat": 4,
 "nbformat_minor": 2
}
