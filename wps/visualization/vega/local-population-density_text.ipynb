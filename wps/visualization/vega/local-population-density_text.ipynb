{
 "cells": [
  {
   "cell_type": "markdown",
   "metadata": {},
   "source": [
    "### Data\n",
    "Local population density <br>\n",
    "Dataset ID `141ef6ab-eed9-4081-8066-7be364a48af0` <br>\n",
    "urlTemplate `/api/v1/widget_datapoints/${region.gid_2}/locdensity/` <br>\n"
   ]
  },
  {
   "cell_type": "markdown",
   "metadata": {},
   "source": [
    "Preview region `EGY.14.3_1` <br>\n",
    "url `https://waterpeacesecurity.org/api/v1/widget_datapoints/EGY.14.3_1/locdensity/` <br>"
   ]
  },
  {
   "cell_type": "code",
   "execution_count": 3,
   "metadata": {},
   "outputs": [],
   "source": [
    "import numpy as np\n",
    "import vega\n",
    "import json\n",
    "from vega import Vega"
   ]
  },
  {
   "cell_type": "markdown",
   "metadata": {},
   "source": [
    "### Stand-alone specification\n",
    "(eg for use with https://vega.github.io/editor/#/)"
   ]
  },
  {
   "cell_type": "code",
   "execution_count": 4,
   "metadata": {},
   "outputs": [
    {
     "data": {
      "application/javascript": [
       "const spec = {\"autosize\": {\"contains\": \"padding\", \"type\": \"none\", \"resize\": true}, \"height\": 300, \"signals\": [{\"name\": \"center\", \"update\": \"width / 2\"}], \"width\": 300, \"marks\": [{\"zindex\": 1, \"encode\": {\"enter\": {\"baseline\": {\"value\": \"middle\"}, \"text\": {\"value\": \"Population density\"}, \"align\": {\"value\": \"center\"}, \"fontWeight\": {\"value\": \"bold\"}, \"fontSize\": {\"value\": 20}, \"y\": {\"signal\": \"40\"}, \"x\": {\"signal\": \"0\"}, \"fill\": {\"value\": \"black\"}}}, \"type\": \"text\", \"name\": \"my-label\"}, {\"zindex\": 1, \"encode\": {\"enter\": {\"baseline\": {\"value\": \"middle\"}, \"text\": {\"value\": \"(people/km^2)\"}, \"align\": {\"value\": \"center\"}, \"fontWeight\": {\"value\": \"normal\"}, \"fontSize\": {\"value\": 18}, \"y\": {\"signal\": \"70\"}, \"x\": {\"signal\": \"0\"}, \"fill\": {\"value\": \"black\"}}}, \"type\": \"text\", \"name\": \"my-units\"}, {\"zindex\": 1, \"from\": {\"data\": \"widget_datapoints\"}, \"type\": \"text\", \"name\": \"my-value\", \"encode\": {\"enter\": {\"baseline\": {\"value\": \"middle\"}, \"text\": {\"field\": \"formatted\"}, \"align\": {\"value\": \"center\"}, \"fontWeight\": {\"value\": \"bold\"}, \"fontSize\": {\"value\": 80}, \"y\": {\"signal\": \"-20\"}, \"x\": {\"signal\": \"0\"}, \"fill\": {\"value\": \"black\"}}}}], \"encode\": {\"enter\": {\"y\": {\"signal\": \"center\"}, \"x\": {\"signal\": \"center\"}}}, \"$schema\": \"https://vega.github.io/schema/vega/v5.json\", \"data\": [{\"url\": \"https://waterpeacesecurity.org/api/v1/widget_datapoints/EGY.14.3_1/locdensity/\", \"transform\": [{\"fields\": [\"month_indep\"], \"as\": [\"max_month\"], \"type\": \"joinaggregate\", \"ops\": [\"max\"]}, {\"expr\": \"datum.month_indep == datum.max_month\", \"type\": \"filter\"}, {\"expr\": \"format(datum.locdensity,'.4g')\", \"as\": \"formatted\", \"type\": \"formula\"}], \"name\": \"widget_datapoints\", \"format\": {\"parse\": {\"month_indep\": \"date:'%Y-%m-%d'\"}, \"property\": \"widget_datapoints\", \"type\": \"json\"}}]};\n",
       "const opt = {};\n",
       "const type = \"vega\";\n",
       "const id = \"4261270d-fec8-4951-b70c-4b337b631027\";\n",
       "\n",
       "const output_area = this;\n",
       "\n",
       "require([\"nbextensions/jupyter-vega/index\"], function(vega) {\n",
       "  const target = document.createElement(\"div\");\n",
       "  target.id = id;\n",
       "  target.className = \"vega-embed\";\n",
       "\n",
       "  const style = document.createElement(\"style\");\n",
       "  style.textContent = [\n",
       "    \".vega-embed .error p {\",\n",
       "    \"  color: firebrick;\",\n",
       "    \"  font-size: 14px;\",\n",
       "    \"}\",\n",
       "  ].join(\"\\\\n\");\n",
       "\n",
       "  // element is a jQuery wrapped DOM element inside the output area\n",
       "  // see http://ipython.readthedocs.io/en/stable/api/generated/\\\n",
       "  // IPython.display.html#IPython.display.Javascript.__init__\n",
       "  element[0].appendChild(target);\n",
       "  element[0].appendChild(style);\n",
       "\n",
       "  vega.render(\"#\" + id, spec, type, opt, output_area);\n",
       "}, function (err) {\n",
       "  if (err.requireType !== \"scripterror\") {\n",
       "    throw(err);\n",
       "  }\n",
       "});\n"
      ],
      "text/plain": [
       "<vega.vega.Vega at 0xa602940>"
      ]
     },
     "execution_count": 4,
     "metadata": {
      "jupyter-vega": "#4261270d-fec8-4951-b70c-4b337b631027"
     },
     "output_type": "execute_result"
    },
    {
     "data": {
      "image/png": "[encoded data removed]"
     },
     "metadata": {
      "jupyter-vega": "#4261270d-fec8-4951-b70c-4b337b631027"
     },
     "output_type": "display_data"
    }
   ],
   "source": [
    "specV5=json.loads(\"\"\"\n",
    "{\n",
    "  \"$schema\": \"https://vega.github.io/schema/vega/v5.json\",\n",
    "  \"width\": 300,\n",
    "  \"height\": 300,\n",
    "  \"autosize\": {\n",
    "    \"type\": \"none\",\n",
    "    \"resize\": true,\n",
    "    \"contains\": \"padding\"\n",
    "  },\n",
    "  \"signals\": [\n",
    "    {\"name\": \"center\", \"update\": \"width / 2\"}\n",
    "  ],\n",
    "  \"data\": [\n",
    "    {\n",
    "      \"name\": \"widget_datapoints\",\n",
    "      \"url\": \"https://waterpeacesecurity.org/api/v1/widget_datapoints/EGY.14.3_1/locdensity/\",\n",
    "      \"format\": {\n",
    "        \"property\": \"widget_datapoints\",\n",
    "        \"type\": \"json\",\n",
    "        \"parse\": {\n",
    "          \"month_indep\": \"date:'%Y-%m-%d'\"\n",
    "        }\n",
    "      },\n",
    "      \"transform\": [\n",
    "        {\n",
    "          \"type\": \"joinaggregate\",\n",
    "          \"fields\": [\"month_indep\"],\n",
    "          \"ops\": [\"max\"],\n",
    "          \"as\": [\"max_month\"]\n",
    "        },\n",
    "        {\n",
    "          \"type\": \"filter\",\n",
    "          \"expr\": \"datum.month_indep == datum.max_month\"\n",
    "        },\n",
    "        {\n",
    "          \"type\": \"formula\",\n",
    "          \"as\": \"formatted\",\n",
    "          \"expr\": \"format(datum.locdensity,'.4g')\"\n",
    "        }\n",
    "      ]\n",
    "    }\n",
    "  ],\n",
    "  \"encode\": {\n",
    "    \"enter\": {\n",
    "      \"x\": {\"signal\": \"center\"},\n",
    "      \"y\": {\"signal\": \"center\"}\n",
    "    }\n",
    "  },\n",
    "\n",
    "  \"marks\": [\n",
    "    {\n",
    "      \"type\": \"text\",\n",
    "      \"name\": \"my-label\",\n",
    "      \"zindex\": 1,\n",
    "      \"encode\": {\n",
    "        \"enter\": {\n",
    "          \"x\": {\"signal\": \"0\"},\n",
    "          \"y\": {\"signal\": \"40\"},\n",
    "          \"text\": {\"value\": \"Population density\"},\n",
    "          \"align\": {\"value\": \"center\"},\n",
    "          \"baseline\": {\"value\": \"middle\"},\n",
    "          \"fill\": {\"value\": \"black\"},\n",
    "          \"fontWeight\": {\"value\": \"bold\"},\n",
    "          \"fontSize\": {\"value\": 20}\n",
    "        }\n",
    "      }\n",
    "    },{\n",
    "      \"type\": \"text\",\n",
    "      \"name\": \"my-units\",\n",
    "      \"zindex\": 1,\n",
    "      \"encode\": {\n",
    "        \"enter\": {\n",
    "          \"x\": {\"signal\": \"0\"},\n",
    "          \"y\": {\"signal\": \"70\"},\n",
    "          \"text\": {\"value\": \"(people/km^2)\"},\n",
    "          \"align\": {\"value\": \"center\"},\n",
    "          \"baseline\": {\"value\": \"middle\"},\n",
    "          \"fill\": {\"value\": \"black\"},\n",
    "          \"fontWeight\": {\"value\": \"normal\"},\n",
    "          \"fontSize\": {\"value\": 18}\n",
    "        }\n",
    "      }\n",
    "    },\n",
    "    {\n",
    "      \"type\": \"text\",\n",
    "      \"name\": \"my-value\",\n",
    "      \"from\": {\"data\": \"widget_datapoints\"},\n",
    "      \"zindex\": 1,\n",
    "      \"encode\": {\n",
    "        \"enter\": {\n",
    "          \"x\": {\"signal\": \"0\"},\n",
    "          \"y\": {\"signal\": \"-20\"},\n",
    "          \"text\": {\"field\": \"formatted\"},\n",
    "          \"align\": {\"value\": \"center\"},\n",
    "          \"baseline\": {\"value\": \"middle\"},\n",
    "          \"fill\": {\"value\": \"black\"},\n",
    "          \"fontWeight\": {\"value\": \"bold\"},\n",
    "          \"fontSize\": {\"value\": 80}\n",
    "        }\n",
    "      }\n",
    "    }\n",
    "  ]\n",
    "}\n",
    "\"\"\")\n",
    "vega5view=dict(specV5)\n",
    "Vega(vega5view)"
   ]
  }
 ],
 "metadata": {
  "kernelspec": {
   "display_name": "Python 2",
   "language": "python",
   "name": "python2"
  },
  "language_info": {
   "codemirror_mode": {
    "name": "ipython",
    "version": 2
   },
   "file_extension": ".py",
   "mimetype": "text/x-python",
   "name": "python",
   "nbconvert_exporter": "python",
   "pygments_lexer": "ipython2",
   "version": "2.7.14"
  }
 },
 "nbformat": 4,
 "nbformat_minor": 2
}
